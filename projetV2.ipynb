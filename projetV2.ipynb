{
 "cells": [
  {
   "metadata": {
    "ExecuteTime": {
     "end_time": "2025-06-17T10:12:13.173488Z",
     "start_time": "2025-06-17T10:12:13.170927Z"
    }
   },
   "cell_type": "code",
   "source": [
    "import feedparser\n",
    "import requests\n",
    "import re\n",
    "import pandas as pd\n",
    "import numpy as np\n",
    "import matplotlib.pyplot as plt\n",
    "import seaborn as sns\n",
    "import json"
   ],
   "id": "9c0f3a1a4c7737ac",
   "outputs": [],
   "execution_count": 21
  },
  {
   "metadata": {},
   "cell_type": "markdown",
   "source": [
    "import pandas as pd\n",
    "import numpy as np\n",
    "import matplotlib.pyplot as plt\n",
    "import seaborn as sns\n",
    "import json# Step 1 : Extraction des flux RSS"
   ],
   "id": "82fddcc0f279e8ba"
  },
  {
   "metadata": {
    "ExecuteTime": {
     "end_time": "2025-06-17T10:07:53.857910Z",
     "start_time": "2025-06-17T10:07:53.853787Z"
    }
   },
   "cell_type": "code",
   "source": [
    "def extract_rss_entries():\n",
    "    urls = [\n",
    "        \"https://www.cert.ssi.gouv.fr/avis/feed\",\n",
    "        \"https://www.cert.ssi.gouv.fr/alerte/feed\"\n",
    "    ]\n",
    "    entries = []\n",
    "    for url in urls:\n",
    "        feed = feedparser.parse(url)\n",
    "        for entry in feed.entries:\n",
    "            entries.append({\n",
    "                'id': entry.link.split(\"/\")[-2],\n",
    "                'title': entry.title,\n",
    "                'link': entry.link,\n",
    "                'type': \"Alerte\" if \"alerte\" in url else \"Avis\",\n",
    "                'date': entry.published\n",
    "            })\n",
    "    return entries"
   ],
   "id": "83a7a777f10f1536",
   "outputs": [],
   "execution_count": 14
  },
  {
   "metadata": {
    "ExecuteTime": {
     "end_time": "2025-06-17T10:10:45.848464Z",
     "start_time": "2025-06-17T10:10:45.564498Z"
    }
   },
   "cell_type": "code",
   "source": [
    "rss_entries = extract_rss_entries()\n",
    "print(f\"Nombre d'entrées RSS {len(rss_entries)}\\n\")\n",
    "print(rss_entries)"
   ],
   "id": "ab624e0235c2586c",
   "outputs": [
    {
     "name": "stdout",
     "output_type": "stream",
     "text": [
      "Nombre d'entrées RSS 80\n",
      "\n",
      "[{'id': 'CERTFR-2025-AVI-0392', 'title': 'Multiples vulnérabilités dans Mattermost Server (13 mai 2025)', 'link': 'https://www.cert.ssi.gouv.fr/avis/CERTFR-2025-AVI-0392/', 'type': 'Avis', 'date': 'Tue, 13 May 2025 00:00:00 +0000'}, {'id': 'CERTFR-2025-AVI-0396', 'title': 'Multiples vulnérabilités dans les produits SAP (13 mai 2025)', 'link': 'https://www.cert.ssi.gouv.fr/avis/CERTFR-2025-AVI-0396/', 'type': 'Avis', 'date': 'Tue, 13 May 2025 00:00:00 +0000'}, {'id': 'CERTFR-2025-AVI-0468', 'title': 'Vulnérabilité dans Roundcube (02 juin 2025)', 'link': 'https://www.cert.ssi.gouv.fr/avis/CERTFR-2025-AVI-0468/', 'type': 'Avis', 'date': 'Mon, 02 Jun 2025 00:00:00 +0000'}, {'id': 'CERTFR-2025-AVI-0479', 'title': 'Multiples vulnérabilités dans les produits Cisco (05 juin 2025)', 'link': 'https://www.cert.ssi.gouv.fr/avis/CERTFR-2025-AVI-0479/', 'type': 'Avis', 'date': 'Thu, 05 Jun 2025 00:00:00 +0000'}, {'id': 'CERTFR-2025-AVI-0480', 'title': 'Multiples vulnérabilités dans le noyau Linux de Red Hat (06 juin 2025)', 'link': 'https://www.cert.ssi.gouv.fr/avis/CERTFR-2025-AVI-0480/', 'type': 'Avis', 'date': 'Fri, 06 Jun 2025 00:00:00 +0000'}, {'id': 'CERTFR-2025-AVI-0481', 'title': 'Multiples vulnérabilités dans les produits IBM (06 juin 2025)', 'link': 'https://www.cert.ssi.gouv.fr/avis/CERTFR-2025-AVI-0481/', 'type': 'Avis', 'date': 'Fri, 06 Jun 2025 00:00:00 +0000'}, {'id': 'CERTFR-2025-AVI-0482', 'title': 'Multiples vulnérabilités dans le noyau Linux de SUSE (06 juin 2025)', 'link': 'https://www.cert.ssi.gouv.fr/avis/CERTFR-2025-AVI-0482/', 'type': 'Avis', 'date': 'Fri, 06 Jun 2025 00:00:00 +0000'}, {'id': 'CERTFR-2025-AVI-0483', 'title': 'Vulnérabilité dans Mozilla VPN (10 juin 2025)', 'link': 'https://www.cert.ssi.gouv.fr/avis/CERTFR-2025-AVI-0483/', 'type': 'Avis', 'date': 'Tue, 10 Jun 2025 00:00:00 +0000'}, {'id': 'CERTFR-2025-AVI-0484', 'title': 'Vulnérabilité dans les produits HPE Aruba Networking (10 juin 2025)', 'link': 'https://www.cert.ssi.gouv.fr/avis/CERTFR-2025-AVI-0484/', 'type': 'Avis', 'date': 'Tue, 10 Jun 2025 00:00:00 +0000'}, {'id': 'CERTFR-2025-AVI-0485', 'title': 'Multiples vulnérabilités dans les produits Schneider Electric (10 juin 2025)', 'link': 'https://www.cert.ssi.gouv.fr/avis/CERTFR-2025-AVI-0485/', 'type': 'Avis', 'date': 'Tue, 10 Jun 2025 00:00:00 +0000'}, {'id': 'CERTFR-2025-AVI-0486', 'title': 'Multiples vulnérabilités dans les produits Qnap (10 juin 2025)', 'link': 'https://www.cert.ssi.gouv.fr/avis/CERTFR-2025-AVI-0486/', 'type': 'Avis', 'date': 'Tue, 10 Jun 2025 00:00:00 +0000'}, {'id': 'CERTFR-2025-AVI-0494', 'title': 'Vulnérabilité dans Elastic Kibana (11 juin 2025)', 'link': 'https://www.cert.ssi.gouv.fr/avis/CERTFR-2025-AVI-0494/', 'type': 'Avis', 'date': 'Wed, 11 Jun 2025 00:00:00 +0000'}, {'id': 'CERTFR-2025-AVI-0495', 'title': 'Multiples vulnérabilités dans les produits Adobe (11 juin 2025)', 'link': 'https://www.cert.ssi.gouv.fr/avis/CERTFR-2025-AVI-0495/', 'type': 'Avis', 'date': 'Wed, 11 Jun 2025 00:00:00 +0000'}, {'id': 'CERTFR-2025-AVI-0496', 'title': 'Multiples vulnérabilités dans les produits Fortinet (11 juin 2025)', 'link': 'https://www.cert.ssi.gouv.fr/avis/CERTFR-2025-AVI-0496/', 'type': 'Avis', 'date': 'Wed, 11 Jun 2025 00:00:00 +0000'}, {'id': 'CERTFR-2025-AVI-0497', 'title': 'Vulnérabilité dans les processeurs Intel (11 juin 2025)', 'link': 'https://www.cert.ssi.gouv.fr/avis/CERTFR-2025-AVI-0497/', 'type': 'Avis', 'date': 'Wed, 11 Jun 2025 00:00:00 +0000'}, {'id': 'CERTFR-2025-AVI-0488', 'title': 'Vulnérabilité dans Stormshield Network Security (11 juin 2025)', 'link': 'https://www.cert.ssi.gouv.fr/avis/CERTFR-2025-AVI-0488/', 'type': 'Avis', 'date': 'Wed, 11 Jun 2025 00:00:00 +0000'}, {'id': 'CERTFR-2025-AVI-0493', 'title': 'Multiples vulnérabilités dans les produits Centreon (11 juin 2025)', 'link': 'https://www.cert.ssi.gouv.fr/avis/CERTFR-2025-AVI-0493/', 'type': 'Avis', 'date': 'Wed, 11 Jun 2025 00:00:00 +0000'}, {'id': 'CERTFR-2025-AVI-0489', 'title': 'Multiples vulnérabilités dans Google Chrome (11 juin 2025)', 'link': 'https://www.cert.ssi.gouv.fr/avis/CERTFR-2025-AVI-0489/', 'type': 'Avis', 'date': 'Wed, 11 Jun 2025 00:00:00 +0000'}, {'id': 'CERTFR-2025-AVI-0492', 'title': 'Multiples vulnérabilités dans les produits Siemens (11 juin 2025)', 'link': 'https://www.cert.ssi.gouv.fr/avis/CERTFR-2025-AVI-0492/', 'type': 'Avis', 'date': 'Wed, 11 Jun 2025 00:00:00 +0000'}, {'id': 'CERTFR-2025-AVI-0491', 'title': 'Multiples vulnérabilités dans les produits Mozilla (11 juin 2025)', 'link': 'https://www.cert.ssi.gouv.fr/avis/CERTFR-2025-AVI-0491/', 'type': 'Avis', 'date': 'Wed, 11 Jun 2025 00:00:00 +0000'}, {'id': 'CERTFR-2025-AVI-0487', 'title': 'Multiples vulnérabilités dans les produits SAP (11 juin 2025)', 'link': 'https://www.cert.ssi.gouv.fr/avis/CERTFR-2025-AVI-0487/', 'type': 'Avis', 'date': 'Wed, 11 Jun 2025 00:00:00 +0000'}, {'id': 'CERTFR-2025-AVI-0490', 'title': 'Multiples vulnérabilités dans Ivanti Workspace Control (IWC) (11 juin 2025)', 'link': 'https://www.cert.ssi.gouv.fr/avis/CERTFR-2025-AVI-0490/', 'type': 'Avis', 'date': 'Wed, 11 Jun 2025 00:00:00 +0000'}, {'id': 'CERTFR-2025-AVI-0498', 'title': 'Multiples vulnérabilités dans Microsoft Office (11 juin 2025)', 'link': 'https://www.cert.ssi.gouv.fr/avis/CERTFR-2025-AVI-0498/', 'type': 'Avis', 'date': 'Wed, 11 Jun 2025 00:00:00 +0000'}, {'id': 'CERTFR-2025-AVI-0499', 'title': 'Multiples vulnérabilités dans Microsoft Windows (11 juin 2025)', 'link': 'https://www.cert.ssi.gouv.fr/avis/CERTFR-2025-AVI-0499/', 'type': 'Avis', 'date': 'Wed, 11 Jun 2025 00:00:00 +0000'}, {'id': 'CERTFR-2025-AVI-0500', 'title': 'Vulnérabilité dans Microsoft .Net (11 juin 2025)', 'link': 'https://www.cert.ssi.gouv.fr/avis/CERTFR-2025-AVI-0500/', 'type': 'Avis', 'date': 'Wed, 11 Jun 2025 00:00:00 +0000'}, {'id': 'CERTFR-2025-AVI-0501', 'title': 'Multiples vulnérabilités dans les produits Microsoft (11 juin 2025)', 'link': 'https://www.cert.ssi.gouv.fr/avis/CERTFR-2025-AVI-0501/', 'type': 'Avis', 'date': 'Wed, 11 Jun 2025 00:00:00 +0000'}, {'id': 'CERTFR-2025-AVI-0502', 'title': 'Multiples vulnérabilités dans GitLab (12 juin 2025)', 'link': 'https://www.cert.ssi.gouv.fr/avis/CERTFR-2025-AVI-0502/', 'type': 'Avis', 'date': 'Thu, 12 Jun 2025 00:00:00 +0000'}, {'id': 'CERTFR-2025-AVI-0503', 'title': 'Multiples vulnérabilités dans les produits Mitel (12 juin 2025)', 'link': 'https://www.cert.ssi.gouv.fr/avis/CERTFR-2025-AVI-0503/', 'type': 'Avis', 'date': 'Thu, 12 Jun 2025 00:00:00 +0000'}, {'id': 'CERTFR-2025-AVI-0504', 'title': 'Vulnérabilité dans les produits Moxa (12 juin 2025)', 'link': 'https://www.cert.ssi.gouv.fr/avis/CERTFR-2025-AVI-0504/', 'type': 'Avis', 'date': 'Thu, 12 Jun 2025 00:00:00 +0000'}, {'id': 'CERTFR-2025-AVI-0505', 'title': 'Multiples vulnérabilités dans les produits Palo Alto Networks (12 juin 2025)', 'link': 'https://www.cert.ssi.gouv.fr/avis/CERTFR-2025-AVI-0505/', 'type': 'Avis', 'date': 'Thu, 12 Jun 2025 00:00:00 +0000'}, {'id': 'CERTFR-2025-AVI-0506', 'title': 'Vulnérabilité dans Spring Framework (13 juin 2025)', 'link': 'https://www.cert.ssi.gouv.fr/avis/CERTFR-2025-AVI-0506/', 'type': 'Avis', 'date': 'Fri, 13 Jun 2025 00:00:00 +0000'}, {'id': 'CERTFR-2025-AVI-0507', 'title': 'Multiples vulnérabilités dans Tenable Nessus Agent (13 juin 2025)', 'link': 'https://www.cert.ssi.gouv.fr/avis/CERTFR-2025-AVI-0507/', 'type': 'Avis', 'date': 'Fri, 13 Jun 2025 00:00:00 +0000'}, {'id': 'CERTFR-2025-AVI-0508', 'title': 'Multiples vulnérabilités dans les produits Splunk (13 juin 2025)', 'link': 'https://www.cert.ssi.gouv.fr/avis/CERTFR-2025-AVI-0508/', 'type': 'Avis', 'date': 'Fri, 13 Jun 2025 00:00:00 +0000'}, {'id': 'CERTFR-2025-AVI-0509', 'title': 'Multiples vulnérabilités dans le noyau Linux de SUSE (13 juin 2025)', 'link': 'https://www.cert.ssi.gouv.fr/avis/CERTFR-2025-AVI-0509/', 'type': 'Avis', 'date': 'Fri, 13 Jun 2025 00:00:00 +0000'}, {'id': 'CERTFR-2025-AVI-0510', 'title': 'Multiples vulnérabilités dans le noyau Linux de Red Hat (13 juin 2025)', 'link': 'https://www.cert.ssi.gouv.fr/avis/CERTFR-2025-AVI-0510/', 'type': 'Avis', 'date': 'Fri, 13 Jun 2025 00:00:00 +0000'}, {'id': 'CERTFR-2025-AVI-0511', 'title': 'Multiples vulnérabilités dans les produits Google (13 juin 2025)', 'link': 'https://www.cert.ssi.gouv.fr/avis/CERTFR-2025-AVI-0511/', 'type': 'Avis', 'date': 'Fri, 13 Jun 2025 00:00:00 +0000'}, {'id': 'CERTFR-2025-AVI-0512', 'title': 'Multiples vulnérabilités dans les produits IBM (13 juin 2025)', 'link': 'https://www.cert.ssi.gouv.fr/avis/CERTFR-2025-AVI-0512/', 'type': 'Avis', 'date': 'Fri, 13 Jun 2025 00:00:00 +0000'}, {'id': 'CERTFR-2025-AVI-0513', 'title': 'Multiples vulnérabilités dans Microsoft Edge (16 juin 2025)', 'link': 'https://www.cert.ssi.gouv.fr/avis/CERTFR-2025-AVI-0513/', 'type': 'Avis', 'date': 'Mon, 16 Jun 2025 00:00:00 +0000'}, {'id': 'CERTFR-2025-AVI-0514', 'title': 'Vulnérabilité dans PostgreSQL JDBC (16 juin 2025)', 'link': 'https://www.cert.ssi.gouv.fr/avis/CERTFR-2025-AVI-0514/', 'type': 'Avis', 'date': 'Mon, 16 Jun 2025 00:00:00 +0000'}, {'id': 'CERTFR-2025-AVI-0515', 'title': 'Vulnérabilité dans Grafana (16 juin 2025)', 'link': 'https://www.cert.ssi.gouv.fr/avis/CERTFR-2025-AVI-0515/', 'type': 'Avis', 'date': 'Mon, 16 Jun 2025 00:00:00 +0000'}, {'id': 'CERTFR-2022-ALE-007', 'title': 'Multiples vulnérabilités dans Microsoft Windows (16 septembre 2022)', 'link': 'https://www.cert.ssi.gouv.fr/alerte/CERTFR-2022-ALE-007/', 'type': 'Alerte', 'date': 'Fri, 16 Sep 2022 00:00:00 +0000'}, {'id': 'CERTFR-2022-ALE-008', 'title': '[MaJ] Multiples vulnérabilités dans Microsoft Exchange (30 septembre 2022)', 'link': 'https://www.cert.ssi.gouv.fr/alerte/CERTFR-2022-ALE-008/', 'type': 'Alerte', 'date': 'Fri, 30 Sep 2022 00:00:00 +0000'}, {'id': 'CERTFR-2022-ALE-014', 'title': 'Multiples vulnérabilités dans AMI MegaRAC (16 décembre 2022)', 'link': 'https://www.cert.ssi.gouv.fr/alerte/CERTFR-2022-ALE-014/', 'type': 'Alerte', 'date': 'Fri, 16 Dec 2022 00:00:00 +0000'}, {'id': 'CERTFR-2023-ALE-015', 'title': \"[MàJ] Campagne d'exploitation d'une vulnérabilité affectant VMware ESXi (03 février 2023)\", 'link': 'https://www.cert.ssi.gouv.fr/alerte/CERTFR-2023-ALE-015/', 'type': 'Alerte', 'date': 'Fri, 03 Feb 2023 00:00:00 +0000'}, {'id': 'CERTFR-2023-ALE-001', 'title': 'Vulnérabilité dans Fortinet FortiOS (14 mars 2023)', 'link': 'https://www.cert.ssi.gouv.fr/alerte/CERTFR-2023-ALE-001/', 'type': 'Alerte', 'date': 'Tue, 14 Mar 2023 00:00:00 +0000'}, {'id': 'CERTFR-2023-ALE-002', 'title': '[MàJ] Vulnérabilité dans Microsoft Outlook (15 mars 2023)', 'link': 'https://www.cert.ssi.gouv.fr/alerte/CERTFR-2023-ALE-002/', 'type': 'Alerte', 'date': 'Wed, 15 Mar 2023 00:00:00 +0000'}, {'id': 'CERTFR-2023-ALE-003', 'title': \"[MàJ] Compromission de l'application 3CX Desktop App (31 mars 2023)\", 'link': 'https://www.cert.ssi.gouv.fr/alerte/CERTFR-2023-ALE-003/', 'type': 'Alerte', 'date': 'Fri, 31 Mar 2023 00:00:00 +0000'}, {'id': 'CERTFR-2023-ALE-004', 'title': 'Vulnérabilité dans les produits Fortinet (13 juin 2023)', 'link': 'https://www.cert.ssi.gouv.fr/alerte/CERTFR-2023-ALE-004/', 'type': 'Alerte', 'date': 'Tue, 13 Jun 2023 00:00:00 +0000'}, {'id': 'CERTFR-2023-ALE-005', 'title': \"Synthèse sur l'exploitation d'une vulnérabilité dans MOVEit Transfer (05 juillet 2023)\", 'link': 'https://www.cert.ssi.gouv.fr/alerte/CERTFR-2023-ALE-005/', 'type': 'Alerte', 'date': 'Wed, 05 Jul 2023 00:00:00 +0000'}, {'id': 'CERTFR-2023-ALE-006', 'title': 'Vulnérabilité dans les produits Microsoft (12 juillet 2023)', 'link': 'https://www.cert.ssi.gouv.fr/alerte/CERTFR-2023-ALE-006/', 'type': 'Alerte', 'date': 'Wed, 12 Jul 2023 00:00:00 +0000'}, {'id': 'CERTFR-2023-ALE-007', 'title': '[MàJ] Vulnérabilité dans Zimbra Collaboration Suite (17 juillet 2023)', 'link': 'https://www.cert.ssi.gouv.fr/alerte/CERTFR-2023-ALE-007/', 'type': 'Alerte', 'date': 'Mon, 17 Jul 2023 00:00:00 +0000'}, {'id': 'CERTFR-2023-ALE-008', 'title': '[MàJ] Vulnérabilité dans Citrix NetScaler ADC et NetScaler Gateway (19 juillet 2023)', 'link': 'https://www.cert.ssi.gouv.fr/alerte/CERTFR-2023-ALE-008/', 'type': 'Alerte', 'date': 'Wed, 19 Jul 2023 00:00:00 +0000'}, {'id': 'CERTFR-2023-ALE-009', 'title': '[MàJ] Multiples vulnérabilités dans Ivanti Endpoint Manager Mobile (26 juillet 2023)', 'link': 'https://www.cert.ssi.gouv.fr/alerte/CERTFR-2023-ALE-009/', 'type': 'Alerte', 'date': 'Wed, 26 Jul 2023 00:00:00 +0000'}, {'id': 'CERTFR-2023-ALE-010', 'title': 'Multiples vulnérabilités dans Exim (02 octobre 2023)', 'link': 'https://www.cert.ssi.gouv.fr/alerte/CERTFR-2023-ALE-010/', 'type': 'Alerte', 'date': 'Mon, 02 Oct 2023 00:00:00 +0000'}, {'id': 'CERTFR-2023-ALE-011', 'title': '[MàJ] Multiples vulnérabilités dans Cisco IOS XE (17 octobre 2023)', 'link': 'https://www.cert.ssi.gouv.fr/alerte/CERTFR-2023-ALE-011/', 'type': 'Alerte', 'date': 'Tue, 17 Oct 2023 00:00:00 +0000'}, {'id': 'CERTFR-2023-ALE-012', 'title': '[MàJ] Vulnérabilité dans Citrix NetScaler ADC et NetScaler Gateway (23 octobre 2023)', 'link': 'https://www.cert.ssi.gouv.fr/alerte/CERTFR-2023-ALE-012/', 'type': 'Alerte', 'date': 'Mon, 23 Oct 2023 00:00:00 +0000'}, {'id': 'CERTFR-2023-ALE-013', 'title': 'Vulnérabilité dans Apache Struts 2 (13 décembre 2023)', 'link': 'https://www.cert.ssi.gouv.fr/alerte/CERTFR-2023-ALE-013/', 'type': 'Alerte', 'date': 'Wed, 13 Dec 2023 00:00:00 +0000'}, {'id': 'CERTFR-2024-ALE-001', 'title': '[MàJ] Multiples vulnérabilités dans Ivanti Connect Secure et Policy Secure Gateways (11 janvier 2024)', 'link': 'https://www.cert.ssi.gouv.fr/alerte/CERTFR-2024-ALE-001/', 'type': 'Alerte', 'date': 'Thu, 11 Jan 2024 00:00:00 +0000'}, {'id': 'CERTFR-2024-ALE-002', 'title': '[MàJ] Multiples Vulnérabilités dans GitLab (12 janvier 2024)', 'link': 'https://www.cert.ssi.gouv.fr/alerte/CERTFR-2024-ALE-002/', 'type': 'Alerte', 'date': 'Fri, 12 Jan 2024 00:00:00 +0000'}, {'id': 'CERTFR-2024-ALE-003', 'title': '[MàJ] Incident affectant les solutions AnyDesk (05 février 2024)', 'link': 'https://www.cert.ssi.gouv.fr/alerte/CERTFR-2024-ALE-003/', 'type': 'Alerte', 'date': 'Mon, 05 Feb 2024 00:00:00 +0000'}, {'id': 'CERTFR-2024-ALE-004', 'title': '[MàJ] Vulnérabilité dans Fortinet FortiOS (09 février 2024)', 'link': 'https://www.cert.ssi.gouv.fr/alerte/CERTFR-2024-ALE-004/', 'type': 'Alerte', 'date': 'Fri, 09 Feb 2024 00:00:00 +0000'}, {'id': 'CERTFR-2024-ALE-005', 'title': '[MàJ] Vulnérabilité dans Microsoft Outlook (15 février 2024)', 'link': 'https://www.cert.ssi.gouv.fr/alerte/CERTFR-2024-ALE-005/', 'type': 'Alerte', 'date': 'Thu, 15 Feb 2024 00:00:00 +0000'}, {'id': 'CERTFR-2024-ALE-006', 'title': '[MàJ] Vulnérabilité dans Palo Alto Networks GlobalProtect (12 avril 2024)', 'link': 'https://www.cert.ssi.gouv.fr/alerte/CERTFR-2024-ALE-006/', 'type': 'Alerte', 'date': 'Fri, 12 Apr 2024 00:00:00 +0000'}, {'id': 'CERTFR-2024-ALE-007', 'title': 'Multiples vulnérabilités dans les produits Cisco (25 avril 2024)', 'link': 'https://www.cert.ssi.gouv.fr/alerte/CERTFR-2024-ALE-007/', 'type': 'Alerte', 'date': 'Thu, 25 Apr 2024 00:00:00 +0000'}, {'id': 'CERTFR-2024-ALE-008', 'title': '[MàJ] Vulnérabilité dans les produits Check Point  (30 mai 2024)', 'link': 'https://www.cert.ssi.gouv.fr/alerte/CERTFR-2024-ALE-008/', 'type': 'Alerte', 'date': 'Thu, 30 May 2024 00:00:00 +0000'}, {'id': 'CERTFR-2024-ALE-009', 'title': 'Vulnérabilité dans OpenSSH (01 juillet 2024)', 'link': 'https://www.cert.ssi.gouv.fr/alerte/CERTFR-2024-ALE-009/', 'type': 'Alerte', 'date': 'Mon, 01 Jul 2024 00:00:00 +0000'}, {'id': 'CERTFR-2024-ALE-010', 'title': 'Multiples vulnérabilités dans Roundcube (09 août 2024)', 'link': 'https://www.cert.ssi.gouv.fr/alerte/CERTFR-2024-ALE-010/', 'type': 'Alerte', 'date': 'Fri, 09 Aug 2024 00:00:00 +0000'}, {'id': 'CERTFR-2024-ALE-011', 'title': 'Vulnérabilité dans SonicWall (10 septembre 2024)', 'link': 'https://www.cert.ssi.gouv.fr/alerte/CERTFR-2024-ALE-011/', 'type': 'Alerte', 'date': 'Tue, 10 Sep 2024 00:00:00 +0000'}, {'id': 'CERTFR-2024-ALE-012', 'title': '[MàJ] Vulnérabilités affectant OpenPrinting CUPS (27 septembre 2024)', 'link': 'https://www.cert.ssi.gouv.fr/alerte/CERTFR-2024-ALE-012/', 'type': 'Alerte', 'date': 'Fri, 27 Sep 2024 00:00:00 +0000'}, {'id': 'CERTFR-2024-ALE-013', 'title': 'Exploitations de vulnérabilités dans Ivanti Cloud Services Appliance (CSA) (22 octobre 2024)', 'link': 'https://www.cert.ssi.gouv.fr/alerte/CERTFR-2024-ALE-013/', 'type': 'Alerte', 'date': 'Tue, 22 Oct 2024 00:00:00 +0000'}, {'id': 'CERTFR-2024-ALE-014', 'title': '[MàJ] Multiples vulnérabilités dans Fortinet FortiManager (23 octobre 2024)', 'link': 'https://www.cert.ssi.gouv.fr/alerte/CERTFR-2024-ALE-014/', 'type': 'Alerte', 'date': 'Wed, 23 Oct 2024 00:00:00 +0000'}, {'id': 'CERTFR-2024-ALE-015', 'title': \"[MàJ] Multiples vulnérabilités sur l'interface d'administration des équipements Palo Alto Networks (15 novembre 2024)\", 'link': 'https://www.cert.ssi.gouv.fr/alerte/CERTFR-2024-ALE-015/', 'type': 'Alerte', 'date': 'Fri, 15 Nov 2024 00:00:00 +0000'}, {'id': 'CERTFR-2025-ALE-001', 'title': '[MàJ] Vulnérabilité dans les produits Ivanti (09 janvier 2025)', 'link': 'https://www.cert.ssi.gouv.fr/alerte/CERTFR-2025-ALE-001/', 'type': 'Alerte', 'date': 'Thu, 09 Jan 2025 00:00:00 +0000'}, {'id': 'CERTFR-2025-ALE-002', 'title': '[MàJ] Vulnérabilité dans les produits Fortinet (14 janvier 2025)', 'link': 'https://www.cert.ssi.gouv.fr/alerte/CERTFR-2025-ALE-002/', 'type': 'Alerte', 'date': 'Tue, 14 Jan 2025 00:00:00 +0000'}, {'id': 'CERTFR-2025-ALE-003', 'title': '[MàJ] Vulnérabilité dans les produits Ivanti (03 avril 2025)', 'link': 'https://www.cert.ssi.gouv.fr/alerte/CERTFR-2025-ALE-003/', 'type': 'Alerte', 'date': 'Thu, 03 Apr 2025 00:00:00 +0000'}, {'id': 'CERTFR-2025-ALE-004', 'title': 'Activités de post-exploitation dans Fortinet FortiGate (11 avril 2025)', 'link': 'https://www.cert.ssi.gouv.fr/alerte/CERTFR-2025-ALE-004/', 'type': 'Alerte', 'date': 'Fri, 11 Apr 2025 00:00:00 +0000'}, {'id': 'CERTFR-2025-ALE-005', 'title': 'Vulnérabilité dans SAP NetWeaver (28 avril 2025)', 'link': 'https://www.cert.ssi.gouv.fr/alerte/CERTFR-2025-ALE-005/', 'type': 'Alerte', 'date': 'Mon, 28 Apr 2025 00:00:00 +0000'}, {'id': 'CERTFR-2025-ALE-006', 'title': 'Vulnérabilité dans les produits Fortinet (13 mai 2025)', 'link': 'https://www.cert.ssi.gouv.fr/alerte/CERTFR-2025-ALE-006/', 'type': 'Alerte', 'date': 'Tue, 13 May 2025 00:00:00 +0000'}, {'id': 'CERTFR-2025-ALE-007', 'title': 'Multiples vulnérabilités dans Ivanti Endpoint Manager Mobile (EPMM) (14 mai 2025)', 'link': 'https://www.cert.ssi.gouv.fr/alerte/CERTFR-2025-ALE-007/', 'type': 'Alerte', 'date': 'Wed, 14 May 2025 00:00:00 +0000'}, {'id': 'CERTFR-2025-ALE-008', 'title': '[MàJ] Vulnérabilité dans Roundcube (05 juin 2025)', 'link': 'https://www.cert.ssi.gouv.fr/alerte/CERTFR-2025-ALE-008/', 'type': 'Alerte', 'date': 'Thu, 05 Jun 2025 00:00:00 +0000'}]\n"
     ]
    }
   ],
   "execution_count": 17
  },
  {
   "metadata": {},
   "cell_type": "markdown",
   "source": "# Step 2 : Extraction des CVE",
   "id": "76f7291db76e57e8"
  },
  {
   "metadata": {
    "ExecuteTime": {
     "end_time": "2025-06-17T10:26:37.475952Z",
     "start_time": "2025-06-17T10:26:33.765696Z"
    }
   },
   "cell_type": "code",
   "source": [
    "for entry in rss_entries:\n",
    "    url_json = entry['link'] + '/json/'\n",
    "    response = requests.get(url_json)\n",
    "    data = response.json()\n",
    "    cve_list = []\n",
    "    for cve in data[\"cves\"]:\n",
    "        cve_list.append(cve)\n",
    "\n",
    "\n",
    "\"\"\"\n",
    "# Extraction des CVE reference dans la clé cves du dict data\n",
    "ref_cves = list(data[\"cves\"])\n",
    "\n",
    "# Attention il s’agit d’une liste des dictionnaires avec name et url comme clés\n",
    "print( \"CVE référencés \", ref_cves)\n",
    "\n",
    "# Extraction des CVE avec une regex\n",
    "cve_pattern = r\"CVE-\\d{4}-\\d{4,7}\"\n",
    "cve_list = list(set(re.findall(cve_pattern, str(data))))\n",
    "print(\"CVE trouvés :\", cve_list)\"\"\""
   ],
   "id": "dd7639157fe56932",
   "outputs": [
    {
     "name": "stderr",
     "output_type": "stream",
     "text": [
      "<>:17: SyntaxWarning: invalid escape sequence '\\d'\n",
      "<>:17: SyntaxWarning: invalid escape sequence '\\d'\n",
      "/var/folders/cr/3y3t2vr97xsf_f_y_xhw2jv00000gn/T/ipykernel_3272/313719570.py:17: SyntaxWarning: invalid escape sequence '\\d'\n",
      "  cve_pattern = r\"CVE-\\d{4}-\\d{4,7}\"\n"
     ]
    },
    {
     "name": "stdout",
     "output_type": "stream",
     "text": [
      "2\n",
      "25\n",
      "1\n",
      "3\n",
      "3\n",
      "57\n",
      "100\n",
      "1\n",
      "1\n",
      "6\n",
      "26\n",
      "1\n",
      "15\n",
      "14\n",
      "1\n",
      "1\n",
      "3\n",
      "2\n",
      "67\n",
      "3\n",
      "16\n",
      "3\n",
      "15\n",
      "45\n",
      "1\n",
      "9\n",
      "10\n",
      "1\n",
      "1\n",
      "18\n",
      "1\n",
      "3\n",
      "8\n",
      "587\n",
      "13\n",
      "23\n",
      "119\n",
      "2\n",
      "1\n",
      "1\n",
      "3\n",
      "2\n",
      "3\n",
      "2\n",
      "1\n",
      "2\n",
      "0\n",
      "1\n",
      "3\n",
      "1\n",
      "1\n",
      "1\n",
      "3\n",
      "6\n",
      "2\n",
      "1\n",
      "1\n",
      "5\n",
      "2\n",
      "0\n",
      "1\n",
      "1\n",
      "1\n",
      "2\n",
      "1\n",
      "1\n",
      "3\n",
      "1\n",
      "4\n",
      "3\n",
      "2\n",
      "2\n",
      "1\n",
      "1\n",
      "1\n",
      "0\n",
      "1\n",
      "1\n",
      "2\n",
      "1\n"
     ]
    },
    {
     "data": {
      "text/plain": [
       "'\\n# Extraction des CVE reference dans la clé cves du dict data\\nref_cves = list(data[\"cves\"])\\n\\n# Attention il s’agit d’une liste des dictionnaires avec name et url comme clés\\nprint( \"CVE référencés \", ref_cves)\\n\\n# Extraction des CVE avec une regex\\ncve_pattern = r\"CVE-\\\\d{4}-\\\\d{4,7}\"\\ncve_list = list(set(re.findall(cve_pattern, str(data))))\\nprint(\"CVE trouvés :\", cve_list)'"
      ]
     },
     "execution_count": 30,
     "metadata": {},
     "output_type": "execute_result"
    }
   ],
   "execution_count": 30
  },
  {
   "metadata": {},
   "cell_type": "code",
   "outputs": [],
   "execution_count": null,
   "source": "",
   "id": "a14b9f33eeb9e4ab"
  }
 ],
 "metadata": {
  "kernelspec": {
   "display_name": "Python 3",
   "language": "python",
   "name": "python3"
  },
  "language_info": {
   "codemirror_mode": {
    "name": "ipython",
    "version": 2
   },
   "file_extension": ".py",
   "mimetype": "text/x-python",
   "name": "python",
   "nbconvert_exporter": "python",
   "pygments_lexer": "ipython2",
   "version": "2.7.6"
  }
 },
 "nbformat": 4,
 "nbformat_minor": 5
}
