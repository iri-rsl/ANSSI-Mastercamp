{
 "cells": [
  {
   "metadata": {
    "ExecuteTime": {
     "end_time": "2025-06-17T12:01:49.186754Z",
     "start_time": "2025-06-17T12:01:49.184037Z"
    }
   },
   "cell_type": "code",
   "source": [
    "import feedparser\n",
    "import requests\n",
    "import re\n",
    "import time\n",
    "import pandas as pd\n",
    "import numpy as np\n",
    "import matplotlib.pyplot as plt\n",
    "import seaborn as sns\n",
    "import json\n",
    "\n",
    "from tqdm import tqdm"
   ],
   "id": "9c0f3a1a4c7737ac",
   "outputs": [],
   "execution_count": 19
  },
  {
   "metadata": {},
   "cell_type": "markdown",
   "source": "# Etape 1 : Extraction des flux RSS",
   "id": "82fddcc0f279e8ba"
  },
  {
   "metadata": {
    "ExecuteTime": {
     "end_time": "2025-06-17T12:01:51.529496Z",
     "start_time": "2025-06-17T12:01:51.526456Z"
    }
   },
   "cell_type": "code",
   "source": [
    "def extract_rss_entries():\n",
    "    urls = [\n",
    "        \"https://www.cert.ssi.gouv.fr/avis/feed\",\n",
    "        \"https://www.cert.ssi.gouv.fr/alerte/feed\"\n",
    "    ]\n",
    "    entries = []\n",
    "    for url in urls:\n",
    "        feed = feedparser.parse(url)\n",
    "        for entry in feed.entries:\n",
    "            entries.append({\n",
    "                'id': entry.link.split(\"/\")[-2],\n",
    "                'title': entry.title,\n",
    "                'link': entry.link,\n",
    "                'type': \"Alerte\" if \"alerte\" in url else \"Avis\",\n",
    "                'date': entry.published\n",
    "            })\n",
    "    return entries"
   ],
   "id": "83a7a777f10f1536",
   "outputs": [],
   "execution_count": 20
  },
  {
   "metadata": {
    "ExecuteTime": {
     "end_time": "2025-06-17T12:01:52.450644Z",
     "start_time": "2025-06-17T12:01:51.842688Z"
    }
   },
   "cell_type": "code",
   "source": [
    "rss_entries = extract_rss_entries()\n",
    "print(f\"Nombre d'entrées RSS : {len(rss_entries)}\\n\")\n",
    "# print(rss_entries)"
   ],
   "id": "ab624e0235c2586c",
   "outputs": [
    {
     "name": "stdout",
     "output_type": "stream",
     "text": [
      "Nombre d'entrées RSS : 80\n",
      "\n"
     ]
    }
   ],
   "execution_count": 21
  },
  {
   "metadata": {},
   "cell_type": "markdown",
   "source": "# Etape 2 : Extraction des CVE",
   "id": "76f7291db76e57e8"
  },
  {
   "metadata": {
    "ExecuteTime": {
     "end_time": "2025-06-17T12:33:46.203668Z",
     "start_time": "2025-06-17T12:33:46.198245Z"
    }
   },
   "cell_type": "code",
   "source": [
    "def extract_cves_from_json(entry_link):\n",
    "    try:\n",
    "        json_url = entry_link + \"/json/\"\n",
    "        response = requests.get(json_url)\n",
    "        data = response.json() # fichier JSON complet de l'entrée RSS\n",
    "\n",
    "        # Extraction des CVE reference dans la clé cves du dict data\n",
    "        cve_refs = data.get(\"cves\", [])\n",
    "\n",
    "        # Attention, il s’agit d’une liste des dictionnaires avec name et url comme clés\n",
    "        print(\"CVE références :\", cve_refs)\n",
    "        print(\"Type de références\", type(cve_refs))\n",
    "        print(\"Type des éléments de la liste\", type(cve_refs[0]))\n",
    "\n",
    "        # Extraction des CVE avec une regex\n",
    "        cve_pattern = r\"CVE-\\d{4}-\\d{4,7}\"\n",
    "        cve_list = list(set(re.findall(cve_pattern, str(data))))\n",
    "        print(\"CVE trouvés :\", cve_list)\n",
    "\n",
    "        # Retourne la liste de CVE référence pour l'entrée RSS entrée en argument + le JSON complet de l'entrée RSS\n",
    "        return cve_refs, data\n",
    "    except:\n",
    "        return [], {}\n"
   ],
   "id": "97133d0dbbfe859a",
   "outputs": [],
   "execution_count": 64
  },
  {
   "metadata": {
    "ExecuteTime": {
     "end_time": "2025-06-17T12:33:49.085045Z",
     "start_time": "2025-06-17T12:33:47.909005Z"
    }
   },
   "cell_type": "code",
   "source": [
    "first_entry = rss_entries[0]\n",
    "cve_refs, full_json = extract_cves_from_json(first_entry[\"link\"])\n",
    "\"\"\"print(cve_refs)\n",
    "print()\n",
    "print(full_json)\"\"\"\n",
    "\n",
    "\"\"\"for entry in rss_entries:\n",
    "    cve_refs, full_json = extract_cves_from_json(entry[\"link\"])\n",
    "    print(cve_refs)\n",
    "    print(full_json)\"\"\""
   ],
   "id": "544d7a5a3712bf82",
   "outputs": [
    {
     "name": "stdout",
     "output_type": "stream",
     "text": [
      "CVE références : [{'name': 'CVE-2025-4128', 'url': 'https://www.cve.org/CVERecord?id=CVE-2025-4128'}, {'name': 'CVE-2025-4573', 'url': 'https://www.cve.org/CVERecord?id=CVE-2025-4573'}]\n",
      "Type de références <class 'list'>\n",
      "Type des éléments de la liste <class 'dict'>\n",
      "CVE trouvés : ['CVE-2025-4128', 'CVE-2025-4573']\n"
     ]
    },
    {
     "data": {
      "text/plain": [
       "'for entry in rss_entries:\\n    cve_refs, full_json = extract_cves_from_json(entry[\"link\"])\\n    print(cve_refs)\\n    print(full_json)'"
      ]
     },
     "execution_count": 65,
     "metadata": {},
     "output_type": "execute_result"
    }
   ],
   "execution_count": 65
  },
  {
   "metadata": {},
   "cell_type": "markdown",
   "source": "# Etape 3 : Enrichissement des CVE",
   "id": "ff40e1c0df61aa4e"
  },
  {
   "metadata": {
    "ExecuteTime": {
     "end_time": "2025-06-17T12:33:52.181228Z",
     "start_time": "2025-06-17T12:33:52.176484Z"
    }
   },
   "cell_type": "code",
   "source": [
    "def enrich_cve(cve_id):\n",
    "    time.sleep(2)\n",
    "    mitre_data = {}\n",
    "    epss_score = None\n",
    "\n",
    "    try:\n",
    "        mitre_url = f\"https://cveawg.mitre.org/api/cve/{cve_id}\"\n",
    "        r = requests.get(mitre_url)\n",
    "        mitre_data = r.json()\n",
    "    except:\n",
    "        pass\n",
    "\n",
    "    try:\n",
    "        epss_url = f\"https://api.first.org/data/v1/epss?cve={cve_id}\"\n",
    "        r = requests.get(epss_url)\n",
    "        epss_json = r.json()\n",
    "        epss_score = epss_json.get(\"data\", [{}])[0].get(\"epss\")\n",
    "    except:\n",
    "        epss_score = None\n",
    "\n",
    "    return mitre_data, epss_score"
   ],
   "id": "2ed3c244870f5b04",
   "outputs": [],
   "execution_count": 66
  },
  {
   "metadata": {},
   "cell_type": "code",
   "outputs": [],
   "execution_count": null,
   "source": "",
   "id": "dcf059aeffc43ca2"
  }
 ],
 "metadata": {
  "kernelspec": {
   "display_name": "Python 3",
   "language": "python",
   "name": "python3"
  },
  "language_info": {
   "codemirror_mode": {
    "name": "ipython",
    "version": 2
   },
   "file_extension": ".py",
   "mimetype": "text/x-python",
   "name": "python",
   "nbconvert_exporter": "python",
   "pygments_lexer": "ipython2",
   "version": "2.7.6"
  }
 },
 "nbformat": 4,
 "nbformat_minor": 5
}
