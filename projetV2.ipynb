{
 "cells": [
  {
   "metadata": {
    "ExecuteTime": {
     "end_time": "2025-06-17T17:32:06.801573Z",
     "start_time": "2025-06-17T17:32:06.798351Z"
    }
   },
   "cell_type": "code",
   "source": [
    "import feedparser\n",
    "import requests\n",
    "import re\n",
    "import time\n",
    "import pandas as pd\n",
    "import numpy as np\n",
    "import matplotlib.pyplot as plt\n",
    "import seaborn as sns\n",
    "import json\n",
    "\n",
    "from tqdm import tqdm"
   ],
   "id": "9c0f3a1a4c7737ac",
   "outputs": [],
   "execution_count": 42
  },
  {
   "metadata": {},
   "cell_type": "markdown",
   "source": "# Etape 1 : Extraction des flux RSS",
   "id": "82fddcc0f279e8ba"
  },
  {
   "metadata": {
    "ExecuteTime": {
     "end_time": "2025-06-17T16:12:31.333365Z",
     "start_time": "2025-06-17T16:12:31.330409Z"
    }
   },
   "cell_type": "code",
   "source": [
    "def extract_rss_entries():\n",
    "    urls = [\n",
    "        \"https://www.cert.ssi.gouv.fr/avis/feed\",\n",
    "        \"https://www.cert.ssi.gouv.fr/alerte/feed\"\n",
    "    ]\n",
    "    entries = []\n",
    "    for url in urls:\n",
    "        feed = feedparser.parse(url)\n",
    "        for entry in feed.entries:\n",
    "            entries.append({\n",
    "                'id': entry.link.split(\"/\")[-2],\n",
    "                'title': entry.title,\n",
    "                'link': entry.link,\n",
    "                'type': \"Alerte\" if \"alerte\" in url else \"Avis\",\n",
    "                'date': entry.published\n",
    "            })\n",
    "    return entries"
   ],
   "id": "83a7a777f10f1536",
   "outputs": [],
   "execution_count": 6
  },
  {
   "metadata": {
    "ExecuteTime": {
     "end_time": "2025-06-17T16:12:31.688325Z",
     "start_time": "2025-06-17T16:12:31.510390Z"
    }
   },
   "cell_type": "code",
   "source": [
    "rss_entries = extract_rss_entries()\n",
    "print(f\"Nombre d'entrées RSS : {len(rss_entries)}\\n\")\n",
    "# print(rss_entries)"
   ],
   "id": "ab624e0235c2586c",
   "outputs": [
    {
     "name": "stdout",
     "output_type": "stream",
     "text": [
      "Nombre d'entrées RSS : 80\n",
      "\n"
     ]
    }
   ],
   "execution_count": 7
  },
  {
   "metadata": {},
   "cell_type": "markdown",
   "source": "# Etape 2 : Extraction des CVE",
   "id": "76f7291db76e57e8"
  },
  {
   "metadata": {
    "ExecuteTime": {
     "end_time": "2025-06-17T16:12:32.849648Z",
     "start_time": "2025-06-17T16:12:32.846237Z"
    }
   },
   "cell_type": "code",
   "source": [
    "def extract_cves_from_json(entry_link):\n",
    "    try:\n",
    "        json_url = entry_link + \"/json/\"\n",
    "        response = requests.get(json_url)\n",
    "        data = response.json() # fichier JSON complet de l'entrée RSS\n",
    "\n",
    "        # Extraction des CVE reference dans la clé cves du dict data\n",
    "        cve_refs = data.get(\"cves\", [])\n",
    "\n",
    "        # Attention, il s’agit d’une liste des dictionnaires avec name et url comme clés\n",
    "        print(\"CVE références :\", cve_refs)\n",
    "        print(\"Type de références\", type(cve_refs))\n",
    "        print(\"Type des éléments de la liste\", type(cve_refs[0]))\n",
    "\n",
    "        # Extraction des CVE avec une regex\n",
    "        cve_pattern = r\"CVE-\\d{4}-\\d{4,7}\"\n",
    "        cve_list = list(set(re.findall(cve_pattern, str(data))))\n",
    "        print(\"CVE trouvés :\", cve_list)\n",
    "\n",
    "        # Retourne la liste de CVE référence pour l'entrée RSS entrée en argument + le JSON complet de l'entrée RSS\n",
    "        return cve_refs, data\n",
    "    except:\n",
    "        return [], {}\n"
   ],
   "id": "97133d0dbbfe859a",
   "outputs": [],
   "execution_count": 8
  },
  {
   "metadata": {
    "ExecuteTime": {
     "end_time": "2025-06-17T16:12:33.773818Z",
     "start_time": "2025-06-17T16:12:33.724643Z"
    }
   },
   "cell_type": "code",
   "source": [
    "first_entry = rss_entries[0]\n",
    "cve_refs, full_json = extract_cves_from_json(first_entry[\"link\"])\n",
    "\"\"\"print(cve_refs)\n",
    "print()\n",
    "print(full_json)\"\"\"\n",
    "\n",
    "\"\"\"for entry in rss_entries:\n",
    "    cve_refs, full_json = extract_cves_from_json(entry[\"link\"])\n",
    "    print(cve_refs)\n",
    "    print(full_json)\"\"\""
   ],
   "id": "544d7a5a3712bf82",
   "outputs": [
    {
     "name": "stdout",
     "output_type": "stream",
     "text": [
      "CVE références : [{'name': 'CVE-2025-4128', 'url': 'https://www.cve.org/CVERecord?id=CVE-2025-4128'}, {'name': 'CVE-2025-4573', 'url': 'https://www.cve.org/CVERecord?id=CVE-2025-4573'}]\n",
      "Type de références <class 'list'>\n",
      "Type des éléments de la liste <class 'dict'>\n",
      "CVE trouvés : ['CVE-2025-4573', 'CVE-2025-4128']\n"
     ]
    },
    {
     "data": {
      "text/plain": [
       "'for entry in rss_entries:\\n    cve_refs, full_json = extract_cves_from_json(entry[\"link\"])\\n    print(cve_refs)\\n    print(full_json)'"
      ]
     },
     "execution_count": 9,
     "metadata": {},
     "output_type": "execute_result"
    }
   ],
   "execution_count": 9
  },
  {
   "metadata": {},
   "cell_type": "markdown",
   "source": "# Etape 3 : Enrichissement des CVE",
   "id": "ff40e1c0df61aa4e"
  },
  {
   "metadata": {
    "ExecuteTime": {
     "end_time": "2025-06-17T17:38:51.350660Z",
     "start_time": "2025-06-17T17:38:51.344083Z"
    }
   },
   "cell_type": "code",
   "source": [
    "def enrich_cve(cve_id):\n",
    "    mitre_data = {}\n",
    "    epss_score = None\n",
    "\n",
    "    # API CVE de Mitre\n",
    "    try:\n",
    "        mitre_url = f\"https://cveawg.mitre.org/api/cve/{cve_id}\"\n",
    "        r = requests.get(mitre_url)\n",
    "        mitre_data = r.json()\n",
    "\n",
    "        # Extraire la description de la CVE\n",
    "        description = mitre_data[\"containers\"][\"cna\"][\"descriptions\"][0][\"value\"]\n",
    "\n",
    "        # Extraire le score et sévérité CVSS\n",
    "        cvss_score = None\n",
    "        cvss_severity = \"\"\n",
    "        metrics = mitre_data[\"containers\"][\"cna\"].get(\"metrics\", [])\n",
    "        for metric in metrics:\n",
    "            cvss = metric.get(\"cvssV3_1\") or metric.get(\"cvssV3_0\")\n",
    "            if cvss:\n",
    "                cvss_score = cvss.get(\"baseScore\")\n",
    "                base_severity = cvss.get(\"baseSeverity\")\n",
    "                break\n",
    "\n",
    "        # Extraire le CWE (type de vulnérabilité)\n",
    "        cwe = \"Non disponible\"\n",
    "        cwe_desc=\"Non disponible\"\n",
    "        problemtype = mitre_data[\"containers\"][\"cna\"].get(\"problemTypes\", {})\n",
    "        if problemtype and \"descriptions\" in problemtype[0]:\n",
    "            cwe = problemtype[0][\"descriptions\"][0].get(\"cweId\", \"Non disponible\")\n",
    "            cwe_desc=problemtype[0][\"descriptions\"][0].get(\"description\", \"Non disponible\")\n",
    "\n",
    "        # Extraire les produits affectés\n",
    "        affected = mitre_data[\"containers\"][\"cna\"][\"affected\"]\n",
    "        for product in affected:\n",
    "            vendor = product[\"vendor\"]\n",
    "            product_name = product[\"product\"]\n",
    "            versions = [v[\"version\"] for v in product[\"versions\"] if v[\"status\"] == \"affected\"]\n",
    "            print(f\"Éditeur : {vendor}, Produit : {product_name}, Versions : {','.join(versions)}\")\n",
    "\n",
    "        print(f\"CVE : {cve_id}\")\n",
    "        print(f\"Description : {description}\")\n",
    "        print(f\"Score CVSS : {cvss_score}\")\n",
    "        print(f\"Type CWE : {cwe}\")\n",
    "        print(f\"CWE Description : {cwe_desc}\")\n",
    "    except Exception as e:\n",
    "        print(f\"Erreur lors de l'enrichissement de {cve_id} : {e}\")\n",
    "        pass\n",
    "\n",
    "    # API EPSS de First\n",
    "    try:\n",
    "        epss_url = f\"https://api.first.org/data/v1/epss?cve={cve_id}\"\n",
    "        r = requests.get(epss_url)\n",
    "        epss_json = r.json()\n",
    "\n",
    "        # Extraire la liste data du JSON (contenant le score EPSS)\n",
    "        epss_data = epss_json.get(\"data\", [])\n",
    "        print(epss_data)\n",
    "\n",
    "        # Si la liste n'est pas vide, extraire le score EPSS\n",
    "        if epss_data:\n",
    "            epss_score = epss_data[0][\"epss\"]\n",
    "            print(f\"CVE : {cve_id}\")\n",
    "            print(f\"Score EPSS : {epss_score}\")\n",
    "\n",
    "        # Sinon, signaler le manque de score EPSS\n",
    "        else:\n",
    "            print(f\"Aucun score EPSS trouvé pour {cve_id}\")\n",
    "    except Exception as e:\n",
    "        print(f\"Erreur lors de l'enrichissement de {cve_id} : {e}\")\n",
    "        epss_score = None\n",
    "\n",
    "    return mitre_data, epss_score"
   ],
   "id": "2ed3c244870f5b04",
   "outputs": [],
   "execution_count": 47
  },
  {
   "metadata": {
    "ExecuteTime": {
     "end_time": "2025-06-17T17:38:52.297395Z",
     "start_time": "2025-06-17T17:38:51.879545Z"
    }
   },
   "cell_type": "code",
   "source": [
    "cve_id_test = \"CVE-2024-22024\"\n",
    "mitre_data_test, epss_score_test = enrich_cve(cve_id_test)"
   ],
   "id": "9c7bd4e003d54033",
   "outputs": [
    {
     "name": "stdout",
     "output_type": "stream",
     "text": [
      "Éditeur : Ivanti, Produit : ICS, Versions : 9.1R14.5,9.1R17.3,9.1R18.4,22.1R6.1,22.2R4.1,22.3R1.1,22.4R1.1,22.5R1.2,22.6R1.1,22.4R2.3,22.5R2.3,22.6R2.2\n",
      "Éditeur : Ivant , Produit : ICS, Versions : 9.1R15.3\n",
      "Éditeur : Ivanti, Produit : IPS, Versions : 9.1R18.4,9.1R17.3,22.5R1.2\n",
      "CVE : CVE-2024-22024\n",
      "Description : An XML external entity or XXE vulnerability in the SAML component of Ivanti Connect Secure (9.x, 22.x), Ivanti Policy Secure (9.x, 22.x) and ZTA gateways which allows an attacker to access certain restricted resources without authentication.\n",
      "Score CVSS : 8.3\n",
      "Type CWE : Non disponible\n",
      "CWE Description : Non disponible\n",
      "[{'cve': 'CVE-2024-22024', 'epss': '0.943200000', 'percentile': '0.999380000', 'date': '2025-06-17'}]\n",
      "CVE : CVE-2024-22024\n",
      "Score EPSS : 0.943200000\n"
     ]
    }
   ],
   "execution_count": 48
  },
  {
   "metadata": {},
   "cell_type": "markdown",
   "source": "# Etape 4 : Consolidation des données",
   "id": "8a3a38bc80374fe2"
  },
  {
   "metadata": {
    "ExecuteTime": {
     "end_time": "2025-06-17T16:19:43.699372Z",
     "start_time": "2025-06-17T16:19:43.692512Z"
    }
   },
   "cell_type": "code",
   "source": [
    "def process_entries(entries):\n",
    "    all_rows = []\n",
    "    for entry in entries:\n",
    "        # Récupérer la liste de CVE référence pour chaque entrée RSS\n",
    "        cve_refs, full_json = extract_cves_from_json(entry['link'])\n",
    "\n",
    "        # Si la liste de CVE est vide, on passe à l'entrée suivante\n",
    "        if not cve_refs:\n",
    "            print(f\"Pas de CVE référence pour l'entrée RSS {entry['title']}, {entry['link']}\")\n",
    "            continue\n",
    "\n",
    "        # Dans le cas ou la liste de CVE existe, nous ajoutons ses informations dans un DataFrame\n",
    "        for cve in cve_refs:\n",
    "            # Extraction du nom de la CVE (identifiant unique)\n",
    "            cve_id = cve['name']\n",
    "\n",
    "            # Extraction des données de l'API Mitre et du score EPSS à partir de l'identifiant de la CVE\n",
    "            mitre_data, epss_score = enrich_cve(cve_id)"
   ],
   "id": "b27866700db6845f",
   "outputs": [],
   "execution_count": 1
  },
  {
   "metadata": {
    "ExecuteTime": {
     "end_time": "2025-06-17T16:19:37.072752Z",
     "start_time": "2025-06-17T16:12:36.965213Z"
    }
   },
   "cell_type": "code",
   "source": [
    "def main():\n",
    "    entries = extract_rss_entries()\n",
    "    df = process_entries(entries)\n",
    "    df.to_csv(\"data/final_cve_data.csv\", index=False)\n",
    "    print(\"✅ Données exportées dans final_cve_data.csv\")\n",
    "\n",
    "main()"
   ],
   "id": "a2a86c496ad5da6b",
   "outputs": [
    {
     "name": "stderr",
     "output_type": "stream",
     "text": [
      "  0%|          | 0/80 [00:00<?, ?it/s]"
     ]
    },
    {
     "name": "stdout",
     "output_type": "stream",
     "text": [
      "CVE références : [{'name': 'CVE-2025-4128', 'url': 'https://www.cve.org/CVERecord?id=CVE-2025-4128'}, {'name': 'CVE-2025-4573', 'url': 'https://www.cve.org/CVERecord?id=CVE-2025-4573'}]\n",
      "Type de références <class 'list'>\n",
      "Type des éléments de la liste <class 'dict'>\n",
      "CVE trouvés : ['CVE-2025-4573', 'CVE-2025-4128']\n"
     ]
    },
    {
     "name": "stderr",
     "output_type": "stream",
     "text": [
      "  1%|▏         | 1/80 [00:00<01:17,  1.02it/s]"
     ]
    },
    {
     "name": "stdout",
     "output_type": "stream",
     "text": [
      "CVE références : [{'name': 'CVE-2025-43003', 'url': 'https://www.cve.org/CVERecord?id=CVE-2025-43003'}, {'name': 'CVE-2025-43007', 'url': 'https://www.cve.org/CVERecord?id=CVE-2025-43007'}, {'name': 'CVE-2025-23191', 'url': 'https://www.cve.org/CVERecord?id=CVE-2025-23191'}, {'name': 'CVE-2025-42999', 'url': 'https://www.cve.org/CVERecord?id=CVE-2025-42999'}, {'name': 'CVE-2025-43009', 'url': 'https://www.cve.org/CVERecord?id=CVE-2025-43009'}, {'name': 'CVE-2025-43011', 'url': 'https://www.cve.org/CVERecord?id=CVE-2025-43011'}, {'name': 'CVE-2025-43006', 'url': 'https://www.cve.org/CVERecord?id=CVE-2025-43006'}, {'name': 'CVE-2025-0060', 'url': 'https://www.cve.org/CVERecord?id=CVE-2025-0060'}, {'name': 'CVE-2025-30012', 'url': 'https://www.cve.org/CVERecord?id=CVE-2025-30012'}, {'name': 'CVE-2025-43000', 'url': 'https://www.cve.org/CVERecord?id=CVE-2025-43000'}, {'name': 'CVE-2025-43004', 'url': 'https://www.cve.org/CVERecord?id=CVE-2025-43004'}, {'name': 'CVE-2025-31324', 'url': 'https://www.cve.org/CVERecord?id=CVE-2025-31324'}, {'name': 'CVE-2025-43005', 'url': 'https://www.cve.org/CVERecord?id=CVE-2025-43005'}, {'name': 'CVE-2025-43008', 'url': 'https://www.cve.org/CVERecord?id=CVE-2025-43008'}, {'name': 'CVE-2025-31329', 'url': 'https://www.cve.org/CVERecord?id=CVE-2025-31329'}, {'name': 'CVE-2025-30009', 'url': 'https://www.cve.org/CVERecord?id=CVE-2025-30009'}, {'name': 'CVE-2025-30011', 'url': 'https://www.cve.org/CVERecord?id=CVE-2025-30011'}, {'name': 'CVE-2025-43002', 'url': 'https://www.cve.org/CVERecord?id=CVE-2025-43002'}, {'name': 'CVE-2025-26662', 'url': 'https://www.cve.org/CVERecord?id=CVE-2025-26662'}, {'name': 'CVE-2025-30010', 'url': 'https://www.cve.org/CVERecord?id=CVE-2025-30010'}, {'name': 'CVE-2025-42997', 'url': 'https://www.cve.org/CVERecord?id=CVE-2025-42997'}, {'name': 'CVE-2025-0061', 'url': 'https://www.cve.org/CVERecord?id=CVE-2025-0061'}, {'name': 'CVE-2025-43010', 'url': 'https://www.cve.org/CVERecord?id=CVE-2025-43010'}, {'name': 'CVE-2024-39592', 'url': 'https://www.cve.org/CVERecord?id=CVE-2024-39592'}, {'name': 'CVE-2025-30018', 'url': 'https://www.cve.org/CVERecord?id=CVE-2025-30018'}]\n",
      "Type de références <class 'list'>\n",
      "Type des éléments de la liste <class 'dict'>\n",
      "CVE trouvés : ['CVE-2025-26662', 'CVE-2025-23191', 'CVE-2025-43003', 'CVE-2025-43002', 'CVE-2025-43011', 'CVE-2025-31329', 'CVE-2025-43004', 'CVE-2025-43010', 'CVE-2025-42997', 'CVE-2025-43008', 'CVE-2024-39592', 'CVE-2025-43000', 'CVE-2025-30012', 'CVE-2025-30009', 'CVE-2025-43006', 'CVE-2025-30010', 'CVE-2025-30011', 'CVE-2025-31324', 'CVE-2025-43007', 'CVE-2025-43005', 'CVE-2025-0060', 'CVE-2025-30018', 'CVE-2025-42999', 'CVE-2025-43009', 'CVE-2025-0061']\n"
     ]
    },
    {
     "name": "stderr",
     "output_type": "stream",
     "text": [
      "  2%|▎         | 2/80 [00:10<07:52,  6.06s/it]"
     ]
    },
    {
     "name": "stdout",
     "output_type": "stream",
     "text": [
      "CVE références : [{'name': 'CVE-2025-49113', 'url': 'https://www.cve.org/CVERecord?id=CVE-2025-49113'}]\n",
      "Type de références <class 'list'>\n",
      "Type des éléments de la liste <class 'dict'>\n",
      "CVE trouvés : ['CVE-2025-49113']\n"
     ]
    },
    {
     "name": "stderr",
     "output_type": "stream",
     "text": [
      "  4%|▍         | 3/80 [00:11<04:27,  3.48s/it]"
     ]
    },
    {
     "name": "stdout",
     "output_type": "stream",
     "text": [
      "CVE références : [{'name': 'CVE-2025-37785', 'url': 'https://www.cve.org/CVERecord?id=CVE-2025-37785'}, {'name': 'CVE-2025-21919', 'url': 'https://www.cve.org/CVERecord?id=CVE-2025-21919'}, {'name': 'CVE-2025-21964', 'url': 'https://www.cve.org/CVERecord?id=CVE-2025-21964'}]\n",
      "Type de références <class 'list'>\n",
      "Type des éléments de la liste <class 'dict'>\n",
      "CVE trouvés : ['CVE-2025-37785', 'CVE-2025-21964', 'CVE-2025-21919']\n"
     ]
    },
    {
     "name": "stderr",
     "output_type": "stream",
     "text": [
      "  5%|▌         | 4/80 [00:12<03:15,  2.57s/it]"
     ]
    },
    {
     "name": "stdout",
     "output_type": "stream",
     "text": [
      "CVE références : [{'name': 'CVE-2025-32996', 'url': 'https://www.cve.org/CVERecord?id=CVE-2025-32996'}, {'name': 'CVE-2019-11038', 'url': 'https://www.cve.org/CVERecord?id=CVE-2019-11038'}, {'name': 'CVE-2021-38593', 'url': 'https://www.cve.org/CVERecord?id=CVE-2021-38593'}, {'name': 'CVE-2025-1334', 'url': 'https://www.cve.org/CVERecord?id=CVE-2025-1334'}, {'name': 'CVE-2020-15250', 'url': 'https://www.cve.org/CVERecord?id=CVE-2020-15250'}, {'name': 'CVE-2023-37920', 'url': 'https://www.cve.org/CVERecord?id=CVE-2023-37920'}, {'name': 'CVE-2024-0793', 'url': 'https://www.cve.org/CVERecord?id=CVE-2024-0793'}, {'name': 'CVE-2017-9047', 'url': 'https://www.cve.org/CVERecord?id=CVE-2017-9047'}, {'name': 'CVE-2024-49766', 'url': 'https://www.cve.org/CVERecord?id=CVE-2024-49766'}, {'name': 'CVE-2024-56326', 'url': 'https://www.cve.org/CVERecord?id=CVE-2024-56326'}, {'name': 'CVE-2024-56171', 'url': 'https://www.cve.org/CVERecord?id=CVE-2024-56171'}, {'name': 'CVE-2024-38819', 'url': 'https://www.cve.org/CVERecord?id=CVE-2024-38819'}, {'name': 'CVE-2025-27144', 'url': 'https://www.cve.org/CVERecord?id=CVE-2025-27144'}, {'name': 'CVE-2022-49043', 'url': 'https://www.cve.org/CVERecord?id=CVE-2022-49043'}, {'name': 'CVE-2024-11831', 'url': 'https://www.cve.org/CVERecord?id=CVE-2024-11831'}, {'name': 'CVE-2025-30691', 'url': 'https://www.cve.org/CVERecord?id=CVE-2025-30691'}, {'name': 'CVE-2024-38809', 'url': 'https://www.cve.org/CVERecord?id=CVE-2024-38809'}, {'name': 'CVE-2025-27152', 'url': 'https://www.cve.org/CVERecord?id=CVE-2025-27152'}, {'name': 'CVE-2024-47764', 'url': 'https://www.cve.org/CVERecord?id=CVE-2024-47764'}, {'name': 'CVE-2023-52355', 'url': 'https://www.cve.org/CVERecord?id=CVE-2023-52355'}, {'name': 'CVE-2025-22868', 'url': 'https://www.cve.org/CVERecord?id=CVE-2025-22868'}, {'name': 'CVE-2024-56337', 'url': 'https://www.cve.org/CVERecord?id=CVE-2024-56337'}, {'name': 'CVE-2025-32997', 'url': 'https://www.cve.org/CVERecord?id=CVE-2025-32997'}, {'name': 'CVE-2024-9902', 'url': 'https://www.cve.org/CVERecord?id=CVE-2024-9902'}, {'name': 'CVE-2025-21587', 'url': 'https://www.cve.org/CVERecord?id=CVE-2025-21587'}, {'name': 'CVE-2024-45337', 'url': 'https://www.cve.org/CVERecord?id=CVE-2024-45337'}, {'name': 'CVE-2024-56332', 'url': 'https://www.cve.org/CVERecord?id=CVE-2024-56332'}, {'name': 'CVE-2024-56201', 'url': 'https://www.cve.org/CVERecord?id=CVE-2024-56201'}, {'name': 'CVE-2024-38827', 'url': 'https://www.cve.org/CVERecord?id=CVE-2024-38827'}, {'name': 'CVE-2023-43804', 'url': 'https://www.cve.org/CVERecord?id=CVE-2023-43804'}, {'name': 'CVE-2025-25019', 'url': 'https://www.cve.org/CVERecord?id=CVE-2025-25019'}, {'name': 'CVE-2020-35538', 'url': 'https://www.cve.org/CVERecord?id=CVE-2020-35538'}, {'name': 'CVE-2025-30698', 'url': 'https://www.cve.org/CVERecord?id=CVE-2025-30698'}, {'name': 'CVE-2025-26791', 'url': 'https://www.cve.org/CVERecord?id=CVE-2025-26791'}, {'name': 'CVE-2024-49767', 'url': 'https://www.cve.org/CVERecord?id=CVE-2024-49767'}, {'name': 'CVE-2024-38828', 'url': 'https://www.cve.org/CVERecord?id=CVE-2024-38828'}, {'name': 'CVE-2018-5711', 'url': 'https://www.cve.org/CVERecord?id=CVE-2018-5711'}, {'name': 'CVE-2023-1916', 'url': 'https://www.cve.org/CVERecord?id=CVE-2023-1916'}, {'name': 'CVE-2025-25022', 'url': 'https://www.cve.org/CVERecord?id=CVE-2025-25022'}, {'name': 'CVE-2025-25020', 'url': 'https://www.cve.org/CVERecord?id=CVE-2025-25020'}, {'name': 'CVE-2025-22869', 'url': 'https://www.cve.org/CVERecord?id=CVE-2025-22869'}, {'name': 'CVE-2024-43800', 'url': 'https://www.cve.org/CVERecord?id=CVE-2024-43800'}, {'name': 'CVE-2022-1354', 'url': 'https://www.cve.org/CVERecord?id=CVE-2022-1354'}, {'name': 'CVE-2025-25021', 'url': 'https://www.cve.org/CVERecord?id=CVE-2025-25021'}, {'name': 'CVE-2024-52304', 'url': 'https://www.cve.org/CVERecord?id=CVE-2024-52304'}, {'name': 'CVE-2023-24607', 'url': 'https://www.cve.org/CVERecord?id=CVE-2023-24607'}, {'name': 'CVE-2025-22235', 'url': 'https://www.cve.org/CVERecord?id=CVE-2025-22235'}, {'name': 'CVE-2025-27789', 'url': 'https://www.cve.org/CVERecord?id=CVE-2025-27789'}, {'name': 'CVE-2024-57556', 'url': 'https://www.cve.org/CVERecord?id=CVE-2024-57556'}, {'name': 'CVE-2025-27363', 'url': 'https://www.cve.org/CVERecord?id=CVE-2025-27363'}, {'name': 'CVE-2025-24928', 'url': 'https://www.cve.org/CVERecord?id=CVE-2025-24928'}, {'name': 'CVE-2024-50379', 'url': 'https://www.cve.org/CVERecord?id=CVE-2024-50379'}, {'name': 'CVE-2023-24056', 'url': 'https://www.cve.org/CVERecord?id=CVE-2023-24056'}, {'name': 'CVE-2024-38816', 'url': 'https://www.cve.org/CVERecord?id=CVE-2024-38816'}, {'name': 'CVE-2024-52317', 'url': 'https://www.cve.org/CVERecord?id=CVE-2024-52317'}, {'name': 'CVE-2024-52316', 'url': 'https://www.cve.org/CVERecord?id=CVE-2024-52316'}, {'name': 'CVE-2022-3570', 'url': 'https://www.cve.org/CVERecord?id=CVE-2022-3570'}]\n",
      "Type de références <class 'list'>\n",
      "Type des éléments de la liste <class 'dict'>\n",
      "CVE trouvés : ['CVE-2025-22235', 'CVE-2025-32996', 'CVE-2024-49767', 'CVE-2024-43800', 'CVE-2025-27152', 'CVE-2024-0793', 'CVE-2025-30691', 'CVE-2025-27144', 'CVE-2024-50379', 'CVE-2025-30698', 'CVE-2023-52355', 'CVE-2025-22868', 'CVE-2024-57556', 'CVE-2024-11831', 'CVE-2020-35538', 'CVE-2024-56201', 'CVE-2024-56332', 'CVE-2023-24607', 'CVE-2025-27363', 'CVE-2023-43804', 'CVE-2024-38827', 'CVE-2025-25020', 'CVE-2025-24928', 'CVE-2022-1354', 'CVE-2023-1916', 'CVE-2021-38593', 'CVE-2025-22869', 'CVE-2023-37920', 'CVE-2025-26791', 'CVE-2024-47764', 'CVE-2024-52304', 'CVE-2024-38819', 'CVE-2024-56337', 'CVE-2022-49043', 'CVE-2024-52317', 'CVE-2020-15250', 'CVE-2024-52316', 'CVE-2025-25021', 'CVE-2025-27789', 'CVE-2022-3570', 'CVE-2025-1334', 'CVE-2024-38816', 'CVE-2024-49766', 'CVE-2025-25019', 'CVE-2024-45337', 'CVE-2019-11038', 'CVE-2024-56326', 'CVE-2023-24056', 'CVE-2017-9047', 'CVE-2025-21587', 'CVE-2018-5711', 'CVE-2024-38828', 'CVE-2025-25022', 'CVE-2025-32997', 'CVE-2024-56171', 'CVE-2024-9902', 'CVE-2024-38809']\n"
     ]
    },
    {
     "name": "stderr",
     "output_type": "stream",
     "text": [
      "  6%|▋         | 5/80 [00:35<12:25,  9.93s/it]"
     ]
    },
    {
     "name": "stdout",
     "output_type": "stream",
     "text": [
      "CVE références : [{'name': 'CVE-2025-21980', 'url': 'https://www.cve.org/CVERecord?id=CVE-2025-21980'}, {'name': 'CVE-2024-53042', 'url': 'https://www.cve.org/CVERecord?id=CVE-2024-53042'}, {'name': 'CVE-2024-58088', 'url': 'https://www.cve.org/CVERecord?id=CVE-2024-58088'}, {'name': 'CVE-2025-22107', 'url': 'https://www.cve.org/CVERecord?id=CVE-2025-22107'}, {'name': 'CVE-2024-27018', 'url': 'https://www.cve.org/CVERecord?id=CVE-2024-27018'}, {'name': 'CVE-2025-22033', 'url': 'https://www.cve.org/CVERecord?id=CVE-2025-22033'}, {'name': 'CVE-2025-39728', 'url': 'https://www.cve.org/CVERecord?id=CVE-2025-39728'}, {'name': 'CVE-2025-22017', 'url': 'https://www.cve.org/CVERecord?id=CVE-2025-22017'}, {'name': 'CVE-2024-58094', 'url': 'https://www.cve.org/CVERecord?id=CVE-2024-58094'}, {'name': 'CVE-2025-22025', 'url': 'https://www.cve.org/CVERecord?id=CVE-2025-22025'}, {'name': 'CVE-2025-22036', 'url': 'https://www.cve.org/CVERecord?id=CVE-2025-22036'}, {'name': 'CVE-2025-21852', 'url': 'https://www.cve.org/CVERecord?id=CVE-2025-21852'}, {'name': 'CVE-2025-22027', 'url': 'https://www.cve.org/CVERecord?id=CVE-2025-22027'}, {'name': 'CVE-2025-21853', 'url': 'https://www.cve.org/CVERecord?id=CVE-2025-21853'}, {'name': 'CVE-2025-21931', 'url': 'https://www.cve.org/CVERecord?id=CVE-2025-21931'}, {'name': 'CVE-2023-53034', 'url': 'https://www.cve.org/CVERecord?id=CVE-2023-53034'}, {'name': 'CVE-2025-23138', 'url': 'https://www.cve.org/CVERecord?id=CVE-2025-23138'}, {'name': 'CVE-2025-23129', 'url': 'https://www.cve.org/CVERecord?id=CVE-2025-23129'}, {'name': 'CVE-2024-57882', 'url': 'https://www.cve.org/CVERecord?id=CVE-2024-57882'}, {'name': 'CVE-2025-22106', 'url': 'https://www.cve.org/CVERecord?id=CVE-2025-22106'}, {'name': 'CVE-2025-22093', 'url': 'https://www.cve.org/CVERecord?id=CVE-2025-22093'}, {'name': 'CVE-2025-22050', 'url': 'https://www.cve.org/CVERecord?id=CVE-2025-22050'}, {'name': 'CVE-2025-21768', 'url': 'https://www.cve.org/CVERecord?id=CVE-2025-21768'}, {'name': 'CVE-2025-23131', 'url': 'https://www.cve.org/CVERecord?id=CVE-2025-23131'}, {'name': 'CVE-2025-21904', 'url': 'https://www.cve.org/CVERecord?id=CVE-2025-21904'}, {'name': 'CVE-2025-37798', 'url': 'https://www.cve.org/CVERecord?id=CVE-2025-37798'}, {'name': 'CVE-2025-37860', 'url': 'https://www.cve.org/CVERecord?id=CVE-2025-37860'}, {'name': 'CVE-2025-22004', 'url': 'https://www.cve.org/CVERecord?id=CVE-2025-22004'}, {'name': 'CVE-2025-22121', 'url': 'https://www.cve.org/CVERecord?id=CVE-2025-22121'}, {'name': 'CVE-2025-22116', 'url': 'https://www.cve.org/CVERecord?id=CVE-2025-22116'}, {'name': 'CVE-2024-50162', 'url': 'https://www.cve.org/CVERecord?id=CVE-2024-50162'}, {'name': 'CVE-2025-22105', 'url': 'https://www.cve.org/CVERecord?id=CVE-2025-22105'}, {'name': 'CVE-2025-21833', 'url': 'https://www.cve.org/CVERecord?id=CVE-2025-21833'}, {'name': 'CVE-2025-22055', 'url': 'https://www.cve.org/CVERecord?id=CVE-2025-22055'}, {'name': 'CVE-2024-58070', 'url': 'https://www.cve.org/CVERecord?id=CVE-2024-58070'}, {'name': 'CVE-2025-22090', 'url': 'https://www.cve.org/CVERecord?id=CVE-2025-22090'}, {'name': 'CVE-2025-21792', 'url': 'https://www.cve.org/CVERecord?id=CVE-2025-21792'}, {'name': 'CVE-2024-58093', 'url': 'https://www.cve.org/CVERecord?id=CVE-2024-58093'}, {'name': 'CVE-2025-22080', 'url': 'https://www.cve.org/CVERecord?id=CVE-2025-22080'}, {'name': 'CVE-2025-21867', 'url': 'https://www.cve.org/CVERecord?id=CVE-2025-21867'}, {'name': 'CVE-2024-58095', 'url': 'https://www.cve.org/CVERecord?id=CVE-2024-58095'}, {'name': 'CVE-2025-21758', 'url': 'https://www.cve.org/CVERecord?id=CVE-2025-21758'}, {'name': 'CVE-2025-23136', 'url': 'https://www.cve.org/CVERecord?id=CVE-2025-23136'}, {'name': 'CVE-2025-37785', 'url': 'https://www.cve.org/CVERecord?id=CVE-2025-37785'}, {'name': 'CVE-2024-35840', 'url': 'https://www.cve.org/CVERecord?id=CVE-2024-35840'}, {'name': 'CVE-2025-21999', 'url': 'https://www.cve.org/CVERecord?id=CVE-2025-21999'}, {'name': 'CVE-2025-21808', 'url': 'https://www.cve.org/CVERecord?id=CVE-2025-21808'}, {'name': 'CVE-2024-50115', 'url': 'https://www.cve.org/CVERecord?id=CVE-2024-50115'}, {'name': 'CVE-2025-22044', 'url': 'https://www.cve.org/CVERecord?id=CVE-2025-22044'}, {'name': 'CVE-2025-22062', 'url': 'https://www.cve.org/CVERecord?id=CVE-2025-22062'}, {'name': 'CVE-2025-22058', 'url': 'https://www.cve.org/CVERecord?id=CVE-2025-22058'}, {'name': 'CVE-2025-22018', 'url': 'https://www.cve.org/CVERecord?id=CVE-2025-22018'}, {'name': 'CVE-2025-21925', 'url': 'https://www.cve.org/CVERecord?id=CVE-2025-21925'}, {'name': 'CVE-2025-21812', 'url': 'https://www.cve.org/CVERecord?id=CVE-2025-21812'}, {'name': 'CVE-2025-23145', 'url': 'https://www.cve.org/CVERecord?id=CVE-2025-23145'}, {'name': 'CVE-2025-21683', 'url': 'https://www.cve.org/CVERecord?id=CVE-2025-21683'}, {'name': 'CVE-2025-22045', 'url': 'https://www.cve.org/CVERecord?id=CVE-2025-22045'}, {'name': 'CVE-2025-37799', 'url': 'https://www.cve.org/CVERecord?id=CVE-2025-37799'}, {'name': 'CVE-2024-58068', 'url': 'https://www.cve.org/CVERecord?id=CVE-2024-58068'}, {'name': 'CVE-2024-57998', 'url': 'https://www.cve.org/CVERecord?id=CVE-2024-57998'}, {'name': 'CVE-2025-22029', 'url': 'https://www.cve.org/CVERecord?id=CVE-2025-22029'}, {'name': 'CVE-2025-22104', 'url': 'https://www.cve.org/CVERecord?id=CVE-2025-22104'}, {'name': 'CVE-2025-22060', 'url': 'https://www.cve.org/CVERecord?id=CVE-2025-22060'}, {'name': 'CVE-2024-28956', 'url': 'https://www.cve.org/CVERecord?id=CVE-2024-28956'}, {'name': 'CVE-2025-21707', 'url': 'https://www.cve.org/CVERecord?id=CVE-2025-21707'}, {'name': 'CVE-2025-21985', 'url': 'https://www.cve.org/CVERecord?id=CVE-2025-21985'}, {'name': 'CVE-2025-22109', 'url': 'https://www.cve.org/CVERecord?id=CVE-2025-22109'}, {'name': 'CVE-2025-22075', 'url': 'https://www.cve.org/CVERecord?id=CVE-2025-22075'}, {'name': 'CVE-2025-22065', 'url': 'https://www.cve.org/CVERecord?id=CVE-2025-22065'}, {'name': 'CVE-2025-22097', 'url': 'https://www.cve.org/CVERecord?id=CVE-2025-22097'}, {'name': 'CVE-2024-57924', 'url': 'https://www.cve.org/CVERecord?id=CVE-2024-57924'}, {'name': 'CVE-2025-22020', 'url': 'https://www.cve.org/CVERecord?id=CVE-2025-22020'}, {'name': 'CVE-2024-50083', 'url': 'https://www.cve.org/CVERecord?id=CVE-2024-50083'}, {'name': 'CVE-2024-58096', 'url': 'https://www.cve.org/CVERecord?id=CVE-2024-58096'}, {'name': 'CVE-2024-56641', 'url': 'https://www.cve.org/CVERecord?id=CVE-2024-56641'}, {'name': 'CVE-2024-46763', 'url': 'https://www.cve.org/CVERecord?id=CVE-2024-46763'}, {'name': 'CVE-2024-50163', 'url': 'https://www.cve.org/CVERecord?id=CVE-2024-50163'}, {'name': 'CVE-2025-21926', 'url': 'https://www.cve.org/CVERecord?id=CVE-2025-21926'}, {'name': 'CVE-2025-22102', 'url': 'https://www.cve.org/CVERecord?id=CVE-2025-22102'}, {'name': 'CVE-2024-56702', 'url': 'https://www.cve.org/CVERecord?id=CVE-2024-56702'}, {'name': 'CVE-2025-22016', 'url': 'https://www.cve.org/CVERecord?id=CVE-2025-22016'}, {'name': 'CVE-2025-21696', 'url': 'https://www.cve.org/CVERecord?id=CVE-2025-21696'}, {'name': 'CVE-2024-58097', 'url': 'https://www.cve.org/CVERecord?id=CVE-2024-58097'}, {'name': 'CVE-2024-58001', 'url': 'https://www.cve.org/CVERecord?id=CVE-2024-58001'}, {'name': 'CVE-2025-21963', 'url': 'https://www.cve.org/CVERecord?id=CVE-2025-21963'}, {'name': 'CVE-2024-53156', 'url': 'https://www.cve.org/CVERecord?id=CVE-2024-53156'}, {'name': 'CVE-2025-22108', 'url': 'https://www.cve.org/CVERecord?id=CVE-2025-22108'}, {'name': 'CVE-2025-23133', 'url': 'https://www.cve.org/CVERecord?id=CVE-2025-23133'}, {'name': 'CVE-2025-22128', 'url': 'https://www.cve.org/CVERecord?id=CVE-2025-22128'}, {'name': 'CVE-2024-46865', 'url': 'https://www.cve.org/CVERecord?id=CVE-2024-46865'}, {'name': 'CVE-2025-21854', 'url': 'https://www.cve.org/CVERecord?id=CVE-2025-21854'}, {'name': 'CVE-2025-22086', 'url': 'https://www.cve.org/CVERecord?id=CVE-2025-22086'}, {'name': 'CVE-2024-27415', 'url': 'https://www.cve.org/CVERecord?id=CVE-2024-27415'}, {'name': 'CVE-2025-22064', 'url': 'https://www.cve.org/CVERecord?id=CVE-2025-22064'}, {'name': 'CVE-2025-22015', 'url': 'https://www.cve.org/CVERecord?id=CVE-2025-22015'}, {'name': 'CVE-2025-21962', 'url': 'https://www.cve.org/CVERecord?id=CVE-2025-21962'}, {'name': 'CVE-2025-22053', 'url': 'https://www.cve.org/CVERecord?id=CVE-2025-22053'}, {'name': 'CVE-2025-22088', 'url': 'https://www.cve.org/CVERecord?id=CVE-2025-22088'}, {'name': 'CVE-2025-22115', 'url': 'https://www.cve.org/CVERecord?id=CVE-2025-22115'}, {'name': 'CVE-2025-21964', 'url': 'https://www.cve.org/CVERecord?id=CVE-2025-21964'}]\n",
      "Type de références <class 'list'>\n",
      "Type des éléments de la liste <class 'dict'>\n",
      "CVE trouvés : ['CVE-2025-22025', 'CVE-2024-50083', 'CVE-2023-53034', 'CVE-2025-21926', 'CVE-2025-22107', 'CVE-2024-58094', 'CVE-2025-21808', 'CVE-2025-22055', 'CVE-2024-50115', 'CVE-2024-58097', 'CVE-2024-53156', 'CVE-2025-23138', 'CVE-2025-22064', 'CVE-2025-37860', 'CVE-2025-21792', 'CVE-2025-22027', 'CVE-2025-22093', 'CVE-2025-22106', 'CVE-2024-58068', 'CVE-2025-22016', 'CVE-2025-22050', 'CVE-2025-21758', 'CVE-2025-21925', 'CVE-2025-22018', 'CVE-2024-27018', 'CVE-2024-57924', 'CVE-2025-21931', 'CVE-2025-22017', 'CVE-2025-21768', 'CVE-2025-21904', 'CVE-2025-21962', 'CVE-2025-22121', 'CVE-2025-22086', 'CVE-2025-37798', 'CVE-2025-22015', 'CVE-2025-22088', 'CVE-2024-50162', 'CVE-2024-27415', 'CVE-2025-22080', 'CVE-2024-58093', 'CVE-2025-22065', 'CVE-2025-22033', 'CVE-2025-21854', 'CVE-2024-56702', 'CVE-2024-58095', 'CVE-2025-22053', 'CVE-2025-22020', 'CVE-2025-21980', 'CVE-2025-22105', 'CVE-2025-22108', 'CVE-2025-23131', 'CVE-2025-23145', 'CVE-2024-57998', 'CVE-2025-22004', 'CVE-2024-58070', 'CVE-2025-39728', 'CVE-2024-58088', 'CVE-2025-23136', 'CVE-2025-21867', 'CVE-2024-46865', 'CVE-2025-22104', 'CVE-2025-21812', 'CVE-2025-22128', 'CVE-2024-53042', 'CVE-2025-21964', 'CVE-2024-50163', 'CVE-2025-22116', 'CVE-2025-37799', 'CVE-2025-22060', 'CVE-2025-22058', 'CVE-2024-46763', 'CVE-2025-22036', 'CVE-2024-58096', 'CVE-2025-21985', 'CVE-2025-23133', 'CVE-2025-21833', 'CVE-2025-21683', 'CVE-2024-35840', 'CVE-2025-21696', 'CVE-2024-56641', 'CVE-2025-21707', 'CVE-2025-22109', 'CVE-2025-37785', 'CVE-2025-22062', 'CVE-2025-22045', 'CVE-2025-22044', 'CVE-2024-57882', 'CVE-2025-21853', 'CVE-2025-22075', 'CVE-2025-22090', 'CVE-2025-21852', 'CVE-2025-22097', 'CVE-2024-28956', 'CVE-2025-21999', 'CVE-2025-21963', 'CVE-2025-23129', 'CVE-2025-22029', 'CVE-2025-22102', 'CVE-2024-58001', 'CVE-2025-22115']\n"
     ]
    },
    {
     "name": "stderr",
     "output_type": "stream",
     "text": [
      "  8%|▊         | 6/80 [01:14<24:26, 19.82s/it]"
     ]
    },
    {
     "name": "stdout",
     "output_type": "stream",
     "text": [
      "CVE références : [{'name': 'CVE-2025-5687', 'url': 'https://www.cve.org/CVERecord?id=CVE-2025-5687'}]\n",
      "Type de références <class 'list'>\n",
      "Type des éléments de la liste <class 'dict'>\n",
      "CVE trouvés : ['CVE-2025-5687']\n"
     ]
    },
    {
     "name": "stderr",
     "output_type": "stream",
     "text": [
      "  9%|▉         | 7/80 [01:14<16:23, 13.48s/it]"
     ]
    },
    {
     "name": "stdout",
     "output_type": "stream",
     "text": [
      "CVE références : [{'name': 'CVE-2025-37100', 'url': 'https://www.cve.org/CVERecord?id=CVE-2025-37100'}]\n",
      "Type de références <class 'list'>\n",
      "Type des éléments de la liste <class 'dict'>\n",
      "CVE trouvés : ['CVE-2025-37100']\n"
     ]
    },
    {
     "name": "stderr",
     "output_type": "stream",
     "text": [
      " 10%|█         | 8/80 [01:15<11:11,  9.32s/it]"
     ]
    },
    {
     "name": "stdout",
     "output_type": "stream",
     "text": [
      "CVE références : [{'name': 'CVE-2025-3116', 'url': 'https://www.cve.org/CVERecord?id=CVE-2025-3116'}, {'name': 'CVE-2025-3117', 'url': 'https://www.cve.org/CVERecord?id=CVE-2025-3117'}, {'name': 'CVE-2025-3899', 'url': 'https://www.cve.org/CVERecord?id=CVE-2025-3899'}, {'name': 'CVE-2025-3898', 'url': 'https://www.cve.org/CVERecord?id=CVE-2025-3898'}, {'name': 'CVE-2025-3112', 'url': 'https://www.cve.org/CVERecord?id=CVE-2025-3112'}, {'name': 'CVE-2025-3905', 'url': 'https://www.cve.org/CVERecord?id=CVE-2025-3905'}]\n",
      "Type de références <class 'list'>\n",
      "Type des éléments de la liste <class 'dict'>\n",
      "CVE trouvés : ['CVE-2025-3905', 'CVE-2025-3112', 'CVE-2025-3898', 'CVE-2025-3899', 'CVE-2025-3116', 'CVE-2025-3117']\n"
     ]
    },
    {
     "name": "stderr",
     "output_type": "stream",
     "text": [
      " 11%|█▏        | 9/80 [01:17<08:27,  7.14s/it]"
     ]
    },
    {
     "name": "stdout",
     "output_type": "stream",
     "text": [
      "CVE références : [{'name': 'CVE-2025-26465', 'url': 'https://www.cve.org/CVERecord?id=CVE-2025-26465'}, {'name': 'CVE-2025-33031', 'url': 'https://www.cve.org/CVERecord?id=CVE-2025-33031'}, {'name': 'CVE-2024-56805', 'url': 'https://www.cve.org/CVERecord?id=CVE-2024-56805'}, {'name': 'CVE-2024-50406', 'url': 'https://www.cve.org/CVERecord?id=CVE-2024-50406'}, {'name': 'CVE-2025-22482', 'url': 'https://www.cve.org/CVERecord?id=CVE-2025-22482'}, {'name': 'CVE-2025-26466', 'url': 'https://www.cve.org/CVERecord?id=CVE-2025-26466'}, {'name': 'CVE-2025-29872', 'url': 'https://www.cve.org/CVERecord?id=CVE-2025-29872'}, {'name': 'CVE-2025-29892', 'url': 'https://www.cve.org/CVERecord?id=CVE-2025-29892'}, {'name': 'CVE-2025-22490', 'url': 'https://www.cve.org/CVERecord?id=CVE-2025-22490'}, {'name': 'CVE-2025-29873', 'url': 'https://www.cve.org/CVERecord?id=CVE-2025-29873'}, {'name': 'CVE-2025-29884', 'url': 'https://www.cve.org/CVERecord?id=CVE-2025-29884'}, {'name': 'CVE-2025-33035', 'url': 'https://www.cve.org/CVERecord?id=CVE-2025-33035'}, {'name': 'CVE-2025-29876', 'url': 'https://www.cve.org/CVERecord?id=CVE-2025-29876'}, {'name': 'CVE-2025-22485', 'url': 'https://www.cve.org/CVERecord?id=CVE-2025-22485'}, {'name': 'CVE-2024-13087', 'url': 'https://www.cve.org/CVERecord?id=CVE-2024-13087'}, {'name': 'CVE-2025-22484', 'url': 'https://www.cve.org/CVERecord?id=CVE-2025-22484'}, {'name': 'CVE-2023-28370', 'url': 'https://www.cve.org/CVERecord?id=CVE-2023-28370'}, {'name': 'CVE-2025-29877', 'url': 'https://www.cve.org/CVERecord?id=CVE-2025-29877'}, {'name': 'CVE-2025-29883', 'url': 'https://www.cve.org/CVERecord?id=CVE-2025-29883'}, {'name': 'CVE-2025-30279', 'url': 'https://www.cve.org/CVERecord?id=CVE-2025-30279'}, {'name': 'CVE-2025-22486', 'url': 'https://www.cve.org/CVERecord?id=CVE-2025-22486'}, {'name': 'CVE-2025-29871', 'url': 'https://www.cve.org/CVERecord?id=CVE-2025-29871'}, {'name': 'CVE-2024-6387', 'url': 'https://www.cve.org/CVERecord?id=CVE-2024-6387'}, {'name': 'CVE-2025-22481', 'url': 'https://www.cve.org/CVERecord?id=CVE-2025-22481'}, {'name': 'CVE-2024-13088', 'url': 'https://www.cve.org/CVERecord?id=CVE-2024-13088'}, {'name': 'CVE-2025-29885', 'url': 'https://www.cve.org/CVERecord?id=CVE-2025-29885'}]\n",
      "Type de références <class 'list'>\n",
      "Type des éléments de la liste <class 'dict'>\n",
      "CVE trouvés : ['CVE-2025-30279', 'CVE-2025-29884', 'CVE-2025-33031', 'CVE-2025-29872', 'CVE-2025-29885', 'CVE-2024-13087', 'CVE-2025-29871', 'CVE-2025-22484', 'CVE-2025-29873', 'CVE-2025-22485', 'CVE-2025-29883', 'CVE-2025-26465', 'CVE-2023-28370', 'CVE-2025-26466', 'CVE-2024-50406', 'CVE-2025-29892', 'CVE-2025-22490', 'CVE-2025-29876', 'CVE-2025-22482', 'CVE-2025-29877', 'CVE-2024-6387', 'CVE-2024-13088', 'CVE-2025-33035', 'CVE-2024-56805', 'CVE-2025-22486', 'CVE-2025-22481']\n"
     ]
    },
    {
     "name": "stderr",
     "output_type": "stream",
     "text": [
      " 12%|█▎        | 10/80 [01:27<09:31,  8.17s/it]"
     ]
    },
    {
     "name": "stdout",
     "output_type": "stream",
     "text": [
      "CVE références : [{'name': 'CVE-2024-43706', 'url': 'https://www.cve.org/CVERecord?id=CVE-2024-43706'}]\n",
      "Type de références <class 'list'>\n",
      "Type des éléments de la liste <class 'dict'>\n",
      "CVE trouvés : ['CVE-2024-43706']\n"
     ]
    },
    {
     "name": "stderr",
     "output_type": "stream",
     "text": [
      " 14%|█▍        | 11/80 [01:28<06:39,  5.79s/it]"
     ]
    },
    {
     "name": "stdout",
     "output_type": "stream",
     "text": [
      "CVE références : [{'name': 'CVE-2025-43577', 'url': 'https://www.cve.org/CVERecord?id=CVE-2025-43577'}, {'name': 'CVE-2025-43573', 'url': 'https://www.cve.org/CVERecord?id=CVE-2025-43573'}, {'name': 'CVE-2025-43585', 'url': 'https://www.cve.org/CVERecord?id=CVE-2025-43585'}, {'name': 'CVE-2025-43578', 'url': 'https://www.cve.org/CVERecord?id=CVE-2025-43578'}, {'name': 'CVE-2025-43586', 'url': 'https://www.cve.org/CVERecord?id=CVE-2025-43586'}, {'name': 'CVE-2025-27206', 'url': 'https://www.cve.org/CVERecord?id=CVE-2025-27206'}, {'name': 'CVE-2025-43550', 'url': 'https://www.cve.org/CVERecord?id=CVE-2025-43550'}, {'name': 'CVE-2025-27207', 'url': 'https://www.cve.org/CVERecord?id=CVE-2025-27207'}, {'name': 'CVE-2025-43574', 'url': 'https://www.cve.org/CVERecord?id=CVE-2025-43574'}, {'name': 'CVE-2025-43575', 'url': 'https://www.cve.org/CVERecord?id=CVE-2025-43575'}, {'name': 'CVE-2025-47111', 'url': 'https://www.cve.org/CVERecord?id=CVE-2025-47111'}, {'name': 'CVE-2025-43576', 'url': 'https://www.cve.org/CVERecord?id=CVE-2025-43576'}, {'name': 'CVE-2025-43579', 'url': 'https://www.cve.org/CVERecord?id=CVE-2025-43579'}, {'name': 'CVE-2025-47110', 'url': 'https://www.cve.org/CVERecord?id=CVE-2025-47110'}, {'name': 'CVE-2025-47112', 'url': 'https://www.cve.org/CVERecord?id=CVE-2025-47112'}]\n",
      "Type de références <class 'list'>\n",
      "Type des éléments de la liste <class 'dict'>\n",
      "CVE trouvés : ['CVE-2025-47111', 'CVE-2025-43575', 'CVE-2025-47112', 'CVE-2025-43577', 'CVE-2025-43585', 'CVE-2025-43574', 'CVE-2025-43576', 'CVE-2025-43573', 'CVE-2025-43586', 'CVE-2025-27206', 'CVE-2025-43550', 'CVE-2025-27207', 'CVE-2025-43578', 'CVE-2025-47110', 'CVE-2025-43579']\n"
     ]
    },
    {
     "name": "stderr",
     "output_type": "stream",
     "text": [
      " 15%|█▌        | 12/80 [01:34<06:34,  5.81s/it]"
     ]
    },
    {
     "name": "stdout",
     "output_type": "stream",
     "text": [
      "CVE références : [{'name': 'CVE-2024-32119', 'url': 'https://www.cve.org/CVERecord?id=CVE-2024-32119'}, {'name': 'CVE-2023-48786', 'url': 'https://www.cve.org/CVERecord?id=CVE-2023-48786'}, {'name': 'CVE-2024-50562', 'url': 'https://www.cve.org/CVERecord?id=CVE-2024-50562'}, {'name': 'CVE-2025-22256', 'url': 'https://www.cve.org/CVERecord?id=CVE-2025-22256'}, {'name': 'CVE-2023-29184', 'url': 'https://www.cve.org/CVERecord?id=CVE-2023-29184'}, {'name': 'CVE-2024-54019', 'url': 'https://www.cve.org/CVERecord?id=CVE-2024-54019'}, {'name': 'CVE-2025-24471', 'url': 'https://www.cve.org/CVERecord?id=CVE-2025-24471'}, {'name': 'CVE-2025-31104', 'url': 'https://www.cve.org/CVERecord?id=CVE-2025-31104'}, {'name': 'CVE-2024-45329', 'url': 'https://www.cve.org/CVERecord?id=CVE-2024-45329'}, {'name': 'CVE-2024-50568', 'url': 'https://www.cve.org/CVERecord?id=CVE-2024-50568'}, {'name': 'CVE-2025-25250', 'url': 'https://www.cve.org/CVERecord?id=CVE-2025-25250'}, {'name': 'CVE-2025-22251', 'url': 'https://www.cve.org/CVERecord?id=CVE-2025-22251'}, {'name': 'CVE-2025-22254', 'url': 'https://www.cve.org/CVERecord?id=CVE-2025-22254'}, {'name': 'CVE-2025-22862', 'url': 'https://www.cve.org/CVERecord?id=CVE-2025-22862'}]\n",
      "Type de références <class 'list'>\n",
      "Type des éléments de la liste <class 'dict'>\n",
      "CVE trouvés : ['CVE-2024-32119', 'CVE-2024-50562', 'CVE-2025-25250', 'CVE-2025-22254', 'CVE-2025-22862', 'CVE-2023-29184', 'CVE-2024-54019', 'CVE-2025-24471', 'CVE-2025-22256', 'CVE-2024-45329', 'CVE-2024-50568', 'CVE-2025-22251', 'CVE-2023-48786', 'CVE-2025-31104']\n"
     ]
    },
    {
     "name": "stderr",
     "output_type": "stream",
     "text": [
      " 16%|█▋        | 13/80 [01:39<06:22,  5.71s/it]"
     ]
    },
    {
     "name": "stdout",
     "output_type": "stream",
     "text": [
      "CVE références : [{'name': 'CVE-2025-2884', 'url': 'https://www.cve.org/CVERecord?id=CVE-2025-2884'}]\n",
      "Type de références <class 'list'>\n",
      "Type des éléments de la liste <class 'dict'>\n",
      "CVE trouvés : ['CVE-2025-2884']\n"
     ]
    },
    {
     "name": "stderr",
     "output_type": "stream",
     "text": [
      " 18%|█▊        | 14/80 [01:39<04:31,  4.11s/it]"
     ]
    },
    {
     "name": "stdout",
     "output_type": "stream",
     "text": [
      "CVE références : [{'name': 'CVE-2025-22455', 'url': 'https://www.cve.org/CVERecord?id=CVE-2025-22455'}, {'name': 'CVE-2025-22463', 'url': 'https://www.cve.org/CVERecord?id=CVE-2025-22463'}, {'name': 'CVE-2025-5353', 'url': 'https://www.cve.org/CVERecord?id=CVE-2025-5353'}]\n",
      "Type de références <class 'list'>\n",
      "Type des éléments de la liste <class 'dict'>\n",
      "CVE trouvés : ['CVE-2025-5353', 'CVE-2025-22463', 'CVE-2025-22455']\n"
     ]
    },
    {
     "name": "stderr",
     "output_type": "stream",
     "text": [
      " 19%|█▉        | 15/80 [01:41<03:29,  3.23s/it]"
     ]
    },
    {
     "name": "stdout",
     "output_type": "stream",
     "text": [
      "CVE références : [{'name': 'CVE-2022-46337', 'url': 'https://www.cve.org/CVERecord?id=CVE-2022-46337'}, {'name': 'CVE-2024-55573', 'url': 'https://www.cve.org/CVERecord?id=CVE-2024-55573'}, {'name': 'CVE-2023-28447', 'url': 'https://www.cve.org/CVERecord?id=CVE-2023-28447'}]\n",
      "Type de références <class 'list'>\n",
      "Type des éléments de la liste <class 'dict'>\n",
      "CVE trouvés : ['CVE-2022-46337', 'CVE-2024-55573', 'CVE-2023-28447']\n"
     ]
    },
    {
     "name": "stderr",
     "output_type": "stream",
     "text": [
      " 20%|██        | 16/80 [01:42<02:47,  2.62s/it]"
     ]
    },
    {
     "name": "stdout",
     "output_type": "stream",
     "text": [
      "CVE références : [{'name': 'CVE-2024-44078', 'url': 'https://www.cve.org/CVERecord?id=CVE-2024-44078'}]\n",
      "Type de références <class 'list'>\n",
      "Type des éléments de la liste <class 'dict'>\n",
      "CVE trouvés : ['CVE-2024-44078']\n"
     ]
    },
    {
     "name": "stderr",
     "output_type": "stream",
     "text": [
      " 21%|██▏       | 17/80 [01:42<02:03,  1.96s/it]"
     ]
    },
    {
     "name": "stdout",
     "output_type": "stream",
     "text": [
      "CVE références : [{'name': 'CVE-2025-5959', 'url': 'https://www.cve.org/CVERecord?id=CVE-2025-5959'}, {'name': 'CVE-2025-5958', 'url': 'https://www.cve.org/CVERecord?id=CVE-2025-5958'}]\n",
      "Type de références <class 'list'>\n",
      "Type des éléments de la liste <class 'dict'>\n",
      "CVE trouvés : ['CVE-2025-5959', 'CVE-2025-5958']\n"
     ]
    },
    {
     "name": "stderr",
     "output_type": "stream",
     "text": [
      " 22%|██▎       | 18/80 [01:43<01:40,  1.62s/it]"
     ]
    },
    {
     "name": "stdout",
     "output_type": "stream",
     "text": [
      "CVE références : [{'name': 'CVE-2024-37370', 'url': 'https://www.cve.org/CVERecord?id=CVE-2024-37370'}, {'name': 'CVE-2024-41797', 'url': 'https://www.cve.org/CVERecord?id=CVE-2024-41797'}, {'name': 'CVE-2025-26465', 'url': 'https://www.cve.org/CVERecord?id=CVE-2025-26465'}, {'name': 'CVE-2025-31115', 'url': 'https://www.cve.org/CVERecord?id=CVE-2025-31115'}, {'name': 'CVE-2023-46218', 'url': 'https://www.cve.org/CVERecord?id=CVE-2023-46218'}, {'name': 'CVE-2023-28531', 'url': 'https://www.cve.org/CVERecord?id=CVE-2023-28531'}, {'name': 'CVE-2023-6780', 'url': 'https://www.cve.org/CVERecord?id=CVE-2023-6780'}, {'name': 'CVE-2023-51385', 'url': 'https://www.cve.org/CVERecord?id=CVE-2023-51385'}, {'name': 'CVE-2023-38546', 'url': 'https://www.cve.org/CVERecord?id=CVE-2023-38546'}, {'name': 'CVE-2024-33602', 'url': 'https://www.cve.org/CVERecord?id=CVE-2024-33602'}, {'name': 'CVE-2025-40568', 'url': 'https://www.cve.org/CVERecord?id=CVE-2025-40568'}, {'name': 'CVE-2025-21796', 'url': 'https://www.cve.org/CVERecord?id=CVE-2025-21796'}, {'name': 'CVE-2023-52927', 'url': 'https://www.cve.org/CVERecord?id=CVE-2023-52927'}, {'name': 'CVE-2025-21864', 'url': 'https://www.cve.org/CVERecord?id=CVE-2025-21864'}, {'name': 'CVE-2024-45492', 'url': 'https://www.cve.org/CVERecord?id=CVE-2024-45492'}, {'name': 'CVE-2024-24855', 'url': 'https://www.cve.org/CVERecord?id=CVE-2024-24855'}, {'name': 'CVE-2025-40569', 'url': 'https://www.cve.org/CVERecord?id=CVE-2025-40569'}, {'name': 'CVE-2024-58005', 'url': 'https://www.cve.org/CVERecord?id=CVE-2024-58005'}, {'name': 'CVE-2025-21712', 'url': 'https://www.cve.org/CVERecord?id=CVE-2025-21712'}, {'name': 'CVE-2025-4373', 'url': 'https://www.cve.org/CVERecord?id=CVE-2025-4373'}, {'name': 'CVE-2025-4598', 'url': 'https://www.cve.org/CVERecord?id=CVE-2025-4598'}, {'name': 'CVE-2023-44487', 'url': 'https://www.cve.org/CVERecord?id=CVE-2023-44487'}, {'name': 'CVE-2023-6779', 'url': 'https://www.cve.org/CVERecord?id=CVE-2023-6779'}, {'name': 'CVE-2023-5363', 'url': 'https://www.cve.org/CVERecord?id=CVE-2023-5363'}, {'name': 'CVE-2024-33600', 'url': 'https://www.cve.org/CVERecord?id=CVE-2024-33600'}, {'name': 'CVE-2025-21728', 'url': 'https://www.cve.org/CVERecord?id=CVE-2025-21728'}, {'name': 'CVE-2025-21767', 'url': 'https://www.cve.org/CVERecord?id=CVE-2025-21767'}, {'name': 'CVE-2024-33599', 'url': 'https://www.cve.org/CVERecord?id=CVE-2024-33599'}, {'name': 'CVE-2024-57996', 'url': 'https://www.cve.org/CVERecord?id=CVE-2024-57996'}, {'name': 'CVE-2023-46219', 'url': 'https://www.cve.org/CVERecord?id=CVE-2023-46219'}, {'name': 'CVE-2025-21766', 'url': 'https://www.cve.org/CVERecord?id=CVE-2025-21766'}, {'name': 'CVE-2024-45490', 'url': 'https://www.cve.org/CVERecord?id=CVE-2024-45490'}, {'name': 'CVE-2023-48795', 'url': 'https://www.cve.org/CVERecord?id=CVE-2023-48795'}, {'name': 'CVE-2024-45491', 'url': 'https://www.cve.org/CVERecord?id=CVE-2024-45491'}, {'name': 'CVE-2025-21745', 'url': 'https://www.cve.org/CVERecord?id=CVE-2025-21745'}, {'name': 'CVE-2025-21795', 'url': 'https://www.cve.org/CVERecord?id=CVE-2025-21795'}, {'name': 'CVE-2025-21758', 'url': 'https://www.cve.org/CVERecord?id=CVE-2025-21758'}, {'name': 'CVE-2024-26596', 'url': 'https://www.cve.org/CVERecord?id=CVE-2024-26596'}, {'name': 'CVE-2023-4527', 'url': 'https://www.cve.org/CVERecord?id=CVE-2023-4527'}, {'name': 'CVE-2025-21848', 'url': 'https://www.cve.org/CVERecord?id=CVE-2025-21848'}, {'name': 'CVE-2024-53166', 'url': 'https://www.cve.org/CVERecord?id=CVE-2024-53166'}, {'name': 'CVE-2025-46836', 'url': 'https://www.cve.org/CVERecord?id=CVE-2025-46836'}, {'name': 'CVE-2025-21862', 'url': 'https://www.cve.org/CVERecord?id=CVE-2025-21862'}, {'name': 'CVE-2025-40567', 'url': 'https://www.cve.org/CVERecord?id=CVE-2025-40567'}, {'name': 'CVE-2024-33601', 'url': 'https://www.cve.org/CVERecord?id=CVE-2024-33601'}, {'name': 'CVE-2024-28085', 'url': 'https://www.cve.org/CVERecord?id=CVE-2024-28085'}, {'name': 'CVE-2024-57977', 'url': 'https://www.cve.org/CVERecord?id=CVE-2024-57977'}, {'name': 'CVE-2024-6119', 'url': 'https://www.cve.org/CVERecord?id=CVE-2024-6119'}, {'name': 'CVE-2025-21765', 'url': 'https://www.cve.org/CVERecord?id=CVE-2025-21765'}, {'name': 'CVE-2023-4806', 'url': 'https://www.cve.org/CVERecord?id=CVE-2023-4806'}, {'name': 'CVE-2025-21702', 'url': 'https://www.cve.org/CVERecord?id=CVE-2025-21702'}, {'name': 'CVE-2025-21865', 'url': 'https://www.cve.org/CVERecord?id=CVE-2025-21865'}, {'name': 'CVE-2025-21724', 'url': 'https://www.cve.org/CVERecord?id=CVE-2025-21724'}, {'name': 'CVE-2025-21701', 'url': 'https://www.cve.org/CVERecord?id=CVE-2025-21701'}, {'name': 'CVE-2024-12243', 'url': 'https://www.cve.org/CVERecord?id=CVE-2024-12243'}, {'name': 'CVE-2023-4911', 'url': 'https://www.cve.org/CVERecord?id=CVE-2023-4911'}, {'name': 'CVE-2024-6387', 'url': 'https://www.cve.org/CVERecord?id=CVE-2024-6387'}, {'name': 'CVE-2023-51384', 'url': 'https://www.cve.org/CVERecord?id=CVE-2023-51384'}, {'name': 'CVE-2021-41617', 'url': 'https://www.cve.org/CVERecord?id=CVE-2021-41617'}, {'name': 'CVE-2024-50246', 'url': 'https://www.cve.org/CVERecord?id=CVE-2024-50246'}, {'name': 'CVE-2024-34397', 'url': 'https://www.cve.org/CVERecord?id=CVE-2024-34397'}, {'name': 'CVE-2023-6246', 'url': 'https://www.cve.org/CVERecord?id=CVE-2023-6246'}, {'name': 'CVE-2024-2961', 'url': 'https://www.cve.org/CVERecord?id=CVE-2024-2961'}, {'name': 'CVE-2024-12133', 'url': 'https://www.cve.org/CVERecord?id=CVE-2024-12133'}, {'name': 'CVE-2025-21756', 'url': 'https://www.cve.org/CVERecord?id=CVE-2025-21756'}, {'name': 'CVE-2024-37371', 'url': 'https://www.cve.org/CVERecord?id=CVE-2024-37371'}, {'name': 'CVE-2023-38545', 'url': 'https://www.cve.org/CVERecord?id=CVE-2023-38545'}]\n",
      "Type de références <class 'list'>\n",
      "Type des éléments de la liste <class 'dict'>\n",
      "CVE trouvés : ['CVE-2025-21724', 'CVE-2024-34397', 'CVE-2025-21745', 'CVE-2023-46219', 'CVE-2024-33602', 'CVE-2023-44487', 'CVE-2025-21702', 'CVE-2024-12243', 'CVE-2021-41617', 'CVE-2023-5363', 'CVE-2025-21767', 'CVE-2024-26596', 'CVE-2025-21796', 'CVE-2025-31115', 'CVE-2025-4373', 'CVE-2024-24855', 'CVE-2023-46218', 'CVE-2025-21864', 'CVE-2024-6119', 'CVE-2023-51385', 'CVE-2023-6779', 'CVE-2024-50246', 'CVE-2025-21766', 'CVE-2025-21701', 'CVE-2024-33600', 'CVE-2024-28085', 'CVE-2025-21865', 'CVE-2025-21795', 'CVE-2024-2961', 'CVE-2025-21848', 'CVE-2023-6780', 'CVE-2025-21765', 'CVE-2025-26465', 'CVE-2023-38545', 'CVE-2024-37370', 'CVE-2025-46836', 'CVE-2024-41797', 'CVE-2024-37371', 'CVE-2024-45490', 'CVE-2023-48795', 'CVE-2024-57996', 'CVE-2023-52927', 'CVE-2023-6246', 'CVE-2023-4527', 'CVE-2023-51384', 'CVE-2023-38546', 'CVE-2025-21862', 'CVE-2023-4806', 'CVE-2023-4911', 'CVE-2024-6387', 'CVE-2025-4598', 'CVE-2024-45492', 'CVE-2024-58005', 'CVE-2025-21756', 'CVE-2025-21712', 'CVE-2024-33601', 'CVE-2024-53166', 'CVE-2025-40567', 'CVE-2024-33599', 'CVE-2023-28531', 'CVE-2025-21758', 'CVE-2025-21728', 'CVE-2024-12133', 'CVE-2025-40568', 'CVE-2024-45491', 'CVE-2025-40569', 'CVE-2024-57977']\n"
     ]
    },
    {
     "name": "stderr",
     "output_type": "stream",
     "text": [
      " 24%|██▍       | 19/80 [02:10<09:14,  9.09s/it]"
     ]
    },
    {
     "name": "stdout",
     "output_type": "stream",
     "text": [
      "CVE références : [{'name': 'CVE-2025-42987', 'url': 'https://www.cve.org/CVERecord?id=CVE-2025-42987'}, {'name': 'CVE-2025-42991', 'url': 'https://www.cve.org/CVERecord?id=CVE-2025-42991'}, {'name': 'CVE-2025-42996', 'url': 'https://www.cve.org/CVERecord?id=CVE-2025-42996'}, {'name': 'CVE-2025-42988', 'url': 'https://www.cve.org/CVERecord?id=CVE-2025-42988'}, {'name': 'CVE-2025-42995', 'url': 'https://www.cve.org/CVERecord?id=CVE-2025-42995'}, {'name': 'CVE-2025-42984', 'url': 'https://www.cve.org/CVERecord?id=CVE-2025-42984'}, {'name': 'CVE-2025-42982', 'url': 'https://www.cve.org/CVERecord?id=CVE-2025-42982'}, {'name': 'CVE-2025-42993', 'url': 'https://www.cve.org/CVERecord?id=CVE-2025-42993'}, {'name': 'CVE-2025-42977', 'url': 'https://www.cve.org/CVERecord?id=CVE-2025-42977'}, {'name': 'CVE-2025-31325', 'url': 'https://www.cve.org/CVERecord?id=CVE-2025-31325'}, {'name': 'CVE-2025-42983', 'url': 'https://www.cve.org/CVERecord?id=CVE-2025-42983'}, {'name': 'CVE-2025-42998', 'url': 'https://www.cve.org/CVERecord?id=CVE-2025-42998'}, {'name': 'CVE-2025-42989', 'url': 'https://www.cve.org/CVERecord?id=CVE-2025-42989'}, {'name': 'CVE-2025-42994', 'url': 'https://www.cve.org/CVERecord?id=CVE-2025-42994'}, {'name': 'CVE-2025-23192', 'url': 'https://www.cve.org/CVERecord?id=CVE-2025-23192'}, {'name': 'CVE-2025-42990', 'url': 'https://www.cve.org/CVERecord?id=CVE-2025-42990'}]\n",
      "Type de références <class 'list'>\n",
      "Type des éléments de la liste <class 'dict'>\n",
      "CVE trouvés : ['CVE-2025-42982', 'CVE-2025-42977', 'CVE-2025-42989', 'CVE-2025-31325', 'CVE-2025-42994', 'CVE-2025-42988', 'CVE-2025-42983', 'CVE-2025-42998', 'CVE-2025-42995', 'CVE-2025-42993', 'CVE-2025-42987', 'CVE-2025-23192', 'CVE-2025-42984', 'CVE-2025-42996', 'CVE-2025-42990', 'CVE-2025-42991']\n"
     ]
    },
    {
     "name": "stderr",
     "output_type": "stream",
     "text": [
      " 25%|██▌       | 20/80 [02:16<08:15,  8.25s/it]"
     ]
    },
    {
     "name": "stdout",
     "output_type": "stream",
     "text": [
      "CVE références : [{'name': 'CVE-2025-49710', 'url': 'https://www.cve.org/CVERecord?id=CVE-2025-49710'}, {'name': 'CVE-2025-5986', 'url': 'https://www.cve.org/CVERecord?id=CVE-2025-5986'}, {'name': 'CVE-2025-49709', 'url': 'https://www.cve.org/CVERecord?id=CVE-2025-49709'}]\n",
      "Type de références <class 'list'>\n",
      "Type des éléments de la liste <class 'dict'>\n",
      "CVE trouvés : ['CVE-2025-5986', 'CVE-2025-49709', 'CVE-2025-49710']\n"
     ]
    },
    {
     "name": "stderr",
     "output_type": "stream",
     "text": [
      " 26%|██▋       | 21/80 [02:17<06:02,  6.14s/it]"
     ]
    },
    {
     "name": "stdout",
     "output_type": "stream",
     "text": [
      "CVE références : [{'name': 'CVE-2025-32717', 'url': 'https://www.cve.org/CVERecord?id=CVE-2025-32717'}, {'name': 'CVE-2025-47169', 'url': 'https://www.cve.org/CVERecord?id=CVE-2025-47169'}, {'name': 'CVE-2025-47162', 'url': 'https://www.cve.org/CVERecord?id=CVE-2025-47162'}, {'name': 'CVE-2025-47175', 'url': 'https://www.cve.org/CVERecord?id=CVE-2025-47175'}, {'name': 'CVE-2025-47171', 'url': 'https://www.cve.org/CVERecord?id=CVE-2025-47171'}, {'name': 'CVE-2025-47165', 'url': 'https://www.cve.org/CVERecord?id=CVE-2025-47165'}, {'name': 'CVE-2025-47164', 'url': 'https://www.cve.org/CVERecord?id=CVE-2025-47164'}, {'name': 'CVE-2025-47174', 'url': 'https://www.cve.org/CVERecord?id=CVE-2025-47174'}, {'name': 'CVE-2025-47167', 'url': 'https://www.cve.org/CVERecord?id=CVE-2025-47167'}, {'name': 'CVE-2025-47168', 'url': 'https://www.cve.org/CVERecord?id=CVE-2025-47168'}, {'name': 'CVE-2025-47176', 'url': 'https://www.cve.org/CVERecord?id=CVE-2025-47176'}, {'name': 'CVE-2025-47170', 'url': 'https://www.cve.org/CVERecord?id=CVE-2025-47170'}, {'name': 'CVE-2025-47173', 'url': 'https://www.cve.org/CVERecord?id=CVE-2025-47173'}, {'name': 'CVE-2025-47957', 'url': 'https://www.cve.org/CVERecord?id=CVE-2025-47957'}, {'name': 'CVE-2025-47953', 'url': 'https://www.cve.org/CVERecord?id=CVE-2025-47953'}]\n",
      "Type de références <class 'list'>\n",
      "Type des éléments de la liste <class 'dict'>\n",
      "CVE trouvés : ['CVE-2025-47164', 'CVE-2025-47169', 'CVE-2025-47174', 'CVE-2025-47175', 'CVE-2025-47165', 'CVE-2025-47173', 'CVE-2025-47167', 'CVE-2025-47953', 'CVE-2025-47162', 'CVE-2025-47957', 'CVE-2025-32717', 'CVE-2025-47168', 'CVE-2025-47176', 'CVE-2025-47171', 'CVE-2025-47170']\n"
     ]
    },
    {
     "name": "stderr",
     "output_type": "stream",
     "text": [
      " 28%|██▊       | 22/80 [02:23<05:50,  6.04s/it]"
     ]
    },
    {
     "name": "stdout",
     "output_type": "stream",
     "text": [
      "CVE références : [{'name': 'CVE-2025-33073', 'url': 'https://www.cve.org/CVERecord?id=CVE-2025-33073'}, {'name': 'CVE-2025-24068', 'url': 'https://www.cve.org/CVERecord?id=CVE-2025-24068'}, {'name': 'CVE-2025-33071', 'url': 'https://www.cve.org/CVERecord?id=CVE-2025-33071'}, {'name': 'CVE-2025-33061', 'url': 'https://www.cve.org/CVERecord?id=CVE-2025-33061'}, {'name': 'CVE-2025-32720', 'url': 'https://www.cve.org/CVERecord?id=CVE-2025-32720'}, {'name': 'CVE-2025-32713', 'url': 'https://www.cve.org/CVERecord?id=CVE-2025-32713'}, {'name': 'CVE-2025-33067', 'url': 'https://www.cve.org/CVERecord?id=CVE-2025-33067'}, {'name': 'CVE-2025-47160', 'url': 'https://www.cve.org/CVERecord?id=CVE-2025-47160'}, {'name': 'CVE-2025-33068', 'url': 'https://www.cve.org/CVERecord?id=CVE-2025-33068'}, {'name': 'CVE-2025-33055', 'url': 'https://www.cve.org/CVERecord?id=CVE-2025-33055'}, {'name': 'CVE-2025-33065', 'url': 'https://www.cve.org/CVERecord?id=CVE-2025-33065'}, {'name': 'CVE-2025-32712', 'url': 'https://www.cve.org/CVERecord?id=CVE-2025-32712'}, {'name': 'CVE-2025-47956', 'url': 'https://www.cve.org/CVERecord?id=CVE-2025-47956'}, {'name': 'CVE-2025-32715', 'url': 'https://www.cve.org/CVERecord?id=CVE-2025-32715'}, {'name': 'CVE-2025-33069', 'url': 'https://www.cve.org/CVERecord?id=CVE-2025-33069'}, {'name': 'CVE-2025-47955', 'url': 'https://www.cve.org/CVERecord?id=CVE-2025-47955'}, {'name': 'CVE-2025-33053', 'url': 'https://www.cve.org/CVERecord?id=CVE-2025-33053'}, {'name': 'CVE-2025-33070', 'url': 'https://www.cve.org/CVERecord?id=CVE-2025-33070'}, {'name': 'CVE-2025-32721', 'url': 'https://www.cve.org/CVERecord?id=CVE-2025-32721'}, {'name': 'CVE-2025-33062', 'url': 'https://www.cve.org/CVERecord?id=CVE-2025-33062'}, {'name': 'CVE-2025-32722', 'url': 'https://www.cve.org/CVERecord?id=CVE-2025-32722'}, {'name': 'CVE-2025-33052', 'url': 'https://www.cve.org/CVERecord?id=CVE-2025-33052'}, {'name': 'CVE-2025-32725', 'url': 'https://www.cve.org/CVERecord?id=CVE-2025-32725'}, {'name': 'CVE-2025-32710', 'url': 'https://www.cve.org/CVERecord?id=CVE-2025-32710'}, {'name': 'CVE-2025-47962', 'url': 'https://www.cve.org/CVERecord?id=CVE-2025-47962'}, {'name': 'CVE-2025-24065', 'url': 'https://www.cve.org/CVERecord?id=CVE-2025-24065'}, {'name': 'CVE-2025-33075', 'url': 'https://www.cve.org/CVERecord?id=CVE-2025-33075'}, {'name': 'CVE-2025-33059', 'url': 'https://www.cve.org/CVERecord?id=CVE-2025-33059'}, {'name': 'CVE-2025-33064', 'url': 'https://www.cve.org/CVERecord?id=CVE-2025-33064'}, {'name': 'CVE-2025-29828', 'url': 'https://www.cve.org/CVERecord?id=CVE-2025-29828'}, {'name': 'CVE-2025-32724', 'url': 'https://www.cve.org/CVERecord?id=CVE-2025-32724'}, {'name': 'CVE-2025-33056', 'url': 'https://www.cve.org/CVERecord?id=CVE-2025-33056'}, {'name': 'CVE-2025-33057', 'url': 'https://www.cve.org/CVERecord?id=CVE-2025-33057'}, {'name': 'CVE-2025-33063', 'url': 'https://www.cve.org/CVERecord?id=CVE-2025-33063'}, {'name': 'CVE-2025-47969', 'url': 'https://www.cve.org/CVERecord?id=CVE-2025-47969'}, {'name': 'CVE-2025-32718', 'url': 'https://www.cve.org/CVERecord?id=CVE-2025-32718'}, {'name': 'CVE-2025-32714', 'url': 'https://www.cve.org/CVERecord?id=CVE-2025-32714'}, {'name': 'CVE-2025-32719', 'url': 'https://www.cve.org/CVERecord?id=CVE-2025-32719'}, {'name': 'CVE-2025-33058', 'url': 'https://www.cve.org/CVERecord?id=CVE-2025-33058'}, {'name': 'CVE-2025-33060', 'url': 'https://www.cve.org/CVERecord?id=CVE-2025-33060'}, {'name': 'CVE-2025-33050', 'url': 'https://www.cve.org/CVERecord?id=CVE-2025-33050'}, {'name': 'CVE-2025-33066', 'url': 'https://www.cve.org/CVERecord?id=CVE-2025-33066'}, {'name': 'CVE-2025-32716', 'url': 'https://www.cve.org/CVERecord?id=CVE-2025-32716'}, {'name': 'CVE-2025-3052', 'url': 'https://www.cve.org/CVERecord?id=CVE-2025-3052'}, {'name': 'CVE-2025-24069', 'url': 'https://www.cve.org/CVERecord?id=CVE-2025-24069'}]\n",
      "Type de références <class 'list'>\n",
      "Type des éléments de la liste <class 'dict'>\n",
      "CVE trouvés : ['CVE-2025-33053', 'CVE-2025-33061', 'CVE-2025-33062', 'CVE-2025-32712', 'CVE-2025-33063', 'CVE-2025-33066', 'CVE-2025-33069', 'CVE-2025-29828', 'CVE-2025-33052', 'CVE-2025-32721', 'CVE-2025-33057', 'CVE-2025-33071', 'CVE-2025-47956', 'CVE-2025-33058', 'CVE-2025-32713', 'CVE-2025-33065', 'CVE-2025-32719', 'CVE-2025-32718', 'CVE-2025-32715', 'CVE-2025-33070', 'CVE-2025-33055', 'CVE-2025-47962', 'CVE-2025-33075', 'CVE-2025-47160', 'CVE-2025-32714', 'CVE-2025-33056', 'CVE-2025-33050', 'CVE-2025-24065', 'CVE-2025-33059', 'CVE-2025-3052', 'CVE-2025-33068', 'CVE-2025-32725', 'CVE-2025-47969', 'CVE-2025-24068', 'CVE-2025-32722', 'CVE-2025-33073', 'CVE-2025-32710', 'CVE-2025-32720', 'CVE-2025-32724', 'CVE-2025-33060', 'CVE-2025-24069', 'CVE-2025-33067', 'CVE-2025-33064', 'CVE-2025-47955', 'CVE-2025-32716']\n"
     ]
    },
    {
     "name": "stderr",
     "output_type": "stream",
     "text": [
      " 29%|██▉       | 23/80 [02:41<09:06,  9.60s/it]"
     ]
    },
    {
     "name": "stdout",
     "output_type": "stream",
     "text": [
      "CVE références : [{'name': 'CVE-2025-30399', 'url': 'https://www.cve.org/CVERecord?id=CVE-2025-30399'}]\n",
      "Type de références <class 'list'>\n",
      "Type des éléments de la liste <class 'dict'>\n",
      "CVE trouvés : ['CVE-2025-30399']\n"
     ]
    },
    {
     "name": "stderr",
     "output_type": "stream",
     "text": [
      " 30%|███       | 24/80 [02:41<06:22,  6.84s/it]"
     ]
    },
    {
     "name": "stdout",
     "output_type": "stream",
     "text": [
      "CVE références : [{'name': 'CVE-2025-47959', 'url': 'https://www.cve.org/CVERecord?id=CVE-2025-47959'}, {'name': 'CVE-2025-47968', 'url': 'https://www.cve.org/CVERecord?id=CVE-2025-47968'}, {'name': 'CVE-2025-47169', 'url': 'https://www.cve.org/CVERecord?id=CVE-2025-47169'}, {'name': 'CVE-2025-47163', 'url': 'https://www.cve.org/CVERecord?id=CVE-2025-47163'}, {'name': 'CVE-2025-30399', 'url': 'https://www.cve.org/CVERecord?id=CVE-2025-30399'}, {'name': 'CVE-2025-47172', 'url': 'https://www.cve.org/CVERecord?id=CVE-2025-47172'}, {'name': 'CVE-2025-47168', 'url': 'https://www.cve.org/CVERecord?id=CVE-2025-47168'}, {'name': 'CVE-2025-47977', 'url': 'https://www.cve.org/CVERecord?id=CVE-2025-47977'}, {'name': 'CVE-2025-47166', 'url': 'https://www.cve.org/CVERecord?id=CVE-2025-47166'}]\n",
      "Type de références <class 'list'>\n",
      "Type des éléments de la liste <class 'dict'>\n",
      "CVE trouvés : ['CVE-2025-47172', 'CVE-2025-47169', 'CVE-2025-30399', 'CVE-2025-47968', 'CVE-2025-47977', 'CVE-2025-47959', 'CVE-2025-47168', 'CVE-2025-47163', 'CVE-2025-47166']\n"
     ]
    },
    {
     "name": "stderr",
     "output_type": "stream",
     "text": [
      " 31%|███▏      | 25/80 [02:45<05:21,  5.85s/it]"
     ]
    },
    {
     "name": "stdout",
     "output_type": "stream",
     "text": [
      "CVE références : [{'name': 'CVE-2025-4278', 'url': 'https://www.cve.org/CVERecord?id=CVE-2025-4278'}, {'name': 'CVE-2025-0673', 'url': 'https://www.cve.org/CVERecord?id=CVE-2025-0673'}, {'name': 'CVE-2025-2254', 'url': 'https://www.cve.org/CVERecord?id=CVE-2025-2254'}, {'name': 'CVE-2025-1516', 'url': 'https://www.cve.org/CVERecord?id=CVE-2025-1516'}, {'name': 'CVE-2025-1478', 'url': 'https://www.cve.org/CVERecord?id=CVE-2025-1478'}, {'name': 'CVE-2025-5982', 'url': 'https://www.cve.org/CVERecord?id=CVE-2025-5982'}, {'name': 'CVE-2024-9512', 'url': 'https://www.cve.org/CVERecord?id=CVE-2024-9512'}, {'name': 'CVE-2025-5996', 'url': 'https://www.cve.org/CVERecord?id=CVE-2025-5996'}, {'name': 'CVE-2025-5121', 'url': 'https://www.cve.org/CVERecord?id=CVE-2025-5121'}, {'name': 'CVE-2025-5195', 'url': 'https://www.cve.org/CVERecord?id=CVE-2025-5195'}]\n",
      "Type de références <class 'list'>\n",
      "Type des éléments de la liste <class 'dict'>\n",
      "CVE trouvés : ['CVE-2025-1478', 'CVE-2025-5121', 'CVE-2025-5996', 'CVE-2025-5982', 'CVE-2024-9512', 'CVE-2025-5195', 'CVE-2025-2254', 'CVE-2025-1516', 'CVE-2025-4278', 'CVE-2025-0673']\n"
     ]
    },
    {
     "name": "stderr",
     "output_type": "stream",
     "text": [
      " 32%|███▎      | 26/80 [02:49<04:43,  5.26s/it]"
     ]
    },
    {
     "name": "stdout",
     "output_type": "stream",
     "text": [
      "CVE références : [{'name': 'CVE-2025-23092', 'url': 'https://www.cve.org/CVERecord?id=CVE-2025-23092'}]\n",
      "Type de références <class 'list'>\n",
      "Type des éléments de la liste <class 'dict'>\n",
      "CVE trouvés : ['CVE-2025-23092']\n"
     ]
    },
    {
     "name": "stderr",
     "output_type": "stream",
     "text": [
      " 34%|███▍      | 27/80 [02:49<03:21,  3.80s/it]"
     ]
    },
    {
     "name": "stdout",
     "output_type": "stream",
     "text": [
      "CVE références : [{'name': 'CVE-2024-9404', 'url': 'https://www.cve.org/CVERecord?id=CVE-2024-9404'}]\n",
      "Type de références <class 'list'>\n",
      "Type des éléments de la liste <class 'dict'>\n",
      "CVE trouvés : ['CVE-2024-9404']\n"
     ]
    },
    {
     "name": "stderr",
     "output_type": "stream",
     "text": [
      " 35%|███▌      | 28/80 [02:50<02:26,  2.82s/it]"
     ]
    },
    {
     "name": "stdout",
     "output_type": "stream",
     "text": [
      "CVE références : [{'name': 'CVE-2025-5280', 'url': 'https://www.cve.org/CVERecord?id=CVE-2025-5280'}, {'name': 'CVE-2025-5281', 'url': 'https://www.cve.org/CVERecord?id=CVE-2025-5281'}, {'name': 'CVE-2025-4229', 'url': 'https://www.cve.org/CVERecord?id=CVE-2025-4229'}, {'name': 'CVE-2025-5065', 'url': 'https://www.cve.org/CVERecord?id=CVE-2025-5065'}, {'name': 'CVE-2025-4233', 'url': 'https://www.cve.org/CVERecord?id=CVE-2025-4233'}, {'name': 'CVE-2025-4664', 'url': 'https://www.cve.org/CVERecord?id=CVE-2025-4664'}, {'name': 'CVE-2025-5066', 'url': 'https://www.cve.org/CVERecord?id=CVE-2025-5066'}, {'name': 'CVE-2025-4230', 'url': 'https://www.cve.org/CVERecord?id=CVE-2025-4230'}, {'name': 'CVE-2025-5064', 'url': 'https://www.cve.org/CVERecord?id=CVE-2025-5064'}, {'name': 'CVE-2025-4231', 'url': 'https://www.cve.org/CVERecord?id=CVE-2025-4231'}, {'name': 'CVE-2025-4228', 'url': 'https://www.cve.org/CVERecord?id=CVE-2025-4228'}, {'name': 'CVE-2025-5419', 'url': 'https://www.cve.org/CVERecord?id=CVE-2025-5419'}, {'name': 'CVE-2025-4227', 'url': 'https://www.cve.org/CVERecord?id=CVE-2025-4227'}, {'name': 'CVE-2025-4232', 'url': 'https://www.cve.org/CVERecord?id=CVE-2025-4232'}, {'name': 'CVE-2025-5068', 'url': 'https://www.cve.org/CVERecord?id=CVE-2025-5068'}, {'name': 'CVE-2025-5067', 'url': 'https://www.cve.org/CVERecord?id=CVE-2025-5067'}, {'name': 'CVE-2025-5283', 'url': 'https://www.cve.org/CVERecord?id=CVE-2025-5283'}, {'name': 'CVE-2025-5063', 'url': 'https://www.cve.org/CVERecord?id=CVE-2025-5063'}]\n",
      "Type de références <class 'list'>\n",
      "Type des éléments de la liste <class 'dict'>\n",
      "CVE trouvés : ['CVE-2025-4230', 'CVE-2025-4228', 'CVE-2025-4664', 'CVE-2025-4231', 'CVE-2025-5066', 'CVE-2025-5068', 'CVE-2025-4233', 'CVE-2025-5283', 'CVE-2025-5280', 'CVE-2025-4229', 'CVE-2025-4227', 'CVE-2025-5067', 'CVE-2025-5281', 'CVE-2025-5065', 'CVE-2025-5063', 'CVE-2025-4232', 'CVE-2025-5064', 'CVE-2025-5419']\n"
     ]
    },
    {
     "name": "stderr",
     "output_type": "stream",
     "text": [
      " 36%|███▋      | 29/80 [02:57<03:34,  4.22s/it]"
     ]
    },
    {
     "name": "stdout",
     "output_type": "stream",
     "text": [
      "CVE références : [{'name': 'CVE-2025-41234', 'url': 'https://www.cve.org/CVERecord?id=CVE-2025-41234'}]\n",
      "Type de références <class 'list'>\n",
      "Type des éléments de la liste <class 'dict'>\n",
      "CVE trouvés : ['CVE-2025-41234']\n"
     ]
    },
    {
     "name": "stderr",
     "output_type": "stream",
     "text": [
      " 38%|███▊      | 30/80 [02:57<02:33,  3.08s/it]"
     ]
    },
    {
     "name": "stdout",
     "output_type": "stream",
     "text": [
      "CVE références : [{'name': 'CVE-2025-36632', 'url': 'https://www.cve.org/CVERecord?id=CVE-2025-36632'}, {'name': 'CVE-2025-36633', 'url': 'https://www.cve.org/CVERecord?id=CVE-2025-36633'}, {'name': 'CVE-2025-36631', 'url': 'https://www.cve.org/CVERecord?id=CVE-2025-36631'}]\n",
      "Type de références <class 'list'>\n",
      "Type des éléments de la liste <class 'dict'>\n",
      "CVE trouvés : ['CVE-2025-36633', 'CVE-2025-36632', 'CVE-2025-36631']\n"
     ]
    },
    {
     "name": "stderr",
     "output_type": "stream",
     "text": [
      " 39%|███▉      | 31/80 [02:59<02:03,  2.52s/it]"
     ]
    },
    {
     "name": "stdout",
     "output_type": "stream",
     "text": [
      "CVE références : [{'name': 'CVE-2024-55565', 'url': 'https://www.cve.org/CVERecord?id=CVE-2024-55565'}, {'name': 'CVE-2024-12797', 'url': 'https://www.cve.org/CVERecord?id=CVE-2024-12797'}, {'name': 'CVE-2024-11831', 'url': 'https://www.cve.org/CVERecord?id=CVE-2024-11831'}, {'name': 'CVE-2024-21538', 'url': 'https://www.cve.org/CVERecord?id=CVE-2024-21538'}, {'name': 'CVE-2024-48948', 'url': 'https://www.cve.org/CVERecord?id=CVE-2024-48948'}, {'name': 'CVE-2025-32434', 'url': 'https://www.cve.org/CVERecord?id=CVE-2025-32434'}, {'name': 'CVE-2025-26791', 'url': 'https://www.cve.org/CVERecord?id=CVE-2025-26791'}, {'name': 'CVE-2025-27789', 'url': 'https://www.cve.org/CVERecord?id=CVE-2025-27789'}]\n",
      "Type de références <class 'list'>\n",
      "Type des éléments de la liste <class 'dict'>\n",
      "CVE trouvés : ['CVE-2024-11831', 'CVE-2024-12797', 'CVE-2025-32434', 'CVE-2025-27789', 'CVE-2025-26791', 'CVE-2024-48948', 'CVE-2024-55565', 'CVE-2024-21538']\n"
     ]
    },
    {
     "name": "stderr",
     "output_type": "stream",
     "text": [
      " 40%|████      | 32/80 [03:02<02:11,  2.73s/it]"
     ]
    },
    {
     "name": "stdout",
     "output_type": "stream",
     "text": [
      "CVE références : [{'name': 'CVE-2023-53062', 'url': 'https://www.cve.org/CVERecord?id=CVE-2023-53062'}, {'name': 'CVE-2024-57981', 'url': 'https://www.cve.org/CVERecord?id=CVE-2024-57981'}, {'name': 'CVE-2025-22003', 'url': 'https://www.cve.org/CVERecord?id=CVE-2025-22003'}, {'name': 'CVE-2022-49790', 'url': 'https://www.cve.org/CVERecord?id=CVE-2022-49790'}, {'name': 'CVE-2024-57994', 'url': 'https://www.cve.org/CVERecord?id=CVE-2024-57994'}, {'name': 'CVE-2024-50223', 'url': 'https://www.cve.org/CVERecord?id=CVE-2024-50223'}, {'name': 'CVE-2025-21975', 'url': 'https://www.cve.org/CVERecord?id=CVE-2025-21975'}, {'name': 'CVE-2022-49928', 'url': 'https://www.cve.org/CVERecord?id=CVE-2022-49928'}, {'name': 'CVE-2025-21980', 'url': 'https://www.cve.org/CVERecord?id=CVE-2025-21980'}, {'name': 'CVE-2025-21889', 'url': 'https://www.cve.org/CVERecord?id=CVE-2025-21889'}, {'name': 'CVE-2025-21861', 'url': 'https://www.cve.org/CVERecord?id=CVE-2025-21861'}, {'name': 'CVE-2025-21937', 'url': 'https://www.cve.org/CVERecord?id=CVE-2025-21937'}, {'name': 'CVE-2024-46713', 'url': 'https://www.cve.org/CVERecord?id=CVE-2024-46713'}, {'name': 'CVE-2025-37804', 'url': 'https://www.cve.org/CVERecord?id=CVE-2025-37804'}, {'name': 'CVE-2024-58088', 'url': 'https://www.cve.org/CVERecord?id=CVE-2024-58088'}, {'name': 'CVE-2022-49110', 'url': 'https://www.cve.org/CVERecord?id=CVE-2022-49110'}, {'name': 'CVE-2025-22107', 'url': 'https://www.cve.org/CVERecord?id=CVE-2025-22107'}, {'name': 'CVE-2024-27018', 'url': 'https://www.cve.org/CVERecord?id=CVE-2024-27018'}, {'name': 'CVE-2025-22033', 'url': 'https://www.cve.org/CVERecord?id=CVE-2025-22033'}, {'name': 'CVE-2024-56703', 'url': 'https://www.cve.org/CVERecord?id=CVE-2024-56703'}, {'name': 'CVE-2025-39728', 'url': 'https://www.cve.org/CVERecord?id=CVE-2025-39728'}, {'name': 'CVE-2023-52926', 'url': 'https://www.cve.org/CVERecord?id=CVE-2023-52926'}, {'name': 'CVE-2022-49809', 'url': 'https://www.cve.org/CVERecord?id=CVE-2022-49809'}, {'name': 'CVE-2024-43869', 'url': 'https://www.cve.org/CVERecord?id=CVE-2024-43869'}, {'name': 'CVE-2023-53079', 'url': 'https://www.cve.org/CVERecord?id=CVE-2023-53079'}, {'name': 'CVE-2024-57973', 'url': 'https://www.cve.org/CVERecord?id=CVE-2024-57973'}, {'name': 'CVE-2023-53056', 'url': 'https://www.cve.org/CVERecord?id=CVE-2023-53056'}, {'name': 'CVE-2025-22017', 'url': 'https://www.cve.org/CVERecord?id=CVE-2025-22017'}, {'name': 'CVE-2024-58094', 'url': 'https://www.cve.org/CVERecord?id=CVE-2024-58094'}, {'name': 'CVE-2025-21881', 'url': 'https://www.cve.org/CVERecord?id=CVE-2025-21881'}, {'name': 'CVE-2025-21951', 'url': 'https://www.cve.org/CVERecord?id=CVE-2025-21951'}, {'name': 'CVE-2022-49885', 'url': 'https://www.cve.org/CVERecord?id=CVE-2022-49885'}, {'name': 'CVE-2022-49769', 'url': 'https://www.cve.org/CVERecord?id=CVE-2022-49769'}, {'name': 'CVE-2024-58034', 'url': 'https://www.cve.org/CVERecord?id=CVE-2024-58034'}, {'name': 'CVE-2022-49823', 'url': 'https://www.cve.org/CVERecord?id=CVE-2022-49823'}, {'name': 'CVE-2025-22025', 'url': 'https://www.cve.org/CVERecord?id=CVE-2025-22025'}, {'name': 'CVE-2025-22036', 'url': 'https://www.cve.org/CVERecord?id=CVE-2025-22036'}, {'name': 'CVE-2025-21743', 'url': 'https://www.cve.org/CVERecord?id=CVE-2025-21743'}, {'name': 'CVE-2025-37870', 'url': 'https://www.cve.org/CVERecord?id=CVE-2025-37870'}, {'name': 'CVE-2025-21852', 'url': 'https://www.cve.org/CVERecord?id=CVE-2025-21852'}, {'name': 'CVE-2024-26634', 'url': 'https://www.cve.org/CVERecord?id=CVE-2024-26634'}, {'name': 'CVE-2024-50029', 'url': 'https://www.cve.org/CVERecord?id=CVE-2024-50029'}, {'name': 'CVE-2025-22027', 'url': 'https://www.cve.org/CVERecord?id=CVE-2025-22027'}, {'name': 'CVE-2023-53131', 'url': 'https://www.cve.org/CVERecord?id=CVE-2023-53131'}, {'name': 'CVE-2025-21847', 'url': 'https://www.cve.org/CVERecord?id=CVE-2025-21847'}, {'name': 'CVE-2024-58069', 'url': 'https://www.cve.org/CVERecord?id=CVE-2024-58069'}, {'name': 'CVE-2022-49826', 'url': 'https://www.cve.org/CVERecord?id=CVE-2022-49826'}, {'name': 'CVE-2025-21853', 'url': 'https://www.cve.org/CVERecord?id=CVE-2025-21853'}, {'name': 'CVE-2025-21871', 'url': 'https://www.cve.org/CVERecord?id=CVE-2025-21871'}, {'name': 'CVE-2025-21931', 'url': 'https://www.cve.org/CVERecord?id=CVE-2025-21931'}, {'name': 'CVE-2025-21731', 'url': 'https://www.cve.org/CVERecord?id=CVE-2025-21731'}, {'name': 'CVE-2025-21941', 'url': 'https://www.cve.org/CVERecord?id=CVE-2025-21941'}, {'name': 'CVE-2025-22126', 'url': 'https://www.cve.org/CVERecord?id=CVE-2025-22126'}, {'name': 'CVE-2025-37755', 'url': 'https://www.cve.org/CVERecord?id=CVE-2025-37755'}, {'name': 'CVE-2022-49799', 'url': 'https://www.cve.org/CVERecord?id=CVE-2022-49799'}, {'name': 'CVE-2022-49874', 'url': 'https://www.cve.org/CVERecord?id=CVE-2022-49874'}, {'name': 'CVE-2025-37833', 'url': 'https://www.cve.org/CVERecord?id=CVE-2025-37833'}, {'name': 'CVE-2024-58009', 'url': 'https://www.cve.org/CVERecord?id=CVE-2024-58009'}, {'name': 'CVE-2023-53034', 'url': 'https://www.cve.org/CVERecord?id=CVE-2023-53034'}, {'name': 'CVE-2025-21823', 'url': 'https://www.cve.org/CVERecord?id=CVE-2025-21823'}, {'name': 'CVE-2025-21794', 'url': 'https://www.cve.org/CVERecord?id=CVE-2025-21794'}, {'name': 'CVE-2025-23138', 'url': 'https://www.cve.org/CVERecord?id=CVE-2025-23138'}, {'name': 'CVE-2025-21763', 'url': 'https://www.cve.org/CVERecord?id=CVE-2025-21763'}, {'name': 'CVE-2025-38152', 'url': 'https://www.cve.org/CVERecord?id=CVE-2025-38152'}, {'name': 'CVE-2025-23129', 'url': 'https://www.cve.org/CVERecord?id=CVE-2025-23129'}, {'name': 'CVE-2024-50038', 'url': 'https://www.cve.org/CVERecord?id=CVE-2024-50038'}, {'name': 'CVE-2025-37790', 'url': 'https://www.cve.org/CVERecord?id=CVE-2025-37790'}, {'name': 'CVE-2025-22106', 'url': 'https://www.cve.org/CVERecord?id=CVE-2025-22106'}, {'name': 'CVE-2025-21922', 'url': 'https://www.cve.org/CVERecord?id=CVE-2025-21922'}, {'name': 'CVE-2025-22021', 'url': 'https://www.cve.org/CVERecord?id=CVE-2025-22021'}, {'name': 'CVE-2022-49787', 'url': 'https://www.cve.org/CVERecord?id=CVE-2022-49787'}, {'name': 'CVE-2023-53100', 'url': 'https://www.cve.org/CVERecord?id=CVE-2023-53100'}, {'name': 'CVE-2024-57980', 'url': 'https://www.cve.org/CVERecord?id=CVE-2024-57980'}, {'name': 'CVE-2024-58011', 'url': 'https://www.cve.org/CVERecord?id=CVE-2024-58011'}, {'name': 'CVE-2025-21796', 'url': 'https://www.cve.org/CVERecord?id=CVE-2025-21796'}, {'name': 'CVE-2023-53119', 'url': 'https://www.cve.org/CVERecord?id=CVE-2023-53119'}, {'name': 'CVE-2022-49793', 'url': 'https://www.cve.org/CVERecord?id=CVE-2022-49793'}, {'name': 'CVE-2022-49892', 'url': 'https://www.cve.org/CVERecord?id=CVE-2022-49892'}, {'name': 'CVE-2025-22093', 'url': 'https://www.cve.org/CVERecord?id=CVE-2025-22093'}, {'name': 'CVE-2023-53090', 'url': 'https://www.cve.org/CVERecord?id=CVE-2023-53090'}, {'name': 'CVE-2025-22125', 'url': 'https://www.cve.org/CVERecord?id=CVE-2025-22125'}, {'name': 'CVE-2023-53059', 'url': 'https://www.cve.org/CVERecord?id=CVE-2023-53059'}, {'name': 'CVE-2024-47408', 'url': 'https://www.cve.org/CVERecord?id=CVE-2024-47408'}, {'name': 'CVE-2022-49845', 'url': 'https://www.cve.org/CVERecord?id=CVE-2022-49845'}, {'name': 'CVE-2025-21738', 'url': 'https://www.cve.org/CVERecord?id=CVE-2025-21738'}, {'name': 'CVE-2022-49775', 'url': 'https://www.cve.org/CVERecord?id=CVE-2022-49775'}, {'name': 'CVE-2023-53049', 'url': 'https://www.cve.org/CVERecord?id=CVE-2023-53049'}, {'name': 'CVE-2023-52927', 'url': 'https://www.cve.org/CVERecord?id=CVE-2023-52927'}, {'name': 'CVE-2025-37773', 'url': 'https://www.cve.org/CVERecord?id=CVE-2025-37773'}, {'name': 'CVE-2025-22050', 'url': 'https://www.cve.org/CVERecord?id=CVE-2025-22050'}, {'name': 'CVE-2024-58061', 'url': 'https://www.cve.org/CVERecord?id=CVE-2024-58061'}, {'name': 'CVE-2024-58058', 'url': 'https://www.cve.org/CVERecord?id=CVE-2024-58058'}, {'name': 'CVE-2025-21768', 'url': 'https://www.cve.org/CVERecord?id=CVE-2025-21768'}, {'name': 'CVE-2025-21864', 'url': 'https://www.cve.org/CVERecord?id=CVE-2025-21864'}, {'name': 'CVE-2022-49839', 'url': 'https://www.cve.org/CVERecord?id=CVE-2022-49839'}, {'name': 'CVE-2024-58056', 'url': 'https://www.cve.org/CVERecord?id=CVE-2024-58056'}, {'name': 'CVE-2025-23131', 'url': 'https://www.cve.org/CVERecord?id=CVE-2025-23131'}, {'name': 'CVE-2025-21725', 'url': 'https://www.cve.org/CVERecord?id=CVE-2025-21725'}, {'name': 'CVE-2022-49909', 'url': 'https://www.cve.org/CVERecord?id=CVE-2022-49909'}, {'name': 'CVE-2025-22009', 'url': 'https://www.cve.org/CVERecord?id=CVE-2025-22009'}, {'name': 'CVE-2025-21727', 'url': 'https://www.cve.org/CVERecord?id=CVE-2025-21727'}, {'name': 'CVE-2023-53101', 'url': 'https://www.cve.org/CVERecord?id=CVE-2023-53101'}, {'name': 'CVE-2025-22103', 'url': 'https://www.cve.org/CVERecord?id=CVE-2025-22103'}, {'name': 'CVE-2025-21904', 'url': 'https://www.cve.org/CVERecord?id=CVE-2025-21904'}, {'name': 'CVE-2025-37798', 'url': 'https://www.cve.org/CVERecord?id=CVE-2025-37798'}, {'name': 'CVE-2022-49779', 'url': 'https://www.cve.org/CVERecord?id=CVE-2022-49779'}, {'name': 'CVE-2023-53084', 'url': 'https://www.cve.org/CVERecord?id=CVE-2023-53084'}, {'name': 'CVE-2025-37860', 'url': 'https://www.cve.org/CVERecord?id=CVE-2025-37860'}, {'name': 'CVE-2022-49906', 'url': 'https://www.cve.org/CVERecord?id=CVE-2022-49906'}, {'name': 'CVE-2025-22004', 'url': 'https://www.cve.org/CVERecord?id=CVE-2025-22004'}, {'name': 'CVE-2025-21735', 'url': 'https://www.cve.org/CVERecord?id=CVE-2025-21735'}, {'name': 'CVE-2022-49925', 'url': 'https://www.cve.org/CVERecord?id=CVE-2022-49925'}, {'name': 'CVE-2022-49771', 'url': 'https://www.cve.org/CVERecord?id=CVE-2022-49771'}, {'name': 'CVE-2022-49881', 'url': 'https://www.cve.org/CVERecord?id=CVE-2022-49881'}, {'name': 'CVE-2022-49924', 'url': 'https://www.cve.org/CVERecord?id=CVE-2022-49924'}, {'name': 'CVE-2022-49887', 'url': 'https://www.cve.org/CVERecord?id=CVE-2022-49887'}, {'name': 'CVE-2024-58063', 'url': 'https://www.cve.org/CVERecord?id=CVE-2024-58063'}, {'name': 'CVE-2023-53075', 'url': 'https://www.cve.org/CVERecord?id=CVE-2023-53075'}, {'name': 'CVE-2025-22121', 'url': 'https://www.cve.org/CVERecord?id=CVE-2025-22121'}, {'name': 'CVE-2025-21779', 'url': 'https://www.cve.org/CVERecord?id=CVE-2025-21779'}, {'name': 'CVE-2024-58005', 'url': 'https://www.cve.org/CVERecord?id=CVE-2024-58005'}, {'name': 'CVE-2025-21918', 'url': 'https://www.cve.org/CVERecord?id=CVE-2025-21918'}, {'name': 'CVE-2023-53087', 'url': 'https://www.cve.org/CVERecord?id=CVE-2023-53087'}, {'name': 'CVE-2025-21671', 'url': 'https://www.cve.org/CVERecord?id=CVE-2025-21671'}, {'name': 'CVE-2022-49910', 'url': 'https://www.cve.org/CVERecord?id=CVE-2022-49910'}, {'name': 'CVE-2025-21948', 'url': 'https://www.cve.org/CVERecord?id=CVE-2025-21948'}, {'name': 'CVE-2025-37789', 'url': 'https://www.cve.org/CVERecord?id=CVE-2025-37789'}, {'name': 'CVE-2025-21753', 'url': 'https://www.cve.org/CVERecord?id=CVE-2025-21753'}, {'name': 'CVE-2025-22030', 'url': 'https://www.cve.org/CVERecord?id=CVE-2025-22030'}, {'name': 'CVE-2025-22116', 'url': 'https://www.cve.org/CVERecord?id=CVE-2025-22116'}, {'name': 'CVE-2025-21635', 'url': 'https://www.cve.org/CVERecord?id=CVE-2025-21635'}, {'name': 'CVE-2023-53116', 'url': 'https://www.cve.org/CVERecord?id=CVE-2023-53116'}, {'name': 'CVE-2025-21993', 'url': 'https://www.cve.org/CVERecord?id=CVE-2025-21993'}, {'name': 'CVE-2025-23160', 'url': 'https://www.cve.org/CVERecord?id=CVE-2025-23160'}, {'name': 'CVE-2022-49767', 'url': 'https://www.cve.org/CVERecord?id=CVE-2022-49767'}, {'name': 'CVE-2022-49830', 'url': 'https://www.cve.org/CVERecord?id=CVE-2022-49830'}, {'name': 'CVE-2025-37842', 'url': 'https://www.cve.org/CVERecord?id=CVE-2025-37842'}, {'name': 'CVE-2024-50162', 'url': 'https://www.cve.org/CVERecord?id=CVE-2024-50162'}, {'name': 'CVE-2025-21836', 'url': 'https://www.cve.org/CVERecord?id=CVE-2025-21836'}, {'name': 'CVE-2025-21715', 'url': 'https://www.cve.org/CVERecord?id=CVE-2025-21715'}, {'name': 'CVE-2024-53057', 'url': 'https://www.cve.org/CVERecord?id=CVE-2024-53057'}, {'name': 'CVE-2025-21781', 'url': 'https://www.cve.org/CVERecord?id=CVE-2025-21781'}, {'name': 'CVE-2024-58054', 'url': 'https://www.cve.org/CVERecord?id=CVE-2024-58054'}, {'name': 'CVE-2022-49858', 'url': 'https://www.cve.org/CVERecord?id=CVE-2022-49858'}, {'name': 'CVE-2025-22105', 'url': 'https://www.cve.org/CVERecord?id=CVE-2025-22105'}, {'name': 'CVE-2025-21833', 'url': 'https://www.cve.org/CVERecord?id=CVE-2025-21833'}, {'name': 'CVE-2025-21729', 'url': 'https://www.cve.org/CVERecord?id=CVE-2025-21729'}, {'name': 'CVE-2025-38637', 'url': 'https://www.cve.org/CVERecord?id=CVE-2025-38637'}, {'name': 'CVE-2024-57900', 'url': 'https://www.cve.org/CVERecord?id=CVE-2024-57900'}, {'name': 'CVE-2025-22055', 'url': 'https://www.cve.org/CVERecord?id=CVE-2025-22055'}, {'name': 'CVE-2025-21772', 'url': 'https://www.cve.org/CVERecord?id=CVE-2025-21772'}, {'name': 'CVE-2023-53068', 'url': 'https://www.cve.org/CVERecord?id=CVE-2023-53068'}, {'name': 'CVE-2022-49853', 'url': 'https://www.cve.org/CVERecord?id=CVE-2022-49853'}, {'name': 'CVE-2024-58070', 'url': 'https://www.cve.org/CVERecord?id=CVE-2024-58070'}, {'name': 'CVE-2025-22090', 'url': 'https://www.cve.org/CVERecord?id=CVE-2025-22090'}, {'name': 'CVE-2025-21914', 'url': 'https://www.cve.org/CVERecord?id=CVE-2025-21914'}, {'name': 'CVE-2024-58057', 'url': 'https://www.cve.org/CVERecord?id=CVE-2024-58057'}, {'name': 'CVE-2023-52831', 'url': 'https://www.cve.org/CVERecord?id=CVE-2023-52831'}, {'name': 'CVE-2024-58007', 'url': 'https://www.cve.org/CVERecord?id=CVE-2024-58007'}, {'name': 'CVE-2025-21995', 'url': 'https://www.cve.org/CVERecord?id=CVE-2025-21995'}, {'name': 'CVE-2023-53106', 'url': 'https://www.cve.org/CVERecord?id=CVE-2023-53106'}, {'name': 'CVE-2025-21915', 'url': 'https://www.cve.org/CVERecord?id=CVE-2025-21915'}, {'name': 'CVE-2025-21792', 'url': 'https://www.cve.org/CVERecord?id=CVE-2025-21792'}, {'name': 'CVE-2025-21728', 'url': 'https://www.cve.org/CVERecord?id=CVE-2025-21728'}, {'name': 'CVE-2024-58018', 'url': 'https://www.cve.org/CVERecord?id=CVE-2024-58018'}, {'name': 'CVE-2022-49865', 'url': 'https://www.cve.org/CVERecord?id=CVE-2022-49865'}, {'name': 'CVE-2024-53063', 'url': 'https://www.cve.org/CVERecord?id=CVE-2024-53063'}, {'name': 'CVE-2025-37958', 'url': 'https://www.cve.org/CVERecord?id=CVE-2025-37958'}, {'name': 'CVE-2025-21714', 'url': 'https://www.cve.org/CVERecord?id=CVE-2025-21714'}, {'name': 'CVE-2024-58078', 'url': 'https://www.cve.org/CVERecord?id=CVE-2024-58078'}, {'name': 'CVE-2025-21855', 'url': 'https://www.cve.org/CVERecord?id=CVE-2025-21855'}, {'name': 'CVE-2025-21972', 'url': 'https://www.cve.org/CVERecord?id=CVE-2025-21972'}, {'name': 'CVE-2024-56770', 'url': 'https://www.cve.org/CVERecord?id=CVE-2024-56770'}, {'name': 'CVE-2023-53139', 'url': 'https://www.cve.org/CVERecord?id=CVE-2023-53139'}, {'name': 'CVE-2022-49770', 'url': 'https://www.cve.org/CVERecord?id=CVE-2022-49770'}, {'name': 'CVE-2023-53092', 'url': 'https://www.cve.org/CVERecord?id=CVE-2023-53092'}, {'name': 'CVE-2024-53124', 'url': 'https://www.cve.org/CVERecord?id=CVE-2024-53124'}, {'name': 'CVE-2024-56718', 'url': 'https://www.cve.org/CVERecord?id=CVE-2024-56718'}, {'name': 'CVE-2025-21831', 'url': 'https://www.cve.org/CVERecord?id=CVE-2025-21831'}, {'name': 'CVE-2025-21830', 'url': 'https://www.cve.org/CVERecord?id=CVE-2025-21830'}, {'name': 'CVE-2025-21755', 'url': 'https://www.cve.org/CVERecord?id=CVE-2025-21755'}, {'name': 'CVE-2025-21876', 'url': 'https://www.cve.org/CVERecord?id=CVE-2025-21876'}, {'name': 'CVE-2025-21767', 'url': 'https://www.cve.org/CVERecord?id=CVE-2025-21767'}, {'name': 'CVE-2022-49835', 'url': 'https://www.cve.org/CVERecord?id=CVE-2022-49835'}, {'name': 'CVE-2022-3564', 'url': 'https://www.cve.org/CVERecord?id=CVE-2022-3564'}, {'name': 'CVE-2025-37820', 'url': 'https://www.cve.org/CVERecord?id=CVE-2025-37820'}, {'name': 'CVE-2025-37787', 'url': 'https://www.cve.org/CVERecord?id=CVE-2025-37787'}, {'name': 'CVE-2025-21961', 'url': 'https://www.cve.org/CVERecord?id=CVE-2025-21961'}, {'name': 'CVE-2025-21764', 'url': 'https://www.cve.org/CVERecord?id=CVE-2025-21764'}, {'name': 'CVE-2024-57974', 'url': 'https://www.cve.org/CVERecord?id=CVE-2024-57974'}, {'name': 'CVE-2024-58093', 'url': 'https://www.cve.org/CVERecord?id=CVE-2024-58093'}, {'name': 'CVE-2025-22080', 'url': 'https://www.cve.org/CVERecord?id=CVE-2025-22080'}, {'name': 'CVE-2024-58085', 'url': 'https://www.cve.org/CVERecord?id=CVE-2024-58085'}, {'name': 'CVE-2024-38606', 'url': 'https://www.cve.org/CVERecord?id=CVE-2024-38606'}, {'name': 'CVE-2024-57996', 'url': 'https://www.cve.org/CVERecord?id=CVE-2024-57996'}, {'name': 'CVE-2025-21838', 'url': 'https://www.cve.org/CVERecord?id=CVE-2025-21838'}, {'name': 'CVE-2025-21867', 'url': 'https://www.cve.org/CVERecord?id=CVE-2025-21867'}, {'name': 'CVE-2024-49994', 'url': 'https://www.cve.org/CVERecord?id=CVE-2024-49994'}, {'name': 'CVE-2025-21828', 'url': 'https://www.cve.org/CVERecord?id=CVE-2025-21828'}, {'name': 'CVE-2022-49841', 'url': 'https://www.cve.org/CVERecord?id=CVE-2022-49841'}, {'name': 'CVE-2025-21704', 'url': 'https://www.cve.org/CVERecord?id=CVE-2025-21704'}, {'name': 'CVE-2025-21936', 'url': 'https://www.cve.org/CVERecord?id=CVE-2025-21936'}, {'name': 'CVE-2024-58013', 'url': 'https://www.cve.org/CVERecord?id=CVE-2024-58013'}, {'name': 'CVE-2022-49563', 'url': 'https://www.cve.org/CVERecord?id=CVE-2022-49563'}, {'name': 'CVE-2025-21909', 'url': 'https://www.cve.org/CVERecord?id=CVE-2025-21909'}, {'name': 'CVE-2025-21766', 'url': 'https://www.cve.org/CVERecord?id=CVE-2025-21766'}, {'name': 'CVE-2022-49871', 'url': 'https://www.cve.org/CVERecord?id=CVE-2022-49871'}, {'name': 'CVE-2024-58095', 'url': 'https://www.cve.org/CVERecord?id=CVE-2024-58095'}, {'name': 'CVE-2022-49836', 'url': 'https://www.cve.org/CVERecord?id=CVE-2022-49836'}, {'name': 'CVE-2025-37974', 'url': 'https://www.cve.org/CVERecord?id=CVE-2025-37974'}, {'name': 'CVE-2024-50106', 'url': 'https://www.cve.org/CVERecord?id=CVE-2024-50106'}, {'name': 'CVE-2022-49888', 'url': 'https://www.cve.org/CVERecord?id=CVE-2022-49888'}, {'name': 'CVE-2024-57834', 'url': 'https://www.cve.org/CVERecord?id=CVE-2024-57834'}, {'name': 'CVE-2022-49772', 'url': 'https://www.cve.org/CVERecord?id=CVE-2022-49772'}, {'name': 'CVE-2024-58017', 'url': 'https://www.cve.org/CVERecord?id=CVE-2024-58017'}, {'name': 'CVE-2022-49807', 'url': 'https://www.cve.org/CVERecord?id=CVE-2022-49807'}, {'name': 'CVE-2022-49827', 'url': 'https://www.cve.org/CVERecord?id=CVE-2022-49827'}, {'name': 'CVE-2022-49812', 'url': 'https://www.cve.org/CVERecord?id=CVE-2022-49812'}, {'name': 'CVE-2025-21981', 'url': 'https://www.cve.org/CVERecord?id=CVE-2025-21981'}, {'name': 'CVE-2025-21910', 'url': 'https://www.cve.org/CVERecord?id=CVE-2025-21910'}, {'name': 'CVE-2024-56719', 'url': 'https://www.cve.org/CVERecord?id=CVE-2024-56719'}, {'name': 'CVE-2025-21745', 'url': 'https://www.cve.org/CVERecord?id=CVE-2025-21745'}, {'name': 'CVE-2025-21791', 'url': 'https://www.cve.org/CVERecord?id=CVE-2025-21791'}, {'name': 'CVE-2024-52559', 'url': 'https://www.cve.org/CVERecord?id=CVE-2024-52559'}, {'name': 'CVE-2025-37887', 'url': 'https://www.cve.org/CVERecord?id=CVE-2025-37887'}, {'name': 'CVE-2023-53140', 'url': 'https://www.cve.org/CVERecord?id=CVE-2023-53140'}, {'name': 'CVE-2022-49846', 'url': 'https://www.cve.org/CVERecord?id=CVE-2022-49846'}, {'name': 'CVE-2025-37750', 'url': 'https://www.cve.org/CVERecord?id=CVE-2025-37750'}, {'name': 'CVE-2025-21795', 'url': 'https://www.cve.org/CVERecord?id=CVE-2025-21795'}, {'name': 'CVE-2025-22014', 'url': 'https://www.cve.org/CVERecord?id=CVE-2025-22014'}, {'name': 'CVE-2025-21814', 'url': 'https://www.cve.org/CVERecord?id=CVE-2025-21814'}, {'name': 'CVE-2022-49870', 'url': 'https://www.cve.org/CVERecord?id=CVE-2022-49870'}, {'name': 'CVE-2024-58012', 'url': 'https://www.cve.org/CVERecord?id=CVE-2024-58012'}, {'name': 'CVE-2022-49080', 'url': 'https://www.cve.org/CVERecord?id=CVE-2022-49080'}, {'name': 'CVE-2023-53051', 'url': 'https://www.cve.org/CVERecord?id=CVE-2023-53051'}, {'name': 'CVE-2025-21758', 'url': 'https://www.cve.org/CVERecord?id=CVE-2025-21758'}, {'name': 'CVE-2022-49931', 'url': 'https://www.cve.org/CVERecord?id=CVE-2022-49931'}, {'name': 'CVE-2025-21996', 'url': 'https://www.cve.org/CVERecord?id=CVE-2025-21996'}, {'name': 'CVE-2025-21780', 'url': 'https://www.cve.org/CVERecord?id=CVE-2025-21780'}, {'name': 'CVE-2025-21787', 'url': 'https://www.cve.org/CVERecord?id=CVE-2025-21787'}, {'name': 'CVE-2025-21953', 'url': 'https://www.cve.org/CVERecord?id=CVE-2025-21953'}, {'name': 'CVE-2023-53060', 'url': 'https://www.cve.org/CVERecord?id=CVE-2023-53060'}, {'name': 'CVE-2025-23136', 'url': 'https://www.cve.org/CVERecord?id=CVE-2025-23136'}, {'name': 'CVE-2025-37785', 'url': 'https://www.cve.org/CVERecord?id=CVE-2025-37785'}, {'name': 'CVE-2025-21776', 'url': 'https://www.cve.org/CVERecord?id=CVE-2025-21776'}, {'name': 'CVE-2024-35840', 'url': 'https://www.cve.org/CVERecord?id=CVE-2024-35840'}, {'name': 'CVE-2025-21917', 'url': 'https://www.cve.org/CVERecord?id=CVE-2025-21917'}, {'name': 'CVE-2025-21706', 'url': 'https://www.cve.org/CVERecord?id=CVE-2025-21706'}, {'name': 'CVE-2024-57807', 'url': 'https://www.cve.org/CVERecord?id=CVE-2024-57807'}, {'name': 'CVE-2022-49834', 'url': 'https://www.cve.org/CVERecord?id=CVE-2022-49834'}, {'name': 'CVE-2024-50294', 'url': 'https://www.cve.org/CVERecord?id=CVE-2024-50294'}, {'name': 'CVE-2025-21957', 'url': 'https://www.cve.org/CVERecord?id=CVE-2025-21957'}, {'name': 'CVE-2025-21999', 'url': 'https://www.cve.org/CVERecord?id=CVE-2025-21999'}, {'name': 'CVE-2025-21736', 'url': 'https://www.cve.org/CVERecord?id=CVE-2025-21736'}, {'name': 'CVE-2025-21741', 'url': 'https://www.cve.org/CVERecord?id=CVE-2025-21741'}, {'name': 'CVE-2025-21808', 'url': 'https://www.cve.org/CVERecord?id=CVE-2025-21808'}, {'name': 'CVE-2023-53118', 'url': 'https://www.cve.org/CVERecord?id=CVE-2023-53118'}, {'name': 'CVE-2024-58076', 'url': 'https://www.cve.org/CVERecord?id=CVE-2024-58076'}, {'name': 'CVE-2025-21708', 'url': 'https://www.cve.org/CVERecord?id=CVE-2025-21708'}, {'name': 'CVE-2025-37803', 'url': 'https://www.cve.org/CVERecord?id=CVE-2025-37803'}, {'name': 'CVE-2025-21992', 'url': 'https://www.cve.org/CVERecord?id=CVE-2025-21992'}, {'name': 'CVE-2025-21819', 'url': 'https://www.cve.org/CVERecord?id=CVE-2025-21819'}, {'name': 'CVE-2025-37824', 'url': 'https://www.cve.org/CVERecord?id=CVE-2025-37824'}, {'name': 'CVE-2025-22044', 'url': 'https://www.cve.org/CVERecord?id=CVE-2025-22044'}, {'name': 'CVE-2025-21711', 'url': 'https://www.cve.org/CVERecord?id=CVE-2025-21711'}, {'name': 'CVE-2022-49776', 'url': 'https://www.cve.org/CVERecord?id=CVE-2022-49776'}, {'name': 'CVE-2022-49800', 'url': 'https://www.cve.org/CVERecord?id=CVE-2022-49800'}, {'name': 'CVE-2025-22062', 'url': 'https://www.cve.org/CVERecord?id=CVE-2025-22062'}, {'name': 'CVE-2025-21978', 'url': 'https://www.cve.org/CVERecord?id=CVE-2025-21978'}, {'name': 'CVE-2025-21760', 'url': 'https://www.cve.org/CVERecord?id=CVE-2025-21760'}, {'name': 'CVE-2025-21913', 'url': 'https://www.cve.org/CVERecord?id=CVE-2025-21913'}, {'name': 'CVE-2023-53045', 'url': 'https://www.cve.org/CVERecord?id=CVE-2023-53045'}, {'name': 'CVE-2025-22058', 'url': 'https://www.cve.org/CVERecord?id=CVE-2025-22058'}, {'name': 'CVE-2023-53114', 'url': 'https://www.cve.org/CVERecord?id=CVE-2023-53114'}, {'name': 'CVE-2025-37831', 'url': 'https://www.cve.org/CVERecord?id=CVE-2025-37831'}, {'name': 'CVE-2025-22018', 'url': 'https://www.cve.org/CVERecord?id=CVE-2025-22018'}, {'name': 'CVE-2024-41005', 'url': 'https://www.cve.org/CVERecord?id=CVE-2024-41005'}, {'name': 'CVE-2024-58079', 'url': 'https://www.cve.org/CVERecord?id=CVE-2024-58079'}, {'name': 'CVE-2025-21966', 'url': 'https://www.cve.org/CVERecord?id=CVE-2025-21966'}, {'name': 'CVE-2022-49869', 'url': 'https://www.cve.org/CVERecord?id=CVE-2022-49869'}, {'name': 'CVE-2025-21734', 'url': 'https://www.cve.org/CVERecord?id=CVE-2025-21734'}, {'name': 'CVE-2025-21970', 'url': 'https://www.cve.org/CVERecord?id=CVE-2025-21970'}, {'name': 'CVE-2025-22056', 'url': 'https://www.cve.org/CVERecord?id=CVE-2025-22056'}, {'name': 'CVE-2022-49861', 'url': 'https://www.cve.org/CVERecord?id=CVE-2022-49861'}, {'name': 'CVE-2025-21890', 'url': 'https://www.cve.org/CVERecord?id=CVE-2025-21890'}, {'name': 'CVE-2025-21916', 'url': 'https://www.cve.org/CVERecord?id=CVE-2025-21916'}, {'name': 'CVE-2025-21925', 'url': 'https://www.cve.org/CVERecord?id=CVE-2025-21925'}, {'name': 'CVE-2025-21927', 'url': 'https://www.cve.org/CVERecord?id=CVE-2025-21927'}, {'name': 'CVE-2025-21799', 'url': 'https://www.cve.org/CVERecord?id=CVE-2025-21799'}, {'name': 'CVE-2023-53038', 'url': 'https://www.cve.org/CVERecord?id=CVE-2023-53038'}, {'name': 'CVE-2022-49824', 'url': 'https://www.cve.org/CVERecord?id=CVE-2022-49824'}, {'name': 'CVE-2024-49940', 'url': 'https://www.cve.org/CVERecord?id=CVE-2024-49940'}, {'name': 'CVE-2025-21785', 'url': 'https://www.cve.org/CVERecord?id=CVE-2025-21785'}, {'name': 'CVE-2025-21883', 'url': 'https://www.cve.org/CVERecord?id=CVE-2025-21883'}, {'name': 'CVE-2024-58086', 'url': 'https://www.cve.org/CVERecord?id=CVE-2024-58086'}, {'name': 'CVE-2025-22057', 'url': 'https://www.cve.org/CVERecord?id=CVE-2025-22057'}, {'name': 'CVE-2024-58051', 'url': 'https://www.cve.org/CVERecord?id=CVE-2024-58051'}, {'name': 'CVE-2024-50056', 'url': 'https://www.cve.org/CVERecord?id=CVE-2024-50056'}, {'name': 'CVE-2025-37830', 'url': 'https://www.cve.org/CVERecord?id=CVE-2025-37830'}, {'name': 'CVE-2025-21857', 'url': 'https://www.cve.org/CVERecord?id=CVE-2025-21857'}, {'name': 'CVE-2025-21812', 'url': 'https://www.cve.org/CVERecord?id=CVE-2025-21812'}, {'name': 'CVE-2025-37797', 'url': 'https://www.cve.org/CVERecord?id=CVE-2025-37797'}, {'name': 'CVE-2023-53123', 'url': 'https://www.cve.org/CVERecord?id=CVE-2023-53123'}, {'name': 'CVE-2025-23145', 'url': 'https://www.cve.org/CVERecord?id=CVE-2025-23145'}, {'name': 'CVE-2025-21848', 'url': 'https://www.cve.org/CVERecord?id=CVE-2025-21848'}, {'name': 'CVE-2022-49860', 'url': 'https://www.cve.org/CVERecord?id=CVE-2022-49860'}, {'name': 'CVE-2025-37823', 'url': 'https://www.cve.org/CVERecord?id=CVE-2025-37823'}, {'name': 'CVE-2022-49796', 'url': 'https://www.cve.org/CVERecord?id=CVE-2022-49796'}, {'name': 'CVE-2022-49797', 'url': 'https://www.cve.org/CVERecord?id=CVE-2022-49797'}, {'name': 'CVE-2025-21683', 'url': 'https://www.cve.org/CVERecord?id=CVE-2025-21683'}, {'name': 'CVE-2025-21908', 'url': 'https://www.cve.org/CVERecord?id=CVE-2025-21908'}, {'name': 'CVE-2024-49924', 'url': 'https://www.cve.org/CVERecord?id=CVE-2024-49924'}, {'name': 'CVE-2025-21895', 'url': 'https://www.cve.org/CVERecord?id=CVE-2025-21895'}, {'name': 'CVE-2024-50140', 'url': 'https://www.cve.org/CVERecord?id=CVE-2024-50140'}, {'name': 'CVE-2024-53139', 'url': 'https://www.cve.org/CVERecord?id=CVE-2024-53139'}, {'name': 'CVE-2025-21935', 'url': 'https://www.cve.org/CVERecord?id=CVE-2025-21935'}, {'name': 'CVE-2023-53052', 'url': 'https://www.cve.org/CVERecord?id=CVE-2023-53052'}, {'name': 'CVE-2025-22045', 'url': 'https://www.cve.org/CVERecord?id=CVE-2025-22045'}, {'name': 'CVE-2025-37829', 'url': 'https://www.cve.org/CVERecord?id=CVE-2025-37829'}, {'name': 'CVE-2024-50290', 'url': 'https://www.cve.org/CVERecord?id=CVE-2024-50290'}, {'name': 'CVE-2024-58019', 'url': 'https://www.cve.org/CVERecord?id=CVE-2024-58019'}, {'name': 'CVE-2025-21888', 'url': 'https://www.cve.org/CVERecord?id=CVE-2025-21888'}, {'name': 'CVE-2025-21866', 'url': 'https://www.cve.org/CVERecord?id=CVE-2025-21866'}, {'name': 'CVE-2025-22010', 'url': 'https://www.cve.org/CVERecord?id=CVE-2025-22010'}, {'name': 'CVE-2023-1990', 'url': 'https://www.cve.org/CVERecord?id=CVE-2023-1990'}, {'name': 'CVE-2024-57990', 'url': 'https://www.cve.org/CVERecord?id=CVE-2024-57990'}, {'name': 'CVE-2025-37799', 'url': 'https://www.cve.org/CVERecord?id=CVE-2025-37799'}, {'name': 'CVE-2023-53041', 'url': 'https://www.cve.org/CVERecord?id=CVE-2023-53041'}, {'name': 'CVE-2024-58068', 'url': 'https://www.cve.org/CVERecord?id=CVE-2024-58068'}, {'name': 'CVE-2025-21693', 'url': 'https://www.cve.org/CVERecord?id=CVE-2025-21693'}, {'name': 'CVE-2024-57998', 'url': 'https://www.cve.org/CVERecord?id=CVE-2024-57998'}, {'name': 'CVE-2025-22029', 'url': 'https://www.cve.org/CVERecord?id=CVE-2025-22029'}, {'name': 'CVE-2024-46796', 'url': 'https://www.cve.org/CVERecord?id=CVE-2024-46796'}, {'name': 'CVE-2025-22104', 'url': 'https://www.cve.org/CVERecord?id=CVE-2025-22104'}, {'name': 'CVE-2024-46736', 'url': 'https://www.cve.org/CVERecord?id=CVE-2024-46736'}, {'name': 'CVE-2025-21862', 'url': 'https://www.cve.org/CVERecord?id=CVE-2025-21862'}, {'name': 'CVE-2023-53125', 'url': 'https://www.cve.org/CVERecord?id=CVE-2023-53125'}, {'name': 'CVE-2025-21950', 'url': 'https://www.cve.org/CVERecord?id=CVE-2025-21950'}, {'name': 'CVE-2022-49792', 'url': 'https://www.cve.org/CVERecord?id=CVE-2022-49792'}, {'name': 'CVE-2024-50152', 'url': 'https://www.cve.org/CVERecord?id=CVE-2024-50152'}, {'name': 'CVE-2025-22001', 'url': 'https://www.cve.org/CVERecord?id=CVE-2025-22001'}, {'name': 'CVE-2024-47794', 'url': 'https://www.cve.org/CVERecord?id=CVE-2024-47794'}, {'name': 'CVE-2024-35910', 'url': 'https://www.cve.org/CVERecord?id=CVE-2024-35910'}, {'name': 'CVE-2024-41077', 'url': 'https://www.cve.org/CVERecord?id=CVE-2024-41077'}, {'name': 'CVE-2022-49789', 'url': 'https://www.cve.org/CVERecord?id=CVE-2022-49789'}, {'name': 'CVE-2025-21719', 'url': 'https://www.cve.org/CVERecord?id=CVE-2025-21719'}, {'name': 'CVE-2025-21718', 'url': 'https://www.cve.org/CVERecord?id=CVE-2025-21718'}, {'name': 'CVE-2024-56638', 'url': 'https://www.cve.org/CVERecord?id=CVE-2024-56638'}, {'name': 'CVE-2025-22060', 'url': 'https://www.cve.org/CVERecord?id=CVE-2025-22060'}, {'name': 'CVE-2025-21820', 'url': 'https://www.cve.org/CVERecord?id=CVE-2025-21820'}, {'name': 'CVE-2022-3640', 'url': 'https://www.cve.org/CVERecord?id=CVE-2022-3640'}, {'name': 'CVE-2024-57979', 'url': 'https://www.cve.org/CVERecord?id=CVE-2024-57979'}, {'name': 'CVE-2024-58071', 'url': 'https://www.cve.org/CVERecord?id=CVE-2024-58071'}, {'name': 'CVE-2024-28956', 'url': 'https://www.cve.org/CVERecord?id=CVE-2024-28956'}, {'name': 'CVE-2023-53143', 'url': 'https://www.cve.org/CVERecord?id=CVE-2023-53143'}, {'name': 'CVE-2025-21943', 'url': 'https://www.cve.org/CVERecord?id=CVE-2025-21943'}, {'name': 'CVE-2024-57997', 'url': 'https://www.cve.org/CVERecord?id=CVE-2024-57997'}, {'name': 'CVE-2025-21971', 'url': 'https://www.cve.org/CVERecord?id=CVE-2025-21971'}, {'name': 'CVE-2025-21806', 'url': 'https://www.cve.org/CVERecord?id=CVE-2025-21806'}, {'name': 'CVE-2023-53134', 'url': 'https://www.cve.org/CVERecord?id=CVE-2023-53134'}, {'name': 'CVE-2023-53096', 'url': 'https://www.cve.org/CVERecord?id=CVE-2023-53096'}, {'name': 'CVE-2023-53066', 'url': 'https://www.cve.org/CVERecord?id=CVE-2023-53066'}, {'name': 'CVE-2023-53054', 'url': 'https://www.cve.org/CVERecord?id=CVE-2023-53054'}, {'name': 'CVE-2025-21884', 'url': 'https://www.cve.org/CVERecord?id=CVE-2025-21884'}, {'name': 'CVE-2025-21928', 'url': 'https://www.cve.org/CVERecord?id=CVE-2025-21928'}, {'name': 'CVE-2025-21707', 'url': 'https://www.cve.org/CVERecord?id=CVE-2025-21707'}, {'name': 'CVE-2024-53176', 'url': 'https://www.cve.org/CVERecord?id=CVE-2024-53176'}, {'name': 'CVE-2025-22007', 'url': 'https://www.cve.org/CVERecord?id=CVE-2025-22007'}, {'name': 'CVE-2025-21804', 'url': 'https://www.cve.org/CVERecord?id=CVE-2025-21804'}, {'name': 'CVE-2022-49864', 'url': 'https://www.cve.org/CVERecord?id=CVE-2022-49864'}, {'name': 'CVE-2025-21934', 'url': 'https://www.cve.org/CVERecord?id=CVE-2025-21934'}, {'name': 'CVE-2025-21985', 'url': 'https://www.cve.org/CVERecord?id=CVE-2025-21985'}, {'name': 'CVE-2025-22109', 'url': 'https://www.cve.org/CVERecord?id=CVE-2025-22109'}, {'name': 'CVE-2022-49889', 'url': 'https://www.cve.org/CVERecord?id=CVE-2022-49889'}, {'name': 'CVE-2022-49777', 'url': 'https://www.cve.org/CVERecord?id=CVE-2022-49777'}, {'name': 'CVE-2025-22070', 'url': 'https://www.cve.org/CVERecord?id=CVE-2025-22070'}, {'name': 'CVE-2022-49810', 'url': 'https://www.cve.org/CVERecord?id=CVE-2022-49810'}, {'name': 'CVE-2025-37949', 'url': 'https://www.cve.org/CVERecord?id=CVE-2025-37949'}, {'name': 'CVE-2024-56751', 'url': 'https://www.cve.org/CVERecord?id=CVE-2024-56751'}, {'name': 'CVE-2023-53089', 'url': 'https://www.cve.org/CVERecord?id=CVE-2023-53089'}, {'name': 'CVE-2022-49900', 'url': 'https://www.cve.org/CVERecord?id=CVE-2022-49900'}, {'name': 'CVE-2023-53064', 'url': 'https://www.cve.org/CVERecord?id=CVE-2023-53064'}, {'name': 'CVE-2022-49880', 'url': 'https://www.cve.org/CVERecord?id=CVE-2022-49880'}, {'name': 'CVE-2025-37957', 'url': 'https://www.cve.org/CVERecord?id=CVE-2025-37957'}, {'name': 'CVE-2025-21762', 'url': 'https://www.cve.org/CVERecord?id=CVE-2025-21762'}, {'name': 'CVE-2025-22075', 'url': 'https://www.cve.org/CVERecord?id=CVE-2025-22075'}, {'name': 'CVE-2025-22065', 'url': 'https://www.cve.org/CVERecord?id=CVE-2025-22065'}, {'name': 'CVE-2025-21869', 'url': 'https://www.cve.org/CVERecord?id=CVE-2025-21869'}, {'name': 'CVE-2023-53124', 'url': 'https://www.cve.org/CVERecord?id=CVE-2023-53124'}, {'name': 'CVE-2022-49927', 'url': 'https://www.cve.org/CVERecord?id=CVE-2022-49927'}, {'name': 'CVE-2024-54458', 'url': 'https://www.cve.org/CVERecord?id=CVE-2024-54458'}, {'name': 'CVE-2025-22097', 'url': 'https://www.cve.org/CVERecord?id=CVE-2025-22097'}, {'name': 'CVE-2025-21631', 'url': 'https://www.cve.org/CVERecord?id=CVE-2025-21631'}, {'name': 'CVE-2025-21750', 'url': 'https://www.cve.org/CVERecord?id=CVE-2025-21750'}, {'name': 'CVE-2024-57924', 'url': 'https://www.cve.org/CVERecord?id=CVE-2024-57924'}, {'name': 'CVE-2025-21912', 'url': 'https://www.cve.org/CVERecord?id=CVE-2025-21912'}, {'name': 'CVE-2022-49891', 'url': 'https://www.cve.org/CVERecord?id=CVE-2022-49891'}, {'name': 'CVE-2022-49813', 'url': 'https://www.cve.org/CVERecord?id=CVE-2022-49813'}, {'name': 'CVE-2025-21859', 'url': 'https://www.cve.org/CVERecord?id=CVE-2025-21859'}, {'name': 'CVE-2025-21825', 'url': 'https://www.cve.org/CVERecord?id=CVE-2025-21825'}, {'name': 'CVE-2022-49139', 'url': 'https://www.cve.org/CVERecord?id=CVE-2022-49139'}, {'name': 'CVE-2022-49801', 'url': 'https://www.cve.org/CVERecord?id=CVE-2022-49801'}, {'name': 'CVE-2025-21956', 'url': 'https://www.cve.org/CVERecord?id=CVE-2025-21956'}, {'name': 'CVE-2025-21761', 'url': 'https://www.cve.org/CVERecord?id=CVE-2025-21761'}, {'name': 'CVE-2025-22020', 'url': 'https://www.cve.org/CVERecord?id=CVE-2025-22020'}, {'name': 'CVE-2025-21844', 'url': 'https://www.cve.org/CVERecord?id=CVE-2025-21844'}, {'name': 'CVE-2025-21885', 'url': 'https://www.cve.org/CVERecord?id=CVE-2025-21885'}, {'name': 'CVE-2025-21784', 'url': 'https://www.cve.org/CVERecord?id=CVE-2025-21784'}, {'name': 'CVE-2024-50083', 'url': 'https://www.cve.org/CVERecord?id=CVE-2024-50083'}, {'name': 'CVE-2025-21726', 'url': 'https://www.cve.org/CVERecord?id=CVE-2025-21726'}, {'name': 'CVE-2024-50036', 'url': 'https://www.cve.org/CVERecord?id=CVE-2024-50036'}, {'name': 'CVE-2024-58020', 'url': 'https://www.cve.org/CVERecord?id=CVE-2024-58020'}, {'name': 'CVE-2022-49850', 'url': 'https://www.cve.org/CVERecord?id=CVE-2022-49850'}, {'name': 'CVE-2023-53142', 'url': 'https://www.cve.org/CVERecord?id=CVE-2023-53142'}, {'name': 'CVE-2025-21723', 'url': 'https://www.cve.org/CVERecord?id=CVE-2025-21723'}, {'name': 'CVE-2023-53081', 'url': 'https://www.cve.org/CVERecord?id=CVE-2023-53081'}, {'name': 'CVE-2025-21802', 'url': 'https://www.cve.org/CVERecord?id=CVE-2025-21802'}, {'name': 'CVE-2022-49905', 'url': 'https://www.cve.org/CVERecord?id=CVE-2022-49905'}, {'name': 'CVE-2025-21705', 'url': 'https://www.cve.org/CVERecord?id=CVE-2025-21705'}, {'name': 'CVE-2024-56758', 'url': 'https://www.cve.org/CVERecord?id=CVE-2024-56758'}, {'name': 'CVE-2024-49855', 'url': 'https://www.cve.org/CVERecord?id=CVE-2024-49855'}, {'name': 'CVE-2025-21810', 'url': 'https://www.cve.org/CVERecord?id=CVE-2025-21810'}, {'name': 'CVE-2024-58096', 'url': 'https://www.cve.org/CVERecord?id=CVE-2024-58096'}, {'name': 'CVE-2022-49802', 'url': 'https://www.cve.org/CVERecord?id=CVE-2022-49802'}, {'name': 'CVE-2025-21877', 'url': 'https://www.cve.org/CVERecord?id=CVE-2025-21877'}, {'name': 'CVE-2023-53137', 'url': 'https://www.cve.org/CVERecord?id=CVE-2023-53137'}, {'name': 'CVE-2022-3619', 'url': 'https://www.cve.org/CVERecord?id=CVE-2022-3619'}, {'name': 'CVE-2025-37748', 'url': 'https://www.cve.org/CVERecord?id=CVE-2025-37748'}, {'name': 'CVE-2022-49922', 'url': 'https://www.cve.org/CVERecord?id=CVE-2022-49922'}, {'name': 'CVE-2025-21878', 'url': 'https://www.cve.org/CVERecord?id=CVE-2025-21878'}, {'name': 'CVE-2025-21906', 'url': 'https://www.cve.org/CVERecord?id=CVE-2025-21906'}, {'name': 'CVE-2024-56641', 'url': 'https://www.cve.org/CVERecord?id=CVE-2024-56641'}, {'name': 'CVE-2025-21739', 'url': 'https://www.cve.org/CVERecord?id=CVE-2025-21739'}, {'name': 'CVE-2025-21775', 'url': 'https://www.cve.org/CVERecord?id=CVE-2025-21775'}, {'name': 'CVE-2022-49908', 'url': 'https://www.cve.org/CVERecord?id=CVE-2022-49908'}, {'name': 'CVE-2025-21846', 'url': 'https://www.cve.org/CVERecord?id=CVE-2025-21846'}, {'name': 'CVE-2024-46763', 'url': 'https://www.cve.org/CVERecord?id=CVE-2024-46763'}, {'name': 'CVE-2023-53058', 'url': 'https://www.cve.org/CVERecord?id=CVE-2023-53058'}, {'name': 'CVE-2024-41149', 'url': 'https://www.cve.org/CVERecord?id=CVE-2024-41149'}, {'name': 'CVE-2024-54683', 'url': 'https://www.cve.org/CVERecord?id=CVE-2024-54683'}, {'name': 'CVE-2022-49818', 'url': 'https://www.cve.org/CVERecord?id=CVE-2022-49818'}, {'name': 'CVE-2024-53140', 'url': 'https://www.cve.org/CVERecord?id=CVE-2024-53140'}, {'name': 'CVE-2025-21873', 'url': 'https://www.cve.org/CVERecord?id=CVE-2025-21873'}, {'name': 'CVE-2025-21765', 'url': 'https://www.cve.org/CVERecord?id=CVE-2025-21765'}, {'name': 'CVE-2024-50163', 'url': 'https://www.cve.org/CVERecord?id=CVE-2024-50163'}, {'name': 'CVE-2025-21886', 'url': 'https://www.cve.org/CVERecord?id=CVE-2025-21886'}, {'name': 'CVE-2025-21782', 'url': 'https://www.cve.org/CVERecord?id=CVE-2025-21782'}, {'name': 'CVE-2025-22063', 'url': 'https://www.cve.org/CVERecord?id=CVE-2025-22063'}, {'name': 'CVE-2022-49783', 'url': 'https://www.cve.org/CVERecord?id=CVE-2022-49783'}, {'name': 'CVE-2025-21702', 'url': 'https://www.cve.org/CVERecord?id=CVE-2025-21702'}, {'name': 'CVE-2025-21926', 'url': 'https://www.cve.org/CVERecord?id=CVE-2025-21926'}, {'name': 'CVE-2025-21865', 'url': 'https://www.cve.org/CVERecord?id=CVE-2025-21865'}, {'name': 'CVE-2025-21742', 'url': 'https://www.cve.org/CVERecord?id=CVE-2025-21742'}, {'name': 'CVE-2025-37809', 'url': 'https://www.cve.org/CVERecord?id=CVE-2025-37809'}, {'name': 'CVE-2024-58002', 'url': 'https://www.cve.org/CVERecord?id=CVE-2024-58002'}, {'name': 'CVE-2025-21930', 'url': 'https://www.cve.org/CVERecord?id=CVE-2025-21930'}, {'name': 'CVE-2025-21870', 'url': 'https://www.cve.org/CVERecord?id=CVE-2025-21870'}, {'name': 'CVE-2025-21892', 'url': 'https://www.cve.org/CVERecord?id=CVE-2025-21892'}, {'name': 'CVE-2024-58052', 'url': 'https://www.cve.org/CVERecord?id=CVE-2024-58052'}, {'name': 'CVE-2025-21905', 'url': 'https://www.cve.org/CVERecord?id=CVE-2025-21905'}, {'name': 'CVE-2025-22102', 'url': 'https://www.cve.org/CVERecord?id=CVE-2025-22102'}, {'name': 'CVE-2025-37749', 'url': 'https://www.cve.org/CVERecord?id=CVE-2025-37749'}, {'name': 'CVE-2024-43820', 'url': 'https://www.cve.org/CVERecord?id=CVE-2024-43820'}, {'name': 'CVE-2024-56702', 'url': 'https://www.cve.org/CVERecord?id=CVE-2024-56702'}, {'name': 'CVE-2025-22016', 'url': 'https://www.cve.org/CVERecord?id=CVE-2025-22016'}, {'name': 'CVE-2025-21696', 'url': 'https://www.cve.org/CVERecord?id=CVE-2025-21696'}, {'name': 'CVE-2025-21648', 'url': 'https://www.cve.org/CVERecord?id=CVE-2025-21648'}, {'name': 'CVE-2025-21923', 'url': 'https://www.cve.org/CVERecord?id=CVE-2025-21923'}, {'name': 'CVE-2025-21773', 'url': 'https://www.cve.org/CVERecord?id=CVE-2025-21773'}, {'name': 'CVE-2024-58097', 'url': 'https://www.cve.org/CVERecord?id=CVE-2024-58097'}, {'name': 'CVE-2024-58001', 'url': 'https://www.cve.org/CVERecord?id=CVE-2024-58001'}, {'name': 'CVE-2024-53168', 'url': 'https://www.cve.org/CVERecord?id=CVE-2024-53168'}, {'name': 'CVE-2024-53163', 'url': 'https://www.cve.org/CVERecord?id=CVE-2024-53163'}, {'name': 'CVE-2025-21724', 'url': 'https://www.cve.org/CVERecord?id=CVE-2025-21724'}, {'name': 'CVE-2025-21891', 'url': 'https://www.cve.org/CVERecord?id=CVE-2025-21891'}, {'name': 'CVE-2025-22013', 'url': 'https://www.cve.org/CVERecord?id=CVE-2025-22013'}, {'name': 'CVE-2025-21701', 'url': 'https://www.cve.org/CVERecord?id=CVE-2025-21701'}, {'name': 'CVE-2025-21858', 'url': 'https://www.cve.org/CVERecord?id=CVE-2025-21858'}, {'name': 'CVE-2023-53040', 'url': 'https://www.cve.org/CVERecord?id=CVE-2023-53040'}, {'name': 'CVE-2025-37780', 'url': 'https://www.cve.org/CVERecord?id=CVE-2025-37780'}, {'name': 'CVE-2025-21979', 'url': 'https://www.cve.org/CVERecord?id=CVE-2025-21979'}, {'name': 'CVE-2023-53098', 'url': 'https://www.cve.org/CVERecord?id=CVE-2023-53098'}, {'name': 'CVE-2025-21821', 'url': 'https://www.cve.org/CVERecord?id=CVE-2025-21821'}, {'name': 'CVE-2023-53044', 'url': 'https://www.cve.org/CVERecord?id=CVE-2023-53044'}, {'name': 'CVE-2023-53108', 'url': 'https://www.cve.org/CVERecord?id=CVE-2023-53108'}, {'name': 'CVE-2025-21733', 'url': 'https://www.cve.org/CVERecord?id=CVE-2025-21733'}, {'name': 'CVE-2024-35826', 'url': 'https://www.cve.org/CVERecord?id=CVE-2024-35826'}, {'name': 'CVE-2025-21963', 'url': 'https://www.cve.org/CVERecord?id=CVE-2025-21963'}, {'name': 'CVE-2024-56558', 'url': 'https://www.cve.org/CVERecord?id=CVE-2024-56558'}, {'name': 'CVE-2025-21754', 'url': 'https://www.cve.org/CVERecord?id=CVE-2025-21754'}, {'name': 'CVE-2022-49890', 'url': 'https://www.cve.org/CVERecord?id=CVE-2022-49890'}, {'name': 'CVE-2024-53178', 'url': 'https://www.cve.org/CVERecord?id=CVE-2024-53178'}, {'name': 'CVE-2023-53093', 'url': 'https://www.cve.org/CVERecord?id=CVE-2023-53093'}, {'name': 'CVE-2025-2312', 'url': 'https://www.cve.org/CVERecord?id=CVE-2025-2312'}, {'name': 'CVE-2025-21960', 'url': 'https://www.cve.org/CVERecord?id=CVE-2025-21960'}, {'name': 'CVE-2025-37886', 'url': 'https://www.cve.org/CVERecord?id=CVE-2025-37886'}, {'name': 'CVE-2025-37963', 'url': 'https://www.cve.org/CVERecord?id=CVE-2025-37963'}, {'name': 'CVE-2022-49916', 'url': 'https://www.cve.org/CVERecord?id=CVE-2022-49916'}, {'name': 'CVE-2022-49788', 'url': 'https://www.cve.org/CVERecord?id=CVE-2022-49788'}, {'name': 'CVE-2025-37948', 'url': 'https://www.cve.org/CVERecord?id=CVE-2025-37948'}, {'name': 'CVE-2024-50126', 'url': 'https://www.cve.org/CVERecord?id=CVE-2024-50126'}, {'name': 'CVE-2025-21863', 'url': 'https://www.cve.org/CVERecord?id=CVE-2025-21863'}, {'name': 'CVE-2025-21856', 'url': 'https://www.cve.org/CVERecord?id=CVE-2025-21856'}, {'name': 'CVE-2025-22108', 'url': 'https://www.cve.org/CVERecord?id=CVE-2025-22108'}, {'name': 'CVE-2024-42307', 'url': 'https://www.cve.org/CVERecord?id=CVE-2024-42307'}, {'name': 'CVE-2025-21749', 'url': 'https://www.cve.org/CVERecord?id=CVE-2025-21749'}, {'name': 'CVE-2022-49923', 'url': 'https://www.cve.org/CVERecord?id=CVE-2022-49923'}, {'name': 'CVE-2025-37960', 'url': 'https://www.cve.org/CVERecord?id=CVE-2025-37960'}, {'name': 'CVE-2025-23133', 'url': 'https://www.cve.org/CVERecord?id=CVE-2025-23133'}, {'name': 'CVE-2025-22128', 'url': 'https://www.cve.org/CVERecord?id=CVE-2025-22128'}, {'name': 'CVE-2022-49832', 'url': 'https://www.cve.org/CVERecord?id=CVE-2022-49832'}, {'name': 'CVE-2025-21659', 'url': 'https://www.cve.org/CVERecord?id=CVE-2025-21659'}, {'name': 'CVE-2022-49842', 'url': 'https://www.cve.org/CVERecord?id=CVE-2022-49842'}, {'name': 'CVE-2022-49915', 'url': 'https://www.cve.org/CVERecord?id=CVE-2022-49915'}, {'name': 'CVE-2025-21829', 'url': 'https://www.cve.org/CVERecord?id=CVE-2025-21829'}, {'name': 'CVE-2024-57999', 'url': 'https://www.cve.org/CVERecord?id=CVE-2024-57999'}, {'name': 'CVE-2025-22008', 'url': 'https://www.cve.org/CVERecord?id=CVE-2025-22008'}, {'name': 'CVE-2024-26873', 'url': 'https://www.cve.org/CVERecord?id=CVE-2024-26873'}, {'name': 'CVE-2025-21969', 'url': 'https://www.cve.org/CVERecord?id=CVE-2025-21969'}, {'name': 'CVE-2024-58072', 'url': 'https://www.cve.org/CVERecord?id=CVE-2024-58072'}, {'name': 'CVE-2024-46865', 'url': 'https://www.cve.org/CVERecord?id=CVE-2024-46865'}, {'name': 'CVE-2025-21793', 'url': 'https://www.cve.org/CVERecord?id=CVE-2025-21793'}, {'name': 'CVE-2024-57978', 'url': 'https://www.cve.org/CVERecord?id=CVE-2024-57978'}, {'name': 'CVE-2025-21894', 'url': 'https://www.cve.org/CVERecord?id=CVE-2025-21894'}, {'name': 'CVE-2025-21919', 'url': 'https://www.cve.org/CVERecord?id=CVE-2025-21919'}, {'name': 'CVE-2025-21854', 'url': 'https://www.cve.org/CVERecord?id=CVE-2025-21854'}, {'name': 'CVE-2024-53135', 'url': 'https://www.cve.org/CVERecord?id=CVE-2024-53135'}, {'name': 'CVE-2025-21703', 'url': 'https://www.cve.org/CVERecord?id=CVE-2025-21703'}, {'name': 'CVE-2025-21759', 'url': 'https://www.cve.org/CVERecord?id=CVE-2025-21759'}, {'name': 'CVE-2025-40325', 'url': 'https://www.cve.org/CVERecord?id=CVE-2025-40325'}, {'name': 'CVE-2024-53680', 'url': 'https://www.cve.org/CVERecord?id=CVE-2024-53680'}, {'name': 'CVE-2023-53145', 'url': 'https://www.cve.org/CVERecord?id=CVE-2023-53145'}, {'name': 'CVE-2022-49863', 'url': 'https://www.cve.org/CVERecord?id=CVE-2022-49863'}, {'name': 'CVE-2025-21850', 'url': 'https://www.cve.org/CVERecord?id=CVE-2025-21850'}, {'name': 'CVE-2025-21968', 'url': 'https://www.cve.org/CVERecord?id=CVE-2025-21968'}, {'name': 'CVE-2024-58083', 'url': 'https://www.cve.org/CVERecord?id=CVE-2024-58083'}, {'name': 'CVE-2024-58055', 'url': 'https://www.cve.org/CVERecord?id=CVE-2024-58055'}, {'name': 'CVE-2022-49825', 'url': 'https://www.cve.org/CVERecord?id=CVE-2022-49825'}, {'name': 'CVE-2025-21991', 'url': 'https://www.cve.org/CVERecord?id=CVE-2025-21991'}, {'name': 'CVE-2025-22086', 'url': 'https://www.cve.org/CVERecord?id=CVE-2025-22086'}, {'name': 'CVE-2024-57993', 'url': 'https://www.cve.org/CVERecord?id=CVE-2024-57993'}, {'name': 'CVE-2025-21887', 'url': 'https://www.cve.org/CVERecord?id=CVE-2025-21887'}, {'name': 'CVE-2024-57947', 'url': 'https://www.cve.org/CVERecord?id=CVE-2024-57947'}, {'name': 'CVE-2024-27415', 'url': 'https://www.cve.org/CVERecord?id=CVE-2024-27415'}, {'name': 'CVE-2022-49794', 'url': 'https://www.cve.org/CVERecord?id=CVE-2022-49794'}, {'name': 'CVE-2025-37879', 'url': 'https://www.cve.org/CVERecord?id=CVE-2025-37879'}, {'name': 'CVE-2024-46782', 'url': 'https://www.cve.org/CVERecord?id=CVE-2024-46782'}, {'name': 'CVE-2023-53099', 'url': 'https://www.cve.org/CVERecord?id=CVE-2023-53099'}, {'name': 'CVE-2024-49571', 'url': 'https://www.cve.org/CVERecord?id=CVE-2024-49571'}, {'name': 'CVE-2025-21732', 'url': 'https://www.cve.org/CVERecord?id=CVE-2025-21732'}, {'name': 'CVE-2025-21875', 'url': 'https://www.cve.org/CVERecord?id=CVE-2025-21875'}, {'name': 'CVE-2023-53065', 'url': 'https://www.cve.org/CVERecord?id=CVE-2023-53065'}, {'name': 'CVE-2025-22064', 'url': 'https://www.cve.org/CVERecord?id=CVE-2025-22064'}, {'name': 'CVE-2023-53077', 'url': 'https://www.cve.org/CVERecord?id=CVE-2023-53077'}, {'name': 'CVE-2022-49821', 'url': 'https://www.cve.org/CVERecord?id=CVE-2022-49821'}, {'name': 'CVE-2025-22015', 'url': 'https://www.cve.org/CVERecord?id=CVE-2025-22015'}, {'name': 'CVE-2024-56640', 'url': 'https://www.cve.org/CVERecord?id=CVE-2024-56640'}, {'name': 'CVE-2025-21962', 'url': 'https://www.cve.org/CVERecord?id=CVE-2025-21962'}, {'name': 'CVE-2025-21832', 'url': 'https://www.cve.org/CVERecord?id=CVE-2025-21832'}, {'name': 'CVE-2022-49564', 'url': 'https://www.cve.org/CVERecord?id=CVE-2022-49564'}, {'name': 'CVE-2025-21790', 'url': 'https://www.cve.org/CVERecord?id=CVE-2025-21790'}, {'name': 'CVE-2025-22053', 'url': 'https://www.cve.org/CVERecord?id=CVE-2025-22053'}, {'name': 'CVE-2024-58014', 'url': 'https://www.cve.org/CVERecord?id=CVE-2024-58014'}, {'name': 'CVE-2025-21680', 'url': 'https://www.cve.org/CVERecord?id=CVE-2025-21680'}, {'name': 'CVE-2023-53078', 'url': 'https://www.cve.org/CVERecord?id=CVE-2023-53078'}, {'name': 'CVE-2022-49879', 'url': 'https://www.cve.org/CVERecord?id=CVE-2022-49879'}, {'name': 'CVE-2025-21924', 'url': 'https://www.cve.org/CVERecord?id=CVE-2025-21924'}, {'name': 'CVE-2022-49868', 'url': 'https://www.cve.org/CVERecord?id=CVE-2022-49868'}, {'name': 'CVE-2024-58006', 'url': 'https://www.cve.org/CVERecord?id=CVE-2024-58006'}, {'name': 'CVE-2025-22088', 'url': 'https://www.cve.org/CVERecord?id=CVE-2025-22088'}, {'name': 'CVE-2025-23140', 'url': 'https://www.cve.org/CVERecord?id=CVE-2025-23140'}, {'name': 'CVE-2025-23150', 'url': 'https://www.cve.org/CVERecord?id=CVE-2025-23150'}, {'name': 'CVE-2025-21756', 'url': 'https://www.cve.org/CVERecord?id=CVE-2025-21756'}, {'name': 'CVE-2022-49822', 'url': 'https://www.cve.org/CVERecord?id=CVE-2022-49822'}, {'name': 'CVE-2025-21815', 'url': 'https://www.cve.org/CVERecord?id=CVE-2025-21815'}, {'name': 'CVE-2023-53039', 'url': 'https://www.cve.org/CVERecord?id=CVE-2023-53039'}, {'name': 'CVE-2025-22115', 'url': 'https://www.cve.org/CVERecord?id=CVE-2025-22115'}, {'name': 'CVE-2025-21716', 'url': 'https://www.cve.org/CVERecord?id=CVE-2025-21716'}, {'name': 'CVE-2025-21964', 'url': 'https://www.cve.org/CVERecord?id=CVE-2025-21964'}, {'name': 'CVE-2023-53111', 'url': 'https://www.cve.org/CVERecord?id=CVE-2023-53111'}, {'name': 'CVE-2024-58080', 'url': 'https://www.cve.org/CVERecord?id=CVE-2024-58080'}, {'name': 'CVE-2023-53091', 'url': 'https://www.cve.org/CVERecord?id=CVE-2023-53091'}, {'name': 'CVE-2025-21744', 'url': 'https://www.cve.org/CVERecord?id=CVE-2025-21744'}, {'name': 'CVE-2023-53035', 'url': 'https://www.cve.org/CVERecord?id=CVE-2023-53035'}, {'name': 'CVE-2024-57986', 'url': 'https://www.cve.org/CVERecord?id=CVE-2024-57986'}, {'name': 'CVE-2024-53177', 'url': 'https://www.cve.org/CVERecord?id=CVE-2024-53177'}, {'name': 'CVE-2025-21835', 'url': 'https://www.cve.org/CVERecord?id=CVE-2025-21835'}]\n",
      "Type de références <class 'list'>\n",
      "Type des éléments de la liste <class 'dict'>\n",
      "CVE trouvés : ['CVE-2025-21996', 'CVE-2025-21705', 'CVE-2025-22107', 'CVE-2024-58054', 'CVE-2022-49800', 'CVE-2022-3564', 'CVE-2023-53066', 'CVE-2023-53124', 'CVE-2022-49910', 'CVE-2024-57978', 'CVE-2025-21922', 'CVE-2025-37842', 'CVE-2024-58097', 'CVE-2025-21829', 'CVE-2025-21915', 'CVE-2025-23138', 'CVE-2024-57974', 'CVE-2022-49869', 'CVE-2025-21815', 'CVE-2025-37860', 'CVE-2025-21846', 'CVE-2024-58085', 'CVE-2024-58072', 'CVE-2024-46736', 'CVE-2025-22007', 'CVE-2025-21892', 'CVE-2023-53078', 'CVE-2024-26873', 'CVE-2023-53098', 'CVE-2023-53106', 'CVE-2024-58068', 'CVE-2025-22016', 'CVE-2025-21731', 'CVE-2025-21928', 'CVE-2022-49823', 'CVE-2025-21758', 'CVE-2025-21957', 'CVE-2025-37749', 'CVE-2024-27018', 'CVE-2024-57924', 'CVE-2025-21631', 'CVE-2025-37958', 'CVE-2025-21768', 'CVE-2025-21904', 'CVE-2024-46713', 'CVE-2025-21866', 'CVE-2025-21962', 'CVE-2024-46782', 'CVE-2025-21764', 'CVE-2024-53057', 'CVE-2022-49905', 'CVE-2025-37886', 'CVE-2025-21835', 'CVE-2025-21978', 'CVE-2022-49799', 'CVE-2025-21894', 'CVE-2024-53063', 'CVE-2025-22015', 'CVE-2025-21991', 'CVE-2025-21719', 'CVE-2025-21732', 'CVE-2024-58018', 'CVE-2022-49772', 'CVE-2024-50056', 'CVE-2023-53062', 'CVE-2025-22065', 'CVE-2025-21814', 'CVE-2022-3640', 'CVE-2022-49868', 'CVE-2022-49890', 'CVE-2024-53177', 'CVE-2025-21906', 'CVE-2023-53060', 'CVE-2025-37830', 'CVE-2024-53178', 'CVE-2023-53045', 'CVE-2024-58095', 'CVE-2025-22053', 'CVE-2022-49892', 'CVE-2022-49792', 'CVE-2022-49563', 'CVE-2024-58057', 'CVE-2024-57994', 'CVE-2023-53092', 'CVE-2024-53163', 'CVE-2025-21993', 'CVE-2025-21745', 'CVE-2024-57993', 'CVE-2025-38637', 'CVE-2025-21850', 'CVE-2024-57980', 'CVE-2022-49775', 'CVE-2025-23145', 'CVE-2025-21823', 'CVE-2022-49880', 'CVE-2025-21836', 'CVE-2024-57998', 'CVE-2025-21702', 'CVE-2022-49863', 'CVE-2025-22057', 'CVE-2025-21659', 'CVE-2022-49564', 'CVE-2024-58070', 'CVE-2022-49769', 'CVE-2025-22030', 'CVE-2025-21701', 'CVE-2024-49940', 'CVE-2023-53068', 'CVE-2025-21909', 'CVE-2025-22104', 'CVE-2024-56640', 'CVE-2025-22128', 'CVE-2022-49080', 'CVE-2024-57996', 'CVE-2025-22116', 'CVE-2025-37799', 'CVE-2025-21971', 'CVE-2024-46763', 'CVE-2023-53143', 'CVE-2024-57947', 'CVE-2025-22036', 'CVE-2025-21728', 'CVE-2025-37809', 'CVE-2025-21870', 'CVE-2023-53096', 'CVE-2025-21683', 'CVE-2023-53058', 'CVE-2025-21825', 'CVE-2023-53108', 'CVE-2025-21975', 'CVE-2022-49802', 'CVE-2024-35840', 'CVE-2025-21696', 'CVE-2025-21775', 'CVE-2025-21714', 'CVE-2024-54458', 'CVE-2023-53056', 'CVE-2023-53100', 'CVE-2025-22063', 'CVE-2025-21718', 'CVE-2024-41077', 'CVE-2025-21828', 'CVE-2025-21830', 'CVE-2025-21883', 'CVE-2025-37797', 'CVE-2022-49818', 'CVE-2025-37785', 'CVE-2023-53052', 'CVE-2023-53039', 'CVE-2022-49830', 'CVE-2023-53087', 'CVE-2024-50223', 'CVE-2022-49922', 'CVE-2024-43869', 'CVE-2022-3619', 'CVE-2025-21891', 'CVE-2025-37823', 'CVE-2024-54683', 'CVE-2023-53101', 'CVE-2025-22115', 'CVE-2025-21724', 'CVE-2025-21937', 'CVE-2025-21951', 'CVE-2025-21723', 'CVE-2025-21970', 'CVE-2025-21762', 'CVE-2023-53034', 'CVE-2023-53090', 'CVE-2024-57986', 'CVE-2022-49846', 'CVE-2024-58094', 'CVE-2022-49874', 'CVE-2025-21763', 'CVE-2025-22021', 'CVE-2025-37780', 'CVE-2025-22055', 'CVE-2025-21864', 'CVE-2022-49931', 'CVE-2025-21706', 'CVE-2025-40325', 'CVE-2025-37960', 'CVE-2025-21755', 'CVE-2025-21956', 'CVE-2024-56758', 'CVE-2025-21773', 'CVE-2025-21943', 'CVE-2025-22027', 'CVE-2025-21821', 'CVE-2023-53049', 'CVE-2024-50029', 'CVE-2025-37963', 'CVE-2025-22106', 'CVE-2022-49812', 'CVE-2025-21930', 'CVE-2022-49767', 'CVE-2025-21925', 'CVE-2025-21895', 'CVE-2022-49839', 'CVE-2025-21749', 'CVE-2022-49841', 'CVE-2025-21979', 'CVE-2025-21844', 'CVE-2025-21708', 'CVE-2025-21760', 'CVE-2025-22121', 'CVE-2025-21750', 'CVE-2023-53065', 'CVE-2025-22086', 'CVE-2025-21780', 'CVE-2025-21878', 'CVE-2025-21741', 'CVE-2025-22080', 'CVE-2022-49827', 'CVE-2025-21795', 'CVE-2024-43820', 'CVE-2022-49864', 'CVE-2024-58020', 'CVE-2025-22033', 'CVE-2025-21888', 'CVE-2025-22008', 'CVE-2025-21941', 'CVE-2025-21918', 'CVE-2024-56702', 'CVE-2022-49787', 'CVE-2025-21725', 'CVE-2025-22020', 'CVE-2025-37804', 'CVE-2025-37790', 'CVE-2025-22009', 'CVE-2024-50294', 'CVE-2025-22010', 'CVE-2022-49850', 'CVE-2025-22105', 'CVE-2025-21912', 'CVE-2022-49845', 'CVE-2025-21871', 'CVE-2022-49825', 'CVE-2025-37831', 'CVE-2025-21857', 'CVE-2025-21981', 'CVE-2025-21716', 'CVE-2023-52831', 'CVE-2025-37824', 'CVE-2025-37750', 'CVE-2025-22001', 'CVE-2024-58088', 'CVE-2025-21914', 'CVE-2025-21867', 'CVE-2024-46796', 'CVE-2023-53079', 'CVE-2024-58009', 'CVE-2023-53051', 'CVE-2025-21913', 'CVE-2024-50163', 'CVE-2024-52559', 'CVE-2025-21887', 'CVE-2022-49793', 'CVE-2022-49908', 'CVE-2025-37789', 'CVE-2024-26634', 'CVE-2025-21856', 'CVE-2023-53119', 'CVE-2022-49776', 'CVE-2025-21832', 'CVE-2025-37829', 'CVE-2024-58011', 'CVE-2022-49790', 'CVE-2025-21985', 'CVE-2025-21859', 'CVE-2024-56638', 'CVE-2022-49801', 'CVE-2025-21877', 'CVE-2023-53035', 'CVE-2022-49810', 'CVE-2025-21727', 'CVE-2025-21960', 'CVE-2022-49797', 'CVE-2022-49858', 'CVE-2022-49813', 'CVE-2025-22013', 'CVE-2024-58086', 'CVE-2022-49807', 'CVE-2024-50140', 'CVE-2022-49788', 'CVE-2025-21924', 'CVE-2023-53064', 'CVE-2023-53111', 'CVE-2023-52926', 'CVE-2025-21953', 'CVE-2025-21799', 'CVE-2025-22062', 'CVE-2025-21693', 'CVE-2025-22045', 'CVE-2022-49777', 'CVE-2024-53124', 'CVE-2022-49822', 'CVE-2025-22075', 'CVE-2022-49110', 'CVE-2025-22090', 'CVE-2023-53139', 'CVE-2025-37748', 'CVE-2024-50106', 'CVE-2025-21861', 'CVE-2023-53054', 'CVE-2025-22097', 'CVE-2024-57834', 'CVE-2025-21999', 'CVE-2025-21753', 'CVE-2025-21889', 'CVE-2025-22102', 'CVE-2025-21782', 'CVE-2024-58001', 'CVE-2024-50083', 'CVE-2024-57900', 'CVE-2024-58013', 'CVE-2024-57990', 'CVE-2024-58071', 'CVE-2022-49923', 'CVE-2024-56703', 'CVE-2025-37870', 'CVE-2025-21820', 'CVE-2025-21926', 'CVE-2025-21648', 'CVE-2022-49915', 'CVE-2024-58052', 'CVE-2022-49887', 'CVE-2025-22014', 'CVE-2022-49861', 'CVE-2025-21729', 'CVE-2022-49909', 'CVE-2025-21793', 'CVE-2022-49139', 'CVE-2025-21784', 'CVE-2025-21873', 'CVE-2025-22070', 'CVE-2025-21743', 'CVE-2025-22125', 'CVE-2022-49835', 'CVE-2022-49916', 'CVE-2024-58051', 'CVE-2025-37755', 'CVE-2025-21992', 'CVE-2024-50126', 'CVE-2025-22017', 'CVE-2023-53131', 'CVE-2025-21917', 'CVE-2022-49889', 'CVE-2022-49779', 'CVE-2022-49879', 'CVE-2025-21767', 'CVE-2025-21711', 'CVE-2025-37798', 'CVE-2022-49836', 'CVE-2025-21766', 'CVE-2025-21703', 'CVE-2025-21966', 'CVE-2024-58093', 'CVE-2025-21735', 'CVE-2025-21785', 'CVE-2023-53125', 'CVE-2025-21854', 'CVE-2022-49794', 'CVE-2025-37787', 'CVE-2022-49853', 'CVE-2024-58005', 'CVE-2024-53139', 'CVE-2022-49809', 'CVE-2025-37820', 'CVE-2025-21761', 'CVE-2024-49994', 'CVE-2023-53081', 'CVE-2025-21791', 'CVE-2022-49865', 'CVE-2025-22126', 'CVE-2024-35826', 'CVE-2022-49928', 'CVE-2025-22108', 'CVE-2025-21794', 'CVE-2025-22056', 'CVE-2024-56718', 'CVE-2025-21905', 'CVE-2025-21772', 'CVE-2025-21742', 'CVE-2024-50152', 'CVE-2025-22004', 'CVE-2022-49821', 'CVE-2025-21936', 'CVE-2025-21744', 'CVE-2022-49871', 'CVE-2024-57999', 'CVE-2023-53038', 'CVE-2022-49885', 'CVE-2025-23136', 'CVE-2025-21858', 'CVE-2025-21919', 'CVE-2023-53140', 'CVE-2025-22003', 'CVE-2025-37887', 'CVE-2022-49834', 'CVE-2024-47794', 'CVE-2025-37833', 'CVE-2025-22060', 'CVE-2025-23160', 'CVE-2025-21787', 'CVE-2024-58096', 'CVE-2025-21934', 'CVE-2025-23133', 'CVE-2025-21935', 'CVE-2024-41149', 'CVE-2025-21635', 'CVE-2024-57981', 'CVE-2024-42307', 'CVE-2024-56641', 'CVE-2023-53075', 'CVE-2024-53680', 'CVE-2024-53140', 'CVE-2022-49888', 'CVE-2024-58014', 'CVE-2024-58079', 'CVE-2025-21876', 'CVE-2025-22109', 'CVE-2025-21736', 'CVE-2024-58076', 'CVE-2025-21869', 'CVE-2025-21916', 'CVE-2024-56719', 'CVE-2024-57979', 'CVE-2024-53176', 'CVE-2023-53093', 'CVE-2024-58055', 'CVE-2025-21884', 'CVE-2022-49906', 'CVE-2025-22044', 'CVE-2025-21853', 'CVE-2025-21862', 'CVE-2023-53134', 'CVE-2025-21680', 'CVE-2025-21972', 'CVE-2025-21781', 'CVE-2022-49925', 'CVE-2024-58006', 'CVE-2023-53089', 'CVE-2022-49770', 'CVE-2025-22029', 'CVE-2025-21671', 'CVE-2025-21810', 'CVE-2025-22025', 'CVE-2024-53135', 'CVE-2025-21739', 'CVE-2025-21881', 'CVE-2025-21808', 'CVE-2024-58078', 'CVE-2024-50038', 'CVE-2024-57997', 'CVE-2025-21969', 'CVE-2025-21838', 'CVE-2024-49571', 'CVE-2025-21759', 'CVE-2025-21776', 'CVE-2024-58063', 'CVE-2025-21875', 'CVE-2025-22064', 'CVE-2024-58069', 'CVE-2025-21855', 'CVE-2024-58080', 'CVE-2025-21848', 'CVE-2025-21765', 'CVE-2022-49881', 'CVE-2023-53137', 'CVE-2025-21792', 'CVE-2025-21908', 'CVE-2025-22093', 'CVE-2024-49855', 'CVE-2025-22050', 'CVE-2024-50036', 'CVE-2025-22018', 'CVE-2025-37957', 'CVE-2025-21804', 'CVE-2023-53059', 'CVE-2025-21931', 'CVE-2024-58056', 'CVE-2025-37949', 'CVE-2023-53099', 'CVE-2025-21950', 'CVE-2024-47408', 'CVE-2022-49842', 'CVE-2025-21796', 'CVE-2022-49826', 'CVE-2024-57807', 'CVE-2025-22103', 'CVE-2025-22088', 'CVE-2024-50162', 'CVE-2023-1990', 'CVE-2024-27415', 'CVE-2025-21927', 'CVE-2024-58017', 'CVE-2023-53040', 'CVE-2025-37948', 'CVE-2024-41005', 'CVE-2022-49824', 'CVE-2022-49771', 'CVE-2023-53084', 'CVE-2025-21831', 'CVE-2025-21885', 'CVE-2024-57973', 'CVE-2022-49900', 'CVE-2024-35910', 'CVE-2023-53044', 'CVE-2024-58019', 'CVE-2023-53123', 'CVE-2025-21847', 'CVE-2025-21980', 'CVE-2023-53116', 'CVE-2025-21779', 'CVE-2025-37879', 'CVE-2025-21910', 'CVE-2025-21726', 'CVE-2023-53077', 'CVE-2025-21948', 'CVE-2024-58058', 'CVE-2024-58083', 'CVE-2022-49796', 'CVE-2025-23131', 'CVE-2025-2312', 'CVE-2025-21995', 'CVE-2025-21733', 'CVE-2025-21734', 'CVE-2025-21704', 'CVE-2025-21790', 'CVE-2025-21754', 'CVE-2025-37974', 'CVE-2022-49924', 'CVE-2022-49927', 'CVE-2023-53142', 'CVE-2025-39728', 'CVE-2025-21865', 'CVE-2025-23140', 'CVE-2024-46865', 'CVE-2025-21812', 'CVE-2023-53118', 'CVE-2025-21964', 'CVE-2023-52927', 'CVE-2024-53168', 'CVE-2025-22058', 'CVE-2025-21738', 'CVE-2024-58034', 'CVE-2025-21961', 'CVE-2022-49891', 'CVE-2022-49789', 'CVE-2024-58012', 'CVE-2023-53145', 'CVE-2025-21833', 'CVE-2023-53041', 'CVE-2023-53114', 'CVE-2025-21806', 'CVE-2024-50290', 'CVE-2025-21802', 'CVE-2024-38606', 'CVE-2025-21968', 'CVE-2022-49870', 'CVE-2024-58002', 'CVE-2022-49832', 'CVE-2025-37773', 'CVE-2025-21923', 'CVE-2023-53091', 'CVE-2022-49860', 'CVE-2025-21707', 'CVE-2025-37803', 'CVE-2025-21819', 'CVE-2022-49783', 'CVE-2025-21890', 'CVE-2025-21886', 'CVE-2024-56558', 'CVE-2024-56751', 'CVE-2024-58061', 'CVE-2025-21715', 'CVE-2024-58007', 'CVE-2024-49924', 'CVE-2025-21852', 'CVE-2025-23150', 'CVE-2025-21756', 'CVE-2024-28956', 'CVE-2025-21963', 'CVE-2025-23129', 'CVE-2024-56770', 'CVE-2025-38152', 'CVE-2025-21863']\n"
     ]
    },
    {
     "name": "stderr",
     "output_type": "stream",
     "text": [
      " 41%|████▏     | 33/80 [06:44<53:42, 68.56s/it]"
     ]
    },
    {
     "name": "stdout",
     "output_type": "stream",
     "text": [
      "CVE références : [{'name': 'CVE-2025-37943', 'url': 'https://www.cve.org/CVERecord?id=CVE-2025-37943'}, {'name': 'CVE-2024-26921', 'url': 'https://www.cve.org/CVERecord?id=CVE-2024-26921'}, {'name': 'CVE-2024-26645', 'url': 'https://www.cve.org/CVERecord?id=CVE-2024-26645'}, {'name': 'CVE-2025-22055', 'url': 'https://www.cve.org/CVERecord?id=CVE-2025-22055'}, {'name': 'CVE-2024-27042', 'url': 'https://www.cve.org/CVERecord?id=CVE-2024-27042'}, {'name': 'CVE-2025-37785', 'url': 'https://www.cve.org/CVERecord?id=CVE-2025-37785'}, {'name': 'CVE-2025-21997', 'url': 'https://www.cve.org/CVERecord?id=CVE-2025-21997'}, {'name': 'CVE-2022-49395', 'url': 'https://www.cve.org/CVERecord?id=CVE-2022-49395'}, {'name': 'CVE-2025-21926', 'url': 'https://www.cve.org/CVERecord?id=CVE-2025-21926'}, {'name': 'CVE-2025-21920', 'url': 'https://www.cve.org/CVERecord?id=CVE-2025-21920'}, {'name': 'CVE-2024-35930', 'url': 'https://www.cve.org/CVERecord?id=CVE-2024-35930'}, {'name': 'CVE-2023-52606', 'url': 'https://www.cve.org/CVERecord?id=CVE-2023-52606'}, {'name': 'CVE-2024-36933', 'url': 'https://www.cve.org/CVERecord?id=CVE-2024-36933'}]\n",
      "Type de références <class 'list'>\n",
      "Type des éléments de la liste <class 'dict'>\n",
      "CVE trouvés : ['CVE-2025-37943', 'CVE-2024-26645', 'CVE-2025-37785', 'CVE-2023-52606', 'CVE-2024-36933', 'CVE-2025-21926', 'CVE-2025-21920', 'CVE-2024-26921', 'CVE-2025-21997', 'CVE-2022-49395', 'CVE-2024-35930', 'CVE-2024-27042', 'CVE-2025-22055']\n"
     ]
    },
    {
     "name": "stderr",
     "output_type": "stream",
     "text": [
      " 42%|████▎     | 34/80 [06:48<37:43, 49.20s/it]"
     ]
    },
    {
     "name": "stdout",
     "output_type": "stream",
     "text": [
      "CVE références : [{'name': 'CVE-2025-26460', 'url': 'https://www.cve.org/CVERecord?id=CVE-2025-26460'}, {'name': 'CVE-2025-36887', 'url': 'https://www.cve.org/CVERecord?id=CVE-2025-36887'}, {'name': 'CVE-2025-32338', 'url': 'https://www.cve.org/CVERecord?id=CVE-2025-32338'}, {'name': 'CVE-2024-48883', 'url': 'https://www.cve.org/CVERecord?id=CVE-2024-48883'}, {'name': 'CVE-2025-32314', 'url': 'https://www.cve.org/CVERecord?id=CVE-2025-32314'}, {'name': 'CVE-2025-32316', 'url': 'https://www.cve.org/CVERecord?id=CVE-2025-32316'}, {'name': 'CVE-2025-26785', 'url': 'https://www.cve.org/CVERecord?id=CVE-2025-26785'}, {'name': 'CVE-2025-32340', 'url': 'https://www.cve.org/CVERecord?id=CVE-2025-32340'}, {'name': 'CVE-2025-32320', 'url': 'https://www.cve.org/CVERecord?id=CVE-2025-32320'}, {'name': 'CVE-2025-32339', 'url': 'https://www.cve.org/CVERecord?id=CVE-2025-32339'}, {'name': 'CVE-2025-26459', 'url': 'https://www.cve.org/CVERecord?id=CVE-2025-26459'}, {'name': 'CVE-2025-32315', 'url': 'https://www.cve.org/CVERecord?id=CVE-2025-32315'}, {'name': 'CVE-2025-26461', 'url': 'https://www.cve.org/CVERecord?id=CVE-2025-26461'}, {'name': 'CVE-2025-32334', 'url': 'https://www.cve.org/CVERecord?id=CVE-2025-32334'}, {'name': 'CVE-2024-0028', 'url': 'https://www.cve.org/CVERecord?id=CVE-2024-0028'}, {'name': 'CVE-2024-56427', 'url': 'https://www.cve.org/CVERecord?id=CVE-2024-56427'}, {'name': 'CVE-2025-32337', 'url': 'https://www.cve.org/CVERecord?id=CVE-2025-32337'}, {'name': 'CVE-2025-26457', 'url': 'https://www.cve.org/CVERecord?id=CVE-2025-26457'}, {'name': 'CVE-2025-32336', 'url': 'https://www.cve.org/CVERecord?id=CVE-2025-32336'}, {'name': 'CVE-2025-32317', 'url': 'https://www.cve.org/CVERecord?id=CVE-2025-32317'}, {'name': 'CVE-2025-32335', 'url': 'https://www.cve.org/CVERecord?id=CVE-2025-32335'}, {'name': 'CVE-2025-32318', 'url': 'https://www.cve.org/CVERecord?id=CVE-2025-32318'}, {'name': 'CVE-2025-26434', 'url': 'https://www.cve.org/CVERecord?id=CVE-2025-26434'}]\n",
      "Type de références <class 'list'>\n",
      "Type des éléments de la liste <class 'dict'>\n",
      "CVE trouvés : ['CVE-2024-56427', 'CVE-2025-26460', 'CVE-2025-32316', 'CVE-2024-0028', 'CVE-2025-26785', 'CVE-2024-48883', 'CVE-2025-32336', 'CVE-2025-32334', 'CVE-2025-26459', 'CVE-2025-26457', 'CVE-2025-32317', 'CVE-2025-36887', 'CVE-2025-26434', 'CVE-2025-32318', 'CVE-2025-32340', 'CVE-2025-32338', 'CVE-2025-32314', 'CVE-2025-32320', 'CVE-2025-32337', 'CVE-2025-32339', 'CVE-2025-32335', 'CVE-2025-32315', 'CVE-2025-26461']\n"
     ]
    }
   ],
   "execution_count": null
  },
  {
   "metadata": {},
   "cell_type": "code",
   "outputs": [],
   "execution_count": null,
   "source": "",
   "id": "9ed7ccb7d35b71dc"
  }
 ],
 "metadata": {
  "kernelspec": {
   "display_name": "Python 3",
   "language": "python",
   "name": "python3"
  },
  "language_info": {
   "codemirror_mode": {
    "name": "ipython",
    "version": 2
   },
   "file_extension": ".py",
   "mimetype": "text/x-python",
   "name": "python",
   "nbconvert_exporter": "python",
   "pygments_lexer": "ipython2",
   "version": "2.7.6"
  }
 },
 "nbformat": 4,
 "nbformat_minor": 5
}
