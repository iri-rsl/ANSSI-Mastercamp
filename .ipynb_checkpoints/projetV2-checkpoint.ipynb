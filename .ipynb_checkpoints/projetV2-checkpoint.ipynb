{
 "cells": [
  {
   "cell_type": "code",
   "execution_count": 21,
   "id": "9c0f3a1a4c7737ac",
   "metadata": {
    "ExecuteTime": {
     "end_time": "2025-06-17T12:01:49.186754Z",
     "start_time": "2025-06-17T12:01:49.184037Z"
    }
   },
   "outputs": [],
   "source": [
    "import feedparser\n",
    "import requests\n",
    "import re\n",
    "import time\n",
    "import pandas as pd\n",
    "import numpy as np\n",
    "import matplotlib.pyplot as plt\n",
    "import seaborn as sns\n",
    "import json\n",
    "\n",
    "from tqdm import tqdm"
   ]
  },
  {
   "cell_type": "markdown",
   "id": "82fddcc0f279e8ba",
   "metadata": {},
   "source": [
    "# Etape 1 : Extraction des flux RSS"
   ]
  },
  {
   "cell_type": "code",
   "execution_count": 22,
   "id": "83a7a777f10f1536",
   "metadata": {
    "ExecuteTime": {
     "end_time": "2025-06-17T12:01:51.529496Z",
     "start_time": "2025-06-17T12:01:51.526456Z"
    }
   },
   "outputs": [],
   "source": [
    "def extract_rss_entries():\n",
    "    urls = [\n",
    "        \"https://www.cert.ssi.gouv.fr/avis/feed\",\n",
    "        \"https://www.cert.ssi.gouv.fr/alerte/feed\"\n",
    "    ]\n",
    "    entries = []\n",
    "    for url in urls:\n",
    "        feed = feedparser.parse(url)\n",
    "        for entry in feed.entries:\n",
    "            entries.append({\n",
    "                'id': entry.link.split(\"/\")[-2],\n",
    "                'title': entry.title,\n",
    "                'link': entry.link,\n",
    "                'type': \"Alerte\" if \"alerte\" in url else \"Avis\",\n",
    "                'date': entry.published\n",
    "            })\n",
    "    return entries"
   ]
  },
  {
   "cell_type": "code",
   "execution_count": 23,
   "id": "ab624e0235c2586c",
   "metadata": {
    "ExecuteTime": {
     "end_time": "2025-06-17T12:01:52.450644Z",
     "start_time": "2025-06-17T12:01:51.842688Z"
    }
   },
   "outputs": [
    {
     "name": "stdout",
     "output_type": "stream",
     "text": [
      "Nombre d'entrées RSS : 80\n",
      "\n"
     ]
    }
   ],
   "source": [
    "rss_entries = extract_rss_entries()\n",
    "print(f\"Nombre d'entrées RSS : {len(rss_entries)}\\n\")\n",
    "# print(rss_entries)"
   ]
  },
  {
   "cell_type": "markdown",
   "id": "76f7291db76e57e8",
   "metadata": {},
   "source": [
    "# Etape 2 : Extraction des CVE"
   ]
  },
  {
   "cell_type": "code",
   "execution_count": 24,
   "id": "97133d0dbbfe859a",
   "metadata": {
    "ExecuteTime": {
     "end_time": "2025-06-17T12:33:46.203668Z",
     "start_time": "2025-06-17T12:33:46.198245Z"
    }
   },
   "outputs": [],
   "source": [
    "def extract_cves_from_json(entry_link):\n",
    "    try:\n",
    "        json_url = entry_link + \"/json/\"\n",
    "        response = requests.get(json_url)\n",
    "        data = response.json() # fichier JSON complet de l'entrée RSS\n",
    "\n",
    "        # Extraction des CVE reference dans la clé cves du dict data\n",
    "        cve_refs = data.get(\"cves\", [])\n",
    "\n",
    "        # Retourne la liste de CVE référence pour l'entrée RSS entrée en argument + le JSON complet de l'entrée RSS\n",
    "        return cve_refs, data\n",
    "    except:\n",
    "        return [], {}\n"
   ]
  },
  {
   "cell_type": "markdown",
   "id": "ff40e1c0df61aa4e",
   "metadata": {},
   "source": [
    "# Etape 3 : Enrichissement des CVE"
   ]
  },
  {
   "cell_type": "code",
   "execution_count": 25,
   "id": "2ed3c244870f5b04",
   "metadata": {
    "ExecuteTime": {
     "end_time": "2025-06-17T12:33:52.181228Z",
     "start_time": "2025-06-17T12:33:52.176484Z"
    }
   },
   "outputs": [],
   "source": [
    "def enrich_cve(cve_id):\n",
    "    time.sleep(2)\n",
    "    mitre_data = {}\n",
    "    epss_score = None\n",
    "\n",
    "    try:\n",
    "        mitre_url = f\"https://cveawg.mitre.org/api/cve/{cve_id}\"\n",
    "        r = requests.get(mitre_url)\n",
    "        mitre_data = r.json()\n",
    "    except:\n",
    "        pass\n",
    "\n",
    "    try:\n",
    "        epss_url = f\"https://api.first.org/data/v1/epss?cve={cve_id}\"\n",
    "        r = requests.get(epss_url)\n",
    "        epss_json = r.json()\n",
    "        epss_score = epss_json.get(\"data\", [{}])[0].get(\"epss\")\n",
    "    except:\n",
    "        epss_score = None\n",
    "\n",
    "    return mitre_data, epss_score"
   ]
  },
  {
   "cell_type": "markdown",
   "id": "a017ce25-2228-4d1f-a184-551b9b74d8ae",
   "metadata": {},
   "source": [
    "# Etape 4 : Consolidation des données"
   ]
  },
  {
   "cell_type": "code",
   "execution_count": 26,
   "id": "968ee2d2-8d85-45fd-acef-3e7efa76f38d",
   "metadata": {},
   "outputs": [],
   "source": [
    "def get_data_from_mitre(mitre_data):\n",
    "    try:\n",
    "        description = mitre_data.get('containers', {}).get('cna', {}).get('description', [{}])[0].get('value')\n",
    "    except:\n",
    "        description = None\n",
    "\n",
    "    try:\n",
    "        problem_type = mitre_data.get('containers', {}).get('cna', {}).get('problemTypes', [{}])[0].get('descriptions', [{}])\n",
    "        cwe = problem_type[0].get(\"cweId\", \"Non disponible\")\n",
    "        cwe_desc = problem_type[0].get(\"description\", \"Non disponible\")\n",
    "    except:\n",
    "        cwe, cwe_desc = \"Non disponible\", \"Non disponible\"\n",
    "\n",
    "    try:\n",
    "        affected = mitre_data.get('containers', {}).get('cna', {}).get('affected', [{}])\n",
    "        vendor = affected[0].get('vendor', None)\n",
    "        product = affected[0].get('product', None)\n",
    "        versions = [v.get('version') for v in affected[0].get('versions', []) if v.get('status') == 'affected']\n",
    "    except:\n",
    "        vendor, product, versions = None, None, []\n",
    "\n",
    "    try:\n",
    "        cvss_info = mitre_data.get('containers', {}).get('cna', {}).get('metrics', [{}])[0]\n",
    "        k = next((key for key in cvss_info if key.startswith('cvss')), None)\n",
    "        if k:\n",
    "            cvss_score = cvss_info[k].get('baseScore')\n",
    "            severity = cvss_info[k].get('baseSeverity')\n",
    "        else:\n",
    "            cvss_score, severity = None, None\n",
    "    except:\n",
    "        cvss_score, severity = None, None\n",
    "\n",
    "    return {\n",
    "        'description': description,\n",
    "        'cwe': cwe,\n",
    "        'cwe_desc': cwe_desc,\n",
    "        'vendor': vendor, \n",
    "        'product': product,\n",
    "        'versions': versions,\n",
    "        'cvss': cvss_score,\n",
    "        'severity': severity\n",
    "    }\n"
   ]
  },
  {
   "cell_type": "code",
   "execution_count": 27,
   "id": "e1c8a2f0-e3cb-405f-bcbc-b618061e8383",
   "metadata": {},
   "outputs": [],
   "source": [
    "def get_data(rss_entries):\n",
    "    data = []  \n",
    "    for entry in rss_entries:\n",
    "        cves, entry_data = extract_cves_from_json(entry['link'])\n",
    "        for cve_dico in cves:\n",
    "            mitre_data, epss_score = enrich_cve(cve_dico['name'])\n",
    "            mitre_dico = get_data_from_mitre(mitre_data)\n",
    "            dico = {\n",
    "                'id': entry['id'],\n",
    "                'title': entry['title'],\n",
    "                'type': entry['type'],\n",
    "                'date': entry['date'],\n",
    "                'link': entry['link'],\n",
    "                'cve_id': cve_dico['name'],\n",
    "                'description': mitre_dico['description'],\n",
    "                'cwe': mitre_dico['cwe'],\n",
    "                'cwe_desc' :mitre_dico['cwe_desc'],\n",
    "                'vendor': mitre_dico['vendor'],\n",
    "                'product': mitre_dico['product'],\n",
    "                'affected_versions': mitre_dico['versions'],\n",
    "                'epss' : epss_score,\n",
    "                'cvss': mitre_dico['cvss'],\n",
    "                'severity': mitre_dico['severity']\n",
    "            }\n",
    "            data.append(dico)\n",
    "            \n",
    "    return data\n",
    "        "
   ]
  },
  {
   "cell_type": "code",
   "execution_count": 28,
   "id": "cd4ce31e-9ae9-40f1-b9c3-b22aef4ddd5b",
   "metadata": {},
   "outputs": [],
   "source": [
    "data = get_data(rss_entries)"
   ]
  },
  {
   "cell_type": "code",
   "execution_count": 35,
   "id": "0d039027-9a6d-4ce7-83b6-ea446ef0117e",
   "metadata": {},
   "outputs": [
    {
     "data": {
      "text/plain": [
       "(1280, 15)"
      ]
     },
     "execution_count": 35,
     "metadata": {},
     "output_type": "execute_result"
    }
   ],
   "source": [
    "df = pd.DataFrame(data)\n",
    "df.shape"
   ]
  },
  {
   "cell_type": "code",
   "execution_count": 37,
   "id": "eb9dc34f-5e0b-4eee-aafc-6db1318e92af",
   "metadata": {},
   "outputs": [
    {
     "data": {
      "text/html": [
       "<div>\n",
       "<style scoped>\n",
       "    .dataframe tbody tr th:only-of-type {\n",
       "        vertical-align: middle;\n",
       "    }\n",
       "\n",
       "    .dataframe tbody tr th {\n",
       "        vertical-align: top;\n",
       "    }\n",
       "\n",
       "    .dataframe thead th {\n",
       "        text-align: right;\n",
       "    }\n",
       "</style>\n",
       "<table border=\"1\" class=\"dataframe\">\n",
       "  <thead>\n",
       "    <tr style=\"text-align: right;\">\n",
       "      <th></th>\n",
       "      <th>id</th>\n",
       "      <th>title</th>\n",
       "      <th>type</th>\n",
       "      <th>date</th>\n",
       "      <th>link</th>\n",
       "      <th>cve_id</th>\n",
       "      <th>description</th>\n",
       "      <th>cwe</th>\n",
       "      <th>cwe_desc</th>\n",
       "      <th>vendor</th>\n",
       "      <th>product</th>\n",
       "      <th>affected_versions</th>\n",
       "      <th>epss</th>\n",
       "      <th>cvss</th>\n",
       "      <th>severity</th>\n",
       "    </tr>\n",
       "  </thead>\n",
       "  <tbody>\n",
       "    <tr>\n",
       "      <th>1275</th>\n",
       "      <td>CERTFR-2025-ALE-005</td>\n",
       "      <td>Vulnérabilité dans SAP NetWeaver (28 avril 2025)</td>\n",
       "      <td>Alerte</td>\n",
       "      <td>Mon, 28 Apr 2025 00:00:00 +0000</td>\n",
       "      <td>https://www.cert.ssi.gouv.fr/alerte/CERTFR-202...</td>\n",
       "      <td>CVE-2025-31324</td>\n",
       "      <td>None</td>\n",
       "      <td>CWE-434</td>\n",
       "      <td>CWE-434: Unrestricted Upload of File with Dang...</td>\n",
       "      <td>SAP_SE</td>\n",
       "      <td>SAP NetWeaver (Visual Composer development ser...</td>\n",
       "      <td>[VCFRAMEWORK 7.50]</td>\n",
       "      <td>0.744460000</td>\n",
       "      <td>10.0</td>\n",
       "      <td>CRITICAL</td>\n",
       "    </tr>\n",
       "    <tr>\n",
       "      <th>1276</th>\n",
       "      <td>CERTFR-2025-ALE-006</td>\n",
       "      <td>Vulnérabilité dans les produits Fortinet (13 m...</td>\n",
       "      <td>Alerte</td>\n",
       "      <td>Tue, 13 May 2025 00:00:00 +0000</td>\n",
       "      <td>https://www.cert.ssi.gouv.fr/alerte/CERTFR-202...</td>\n",
       "      <td>CVE-2025-32756</td>\n",
       "      <td>None</td>\n",
       "      <td>CWE-121</td>\n",
       "      <td>Execute unauthorized code or commands</td>\n",
       "      <td>Fortinet</td>\n",
       "      <td>FortiVoice</td>\n",
       "      <td>[7.2.0, 7.0.0, 6.4.0]</td>\n",
       "      <td>0.107360000</td>\n",
       "      <td>9.6</td>\n",
       "      <td>CRITICAL</td>\n",
       "    </tr>\n",
       "    <tr>\n",
       "      <th>1277</th>\n",
       "      <td>CERTFR-2025-ALE-007</td>\n",
       "      <td>Multiples vulnérabilités dans Ivanti Endpoint ...</td>\n",
       "      <td>Alerte</td>\n",
       "      <td>Wed, 14 May 2025 00:00:00 +0000</td>\n",
       "      <td>https://www.cert.ssi.gouv.fr/alerte/CERTFR-202...</td>\n",
       "      <td>CVE-2025-4427</td>\n",
       "      <td>None</td>\n",
       "      <td>CWE-288</td>\n",
       "      <td>CWE-288: Authentication Bypass Using an Altern...</td>\n",
       "      <td>Ivanti</td>\n",
       "      <td>Endpoint Manager Mobile</td>\n",
       "      <td>[]</td>\n",
       "      <td>0.801990000</td>\n",
       "      <td>5.3</td>\n",
       "      <td>MEDIUM</td>\n",
       "    </tr>\n",
       "    <tr>\n",
       "      <th>1278</th>\n",
       "      <td>CERTFR-2025-ALE-007</td>\n",
       "      <td>Multiples vulnérabilités dans Ivanti Endpoint ...</td>\n",
       "      <td>Alerte</td>\n",
       "      <td>Wed, 14 May 2025 00:00:00 +0000</td>\n",
       "      <td>https://www.cert.ssi.gouv.fr/alerte/CERTFR-202...</td>\n",
       "      <td>CVE-2025-4428</td>\n",
       "      <td>None</td>\n",
       "      <td>CWE-94</td>\n",
       "      <td>CWE-94: Improper Control of Generation of Code...</td>\n",
       "      <td>Ivanti</td>\n",
       "      <td>Endpoint Manager Mobile</td>\n",
       "      <td>[]</td>\n",
       "      <td>0.155390000</td>\n",
       "      <td>7.2</td>\n",
       "      <td>HIGH</td>\n",
       "    </tr>\n",
       "    <tr>\n",
       "      <th>1279</th>\n",
       "      <td>CERTFR-2025-ALE-008</td>\n",
       "      <td>[MàJ] Vulnérabilité dans Roundcube (05 juin 2025)</td>\n",
       "      <td>Alerte</td>\n",
       "      <td>Thu, 05 Jun 2025 00:00:00 +0000</td>\n",
       "      <td>https://www.cert.ssi.gouv.fr/alerte/CERTFR-202...</td>\n",
       "      <td>CVE-2025-49113</td>\n",
       "      <td>None</td>\n",
       "      <td>CWE-502</td>\n",
       "      <td>CWE-502 Deserialization of Untrusted Data</td>\n",
       "      <td>Roundcube</td>\n",
       "      <td>Webmail</td>\n",
       "      <td>[0, 1.6.0]</td>\n",
       "      <td>0.730800000</td>\n",
       "      <td>9.9</td>\n",
       "      <td>CRITICAL</td>\n",
       "    </tr>\n",
       "  </tbody>\n",
       "</table>\n",
       "</div>"
      ],
      "text/plain": [
       "                       id                                              title  \\\n",
       "1275  CERTFR-2025-ALE-005   Vulnérabilité dans SAP NetWeaver (28 avril 2025)   \n",
       "1276  CERTFR-2025-ALE-006  Vulnérabilité dans les produits Fortinet (13 m...   \n",
       "1277  CERTFR-2025-ALE-007  Multiples vulnérabilités dans Ivanti Endpoint ...   \n",
       "1278  CERTFR-2025-ALE-007  Multiples vulnérabilités dans Ivanti Endpoint ...   \n",
       "1279  CERTFR-2025-ALE-008  [MàJ] Vulnérabilité dans Roundcube (05 juin 2025)   \n",
       "\n",
       "        type                             date  \\\n",
       "1275  Alerte  Mon, 28 Apr 2025 00:00:00 +0000   \n",
       "1276  Alerte  Tue, 13 May 2025 00:00:00 +0000   \n",
       "1277  Alerte  Wed, 14 May 2025 00:00:00 +0000   \n",
       "1278  Alerte  Wed, 14 May 2025 00:00:00 +0000   \n",
       "1279  Alerte  Thu, 05 Jun 2025 00:00:00 +0000   \n",
       "\n",
       "                                                   link          cve_id  \\\n",
       "1275  https://www.cert.ssi.gouv.fr/alerte/CERTFR-202...  CVE-2025-31324   \n",
       "1276  https://www.cert.ssi.gouv.fr/alerte/CERTFR-202...  CVE-2025-32756   \n",
       "1277  https://www.cert.ssi.gouv.fr/alerte/CERTFR-202...   CVE-2025-4427   \n",
       "1278  https://www.cert.ssi.gouv.fr/alerte/CERTFR-202...   CVE-2025-4428   \n",
       "1279  https://www.cert.ssi.gouv.fr/alerte/CERTFR-202...  CVE-2025-49113   \n",
       "\n",
       "     description      cwe                                           cwe_desc  \\\n",
       "1275        None  CWE-434  CWE-434: Unrestricted Upload of File with Dang...   \n",
       "1276        None  CWE-121              Execute unauthorized code or commands   \n",
       "1277        None  CWE-288  CWE-288: Authentication Bypass Using an Altern...   \n",
       "1278        None   CWE-94  CWE-94: Improper Control of Generation of Code...   \n",
       "1279        None  CWE-502          CWE-502 Deserialization of Untrusted Data   \n",
       "\n",
       "         vendor                                            product  \\\n",
       "1275     SAP_SE  SAP NetWeaver (Visual Composer development ser...   \n",
       "1276   Fortinet                                         FortiVoice   \n",
       "1277     Ivanti                            Endpoint Manager Mobile   \n",
       "1278     Ivanti                            Endpoint Manager Mobile   \n",
       "1279  Roundcube                                            Webmail   \n",
       "\n",
       "          affected_versions         epss  cvss  severity  \n",
       "1275     [VCFRAMEWORK 7.50]  0.744460000  10.0  CRITICAL  \n",
       "1276  [7.2.0, 7.0.0, 6.4.0]  0.107360000   9.6  CRITICAL  \n",
       "1277                     []  0.801990000   5.3    MEDIUM  \n",
       "1278                     []  0.155390000   7.2      HIGH  \n",
       "1279             [0, 1.6.0]  0.730800000   9.9  CRITICAL  "
      ]
     },
     "execution_count": 37,
     "metadata": {},
     "output_type": "execute_result"
    }
   ],
   "source": [
    "df.tail()"
   ]
  }
 ],
 "metadata": {
  "kernelspec": {
   "display_name": "Python [conda env:base] *",
   "language": "python",
   "name": "conda-base-py"
  },
  "language_info": {
   "codemirror_mode": {
    "name": "ipython",
    "version": 3
   },
   "file_extension": ".py",
   "mimetype": "text/x-python",
   "name": "python",
   "nbconvert_exporter": "python",
   "pygments_lexer": "ipython3",
   "version": "3.12.7"
  }
 },
 "nbformat": 4,
 "nbformat_minor": 5
}
